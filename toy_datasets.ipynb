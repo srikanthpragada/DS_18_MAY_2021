{
 "cells": [
  {
   "cell_type": "markdown",
   "id": "31128479-a798-45ee-b008-b9a8296680cd",
   "metadata": {},
   "source": [
    "### Toy dataset"
   ]
  },
  {
   "cell_type": "code",
   "execution_count": 2,
   "id": "e21d51ec-ed75-4422-8eb4-a40b690a9211",
   "metadata": {},
   "outputs": [],
   "source": [
    "import sklearn.datasets "
   ]
  },
  {
   "cell_type": "code",
   "execution_count": 3,
   "id": "106ae94c-21da-4c88-b22c-03628582f4df",
   "metadata": {},
   "outputs": [],
   "source": [
    "bunch = sklearn.datasets.load_diabetes()"
   ]
  },
  {
   "cell_type": "code",
   "execution_count": 25,
   "id": "c5dc2f0a-e54a-4245-a828-009243cc011a",
   "metadata": {},
   "outputs": [],
   "source": [
    "X = bunch.data   # Matrix"
   ]
  },
  {
   "cell_type": "code",
   "execution_count": 24,
   "id": "c11df7a2-1eaa-48f2-b752-0e9475df7a5e",
   "metadata": {},
   "outputs": [],
   "source": [
    "y = bunch.target  # Vector"
   ]
  },
  {
   "cell_type": "code",
   "execution_count": 18,
   "id": "596dbb9e-9c3d-4546-8fca-778047a288b8",
   "metadata": {},
   "outputs": [],
   "source": [
    "bunch = sklearn.datasets.load_diabetes(as_frame=True)"
   ]
  },
  {
   "cell_type": "code",
   "execution_count": 26,
   "id": "b1ba74ea-72ba-422a-ace6-2e59286d5097",
   "metadata": {},
   "outputs": [],
   "source": [
    "X = bunch.data"
   ]
  },
  {
   "cell_type": "code",
   "execution_count": 27,
   "id": "5f2024eb-a834-4485-99c7-be1d75c85cb4",
   "metadata": {},
   "outputs": [
    {
     "data": {
      "text/html": [
       "<div>\n",
       "<style scoped>\n",
       "    .dataframe tbody tr th:only-of-type {\n",
       "        vertical-align: middle;\n",
       "    }\n",
       "\n",
       "    .dataframe tbody tr th {\n",
       "        vertical-align: top;\n",
       "    }\n",
       "\n",
       "    .dataframe thead th {\n",
       "        text-align: right;\n",
       "    }\n",
       "</style>\n",
       "<table border=\"1\" class=\"dataframe\">\n",
       "  <thead>\n",
       "    <tr style=\"text-align: right;\">\n",
       "      <th></th>\n",
       "      <th>age</th>\n",
       "      <th>sex</th>\n",
       "      <th>bmi</th>\n",
       "      <th>bp</th>\n",
       "      <th>s1</th>\n",
       "      <th>s2</th>\n",
       "      <th>s3</th>\n",
       "      <th>s4</th>\n",
       "      <th>s5</th>\n",
       "      <th>s6</th>\n",
       "    </tr>\n",
       "  </thead>\n",
       "  <tbody>\n",
       "    <tr>\n",
       "      <th>399</th>\n",
       "      <td>0.059871</td>\n",
       "      <td>0.050680</td>\n",
       "      <td>0.022895</td>\n",
       "      <td>0.049415</td>\n",
       "      <td>0.016318</td>\n",
       "      <td>0.011838</td>\n",
       "      <td>-0.013948</td>\n",
       "      <td>-0.002592</td>\n",
       "      <td>0.039540</td>\n",
       "      <td>0.019633</td>\n",
       "    </tr>\n",
       "    <tr>\n",
       "      <th>372</th>\n",
       "      <td>-0.027310</td>\n",
       "      <td>0.050680</td>\n",
       "      <td>-0.023451</td>\n",
       "      <td>-0.015999</td>\n",
       "      <td>0.013567</td>\n",
       "      <td>0.012778</td>\n",
       "      <td>0.026550</td>\n",
       "      <td>-0.002592</td>\n",
       "      <td>-0.010904</td>\n",
       "      <td>-0.021788</td>\n",
       "    </tr>\n",
       "    <tr>\n",
       "      <th>424</th>\n",
       "      <td>0.001751</td>\n",
       "      <td>0.050680</td>\n",
       "      <td>0.011039</td>\n",
       "      <td>-0.019442</td>\n",
       "      <td>-0.016704</td>\n",
       "      <td>-0.003819</td>\n",
       "      <td>-0.047082</td>\n",
       "      <td>0.034309</td>\n",
       "      <td>0.024053</td>\n",
       "      <td>0.023775</td>\n",
       "    </tr>\n",
       "    <tr>\n",
       "      <th>70</th>\n",
       "      <td>-0.001882</td>\n",
       "      <td>-0.044642</td>\n",
       "      <td>-0.069797</td>\n",
       "      <td>-0.012556</td>\n",
       "      <td>-0.000193</td>\n",
       "      <td>-0.009143</td>\n",
       "      <td>0.070730</td>\n",
       "      <td>-0.039493</td>\n",
       "      <td>-0.062913</td>\n",
       "      <td>0.040343</td>\n",
       "    </tr>\n",
       "    <tr>\n",
       "      <th>154</th>\n",
       "      <td>0.067136</td>\n",
       "      <td>0.050680</td>\n",
       "      <td>0.020739</td>\n",
       "      <td>-0.005671</td>\n",
       "      <td>0.020446</td>\n",
       "      <td>0.026243</td>\n",
       "      <td>-0.002903</td>\n",
       "      <td>-0.002592</td>\n",
       "      <td>0.008640</td>\n",
       "      <td>0.003064</td>\n",
       "    </tr>\n",
       "    <tr>\n",
       "      <th>317</th>\n",
       "      <td>0.019913</td>\n",
       "      <td>-0.044642</td>\n",
       "      <td>-0.034229</td>\n",
       "      <td>0.055153</td>\n",
       "      <td>0.067229</td>\n",
       "      <td>0.074155</td>\n",
       "      <td>-0.006584</td>\n",
       "      <td>0.032833</td>\n",
       "      <td>0.024725</td>\n",
       "      <td>0.069338</td>\n",
       "    </tr>\n",
       "    <tr>\n",
       "      <th>188</th>\n",
       "      <td>0.005383</td>\n",
       "      <td>-0.044642</td>\n",
       "      <td>-0.002973</td>\n",
       "      <td>0.049415</td>\n",
       "      <td>0.074108</td>\n",
       "      <td>0.070710</td>\n",
       "      <td>0.044958</td>\n",
       "      <td>-0.002592</td>\n",
       "      <td>-0.001499</td>\n",
       "      <td>-0.009362</td>\n",
       "    </tr>\n",
       "    <tr>\n",
       "      <th>217</th>\n",
       "      <td>0.074401</td>\n",
       "      <td>-0.044642</td>\n",
       "      <td>0.031517</td>\n",
       "      <td>0.101058</td>\n",
       "      <td>0.046589</td>\n",
       "      <td>0.036890</td>\n",
       "      <td>0.015505</td>\n",
       "      <td>-0.002592</td>\n",
       "      <td>0.033657</td>\n",
       "      <td>0.044485</td>\n",
       "    </tr>\n",
       "    <tr>\n",
       "      <th>3</th>\n",
       "      <td>-0.089063</td>\n",
       "      <td>-0.044642</td>\n",
       "      <td>-0.011595</td>\n",
       "      <td>-0.036656</td>\n",
       "      <td>0.012191</td>\n",
       "      <td>0.024991</td>\n",
       "      <td>-0.036038</td>\n",
       "      <td>0.034309</td>\n",
       "      <td>0.022692</td>\n",
       "      <td>-0.009362</td>\n",
       "    </tr>\n",
       "    <tr>\n",
       "      <th>293</th>\n",
       "      <td>-0.070900</td>\n",
       "      <td>-0.044642</td>\n",
       "      <td>0.092953</td>\n",
       "      <td>0.012691</td>\n",
       "      <td>0.020446</td>\n",
       "      <td>0.042527</td>\n",
       "      <td>0.000779</td>\n",
       "      <td>0.000360</td>\n",
       "      <td>-0.054544</td>\n",
       "      <td>-0.001078</td>\n",
       "    </tr>\n",
       "  </tbody>\n",
       "</table>\n",
       "</div>"
      ],
      "text/plain": [
       "          age       sex       bmi        bp        s1        s2        s3  \\\n",
       "399  0.059871  0.050680  0.022895  0.049415  0.016318  0.011838 -0.013948   \n",
       "372 -0.027310  0.050680 -0.023451 -0.015999  0.013567  0.012778  0.026550   \n",
       "424  0.001751  0.050680  0.011039 -0.019442 -0.016704 -0.003819 -0.047082   \n",
       "70  -0.001882 -0.044642 -0.069797 -0.012556 -0.000193 -0.009143  0.070730   \n",
       "154  0.067136  0.050680  0.020739 -0.005671  0.020446  0.026243 -0.002903   \n",
       "317  0.019913 -0.044642 -0.034229  0.055153  0.067229  0.074155 -0.006584   \n",
       "188  0.005383 -0.044642 -0.002973  0.049415  0.074108  0.070710  0.044958   \n",
       "217  0.074401 -0.044642  0.031517  0.101058  0.046589  0.036890  0.015505   \n",
       "3   -0.089063 -0.044642 -0.011595 -0.036656  0.012191  0.024991 -0.036038   \n",
       "293 -0.070900 -0.044642  0.092953  0.012691  0.020446  0.042527  0.000779   \n",
       "\n",
       "           s4        s5        s6  \n",
       "399 -0.002592  0.039540  0.019633  \n",
       "372 -0.002592 -0.010904 -0.021788  \n",
       "424  0.034309  0.024053  0.023775  \n",
       "70  -0.039493 -0.062913  0.040343  \n",
       "154 -0.002592  0.008640  0.003064  \n",
       "317  0.032833  0.024725  0.069338  \n",
       "188 -0.002592 -0.001499 -0.009362  \n",
       "217 -0.002592  0.033657  0.044485  \n",
       "3    0.034309  0.022692 -0.009362  \n",
       "293  0.000360 -0.054544 -0.001078  "
      ]
     },
     "execution_count": 27,
     "metadata": {},
     "output_type": "execute_result"
    }
   ],
   "source": [
    "X.sample(10)"
   ]
  },
  {
   "cell_type": "code",
   "execution_count": 28,
   "id": "175ace67-1fe6-4790-907f-628f5b8267ff",
   "metadata": {},
   "outputs": [],
   "source": [
    "y = bunch.target"
   ]
  },
  {
   "cell_type": "code",
   "execution_count": 29,
   "id": "6a2531bf-6c90-43fd-9c1e-1afde8ac851b",
   "metadata": {},
   "outputs": [
    {
     "data": {
      "text/plain": [
       "pandas.core.series.Series"
      ]
     },
     "execution_count": 29,
     "metadata": {},
     "output_type": "execute_result"
    }
   ],
   "source": [
    "type(y)"
   ]
  },
  {
   "cell_type": "code",
   "execution_count": 30,
   "id": "34347252-4ab2-41ce-8a2e-4f00a1f5f905",
   "metadata": {},
   "outputs": [
    {
     "data": {
      "text/plain": [
       "35     102.0\n",
       "3      206.0\n",
       "258     89.0\n",
       "308    114.0\n",
       "423     91.0\n",
       "291    248.0\n",
       "118    179.0\n",
       "200    158.0\n",
       "168    268.0\n",
       "43      92.0\n",
       "Name: target, dtype: float64"
      ]
     },
     "execution_count": 30,
     "metadata": {},
     "output_type": "execute_result"
    }
   ],
   "source": [
    "y.sample(10)"
   ]
  },
  {
   "cell_type": "code",
   "execution_count": null,
   "id": "5683667e-34aa-46b6-a054-7df257cc6713",
   "metadata": {},
   "outputs": [],
   "source": []
  }
 ],
 "metadata": {
  "kernelspec": {
   "display_name": "Python 3",
   "language": "python",
   "name": "python3"
  },
  "language_info": {
   "codemirror_mode": {
    "name": "ipython",
    "version": 3
   },
   "file_extension": ".py",
   "mimetype": "text/x-python",
   "name": "python",
   "nbconvert_exporter": "python",
   "pygments_lexer": "ipython3",
   "version": "3.8.8"
  }
 },
 "nbformat": 4,
 "nbformat_minor": 5
}
