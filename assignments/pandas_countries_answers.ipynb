{
 "cells": [
  {
   "cell_type": "markdown",
   "metadata": {},
   "source": [
    "<h1 style='color:blue'>Assignments related to Pandas using Countries Dataset</h1>"
   ]
  },
  {
   "cell_type": "code",
   "execution_count": 2,
   "metadata": {
    "collapsed": true,
    "jupyter": {
     "outputs_hidden": true
    }
   },
   "outputs": [],
   "source": [
    "import pandas as pd\n",
    "import numpy as np\n",
    "import matplotlib.pyplot as plt\n",
    "import seaborn as sns"
   ]
  },
  {
   "cell_type": "code",
   "execution_count": 3,
   "metadata": {
    "collapsed": true,
    "jupyter": {
     "outputs_hidden": true
    }
   },
   "outputs": [],
   "source": [
    "cdf = pd.read_json(\"https://restcountries.eu/rest/v2/all\")"
   ]
  },
  {
   "cell_type": "markdown",
   "metadata": {},
   "source": [
    "#### Display country names in regions - Asia, Africa and Europe"
   ]
  },
  {
   "cell_type": "code",
   "execution_count": 4,
   "metadata": {
    "collapsed": true,
    "jupyter": {
     "outputs_hidden": true
    }
   },
   "outputs": [
    {
     "data": {
      "text/html": [
       "<div>\n",
       "<style scoped>\n",
       "    .dataframe tbody tr th:only-of-type {\n",
       "        vertical-align: middle;\n",
       "    }\n",
       "\n",
       "    .dataframe tbody tr th {\n",
       "        vertical-align: top;\n",
       "    }\n",
       "\n",
       "    .dataframe thead th {\n",
       "        text-align: right;\n",
       "    }\n",
       "</style>\n",
       "<table border=\"1\" class=\"dataframe\">\n",
       "  <thead>\n",
       "    <tr style=\"text-align: right;\">\n",
       "      <th></th>\n",
       "      <th>name</th>\n",
       "      <th>region</th>\n",
       "    </tr>\n",
       "  </thead>\n",
       "  <tbody>\n",
       "    <tr>\n",
       "      <th>0</th>\n",
       "      <td>Afghanistan</td>\n",
       "      <td>Asia</td>\n",
       "    </tr>\n",
       "    <tr>\n",
       "      <th>1</th>\n",
       "      <td>Åland Islands</td>\n",
       "      <td>Europe</td>\n",
       "    </tr>\n",
       "    <tr>\n",
       "      <th>2</th>\n",
       "      <td>Albania</td>\n",
       "      <td>Europe</td>\n",
       "    </tr>\n",
       "    <tr>\n",
       "      <th>3</th>\n",
       "      <td>Algeria</td>\n",
       "      <td>Africa</td>\n",
       "    </tr>\n",
       "    <tr>\n",
       "      <th>5</th>\n",
       "      <td>Andorra</td>\n",
       "      <td>Europe</td>\n",
       "    </tr>\n",
       "    <tr>\n",
       "      <th>...</th>\n",
       "      <td>...</td>\n",
       "      <td>...</td>\n",
       "    </tr>\n",
       "    <tr>\n",
       "      <th>244</th>\n",
       "      <td>Viet Nam</td>\n",
       "      <td>Asia</td>\n",
       "    </tr>\n",
       "    <tr>\n",
       "      <th>246</th>\n",
       "      <td>Western Sahara</td>\n",
       "      <td>Africa</td>\n",
       "    </tr>\n",
       "    <tr>\n",
       "      <th>247</th>\n",
       "      <td>Yemen</td>\n",
       "      <td>Asia</td>\n",
       "    </tr>\n",
       "    <tr>\n",
       "      <th>248</th>\n",
       "      <td>Zambia</td>\n",
       "      <td>Africa</td>\n",
       "    </tr>\n",
       "    <tr>\n",
       "      <th>249</th>\n",
       "      <td>Zimbabwe</td>\n",
       "      <td>Africa</td>\n",
       "    </tr>\n",
       "  </tbody>\n",
       "</table>\n",
       "<p>163 rows × 2 columns</p>\n",
       "</div>"
      ],
      "text/plain": [
       "               name  region\n",
       "0       Afghanistan    Asia\n",
       "1     Åland Islands  Europe\n",
       "2           Albania  Europe\n",
       "3           Algeria  Africa\n",
       "5           Andorra  Europe\n",
       "..              ...     ...\n",
       "244        Viet Nam    Asia\n",
       "246  Western Sahara  Africa\n",
       "247           Yemen    Asia\n",
       "248          Zambia  Africa\n",
       "249        Zimbabwe  Africa\n",
       "\n",
       "[163 rows x 2 columns]"
      ]
     },
     "execution_count": 4,
     "metadata": {},
     "output_type": "execute_result"
    }
   ],
   "source": [
    "cdf.loc[cdf['region'].isin(['Asia','Africa','Europe']),['name','region']]"
   ]
  },
  {
   "cell_type": "markdown",
   "metadata": {},
   "source": [
    "#### Display top 5 countries based on population"
   ]
  },
  {
   "cell_type": "code",
   "execution_count": 5,
   "metadata": {
    "collapsed": true,
    "jupyter": {
     "outputs_hidden": true
    }
   },
   "outputs": [
    {
     "data": {
      "text/html": [
       "<div>\n",
       "<style scoped>\n",
       "    .dataframe tbody tr th:only-of-type {\n",
       "        vertical-align: middle;\n",
       "    }\n",
       "\n",
       "    .dataframe tbody tr th {\n",
       "        vertical-align: top;\n",
       "    }\n",
       "\n",
       "    .dataframe thead th {\n",
       "        text-align: right;\n",
       "    }\n",
       "</style>\n",
       "<table border=\"1\" class=\"dataframe\">\n",
       "  <thead>\n",
       "    <tr style=\"text-align: right;\">\n",
       "      <th></th>\n",
       "      <th>name</th>\n",
       "      <th>population</th>\n",
       "    </tr>\n",
       "  </thead>\n",
       "  <tbody>\n",
       "    <tr>\n",
       "      <th>48</th>\n",
       "      <td>China</td>\n",
       "      <td>1377422166</td>\n",
       "    </tr>\n",
       "    <tr>\n",
       "      <th>104</th>\n",
       "      <td>India</td>\n",
       "      <td>1295210000</td>\n",
       "    </tr>\n",
       "    <tr>\n",
       "      <th>239</th>\n",
       "      <td>United States of America</td>\n",
       "      <td>323947000</td>\n",
       "    </tr>\n",
       "    <tr>\n",
       "      <th>105</th>\n",
       "      <td>Indonesia</td>\n",
       "      <td>258705000</td>\n",
       "    </tr>\n",
       "    <tr>\n",
       "      <th>31</th>\n",
       "      <td>Brazil</td>\n",
       "      <td>206135893</td>\n",
       "    </tr>\n",
       "  </tbody>\n",
       "</table>\n",
       "</div>"
      ],
      "text/plain": [
       "                         name  population\n",
       "48                      China  1377422166\n",
       "104                     India  1295210000\n",
       "239  United States of America   323947000\n",
       "105                 Indonesia   258705000\n",
       "31                     Brazil   206135893"
      ]
     },
     "execution_count": 5,
     "metadata": {},
     "output_type": "execute_result"
    }
   ],
   "source": [
    "cdf.nlargest(5,'population')[['name','population']]"
   ]
  },
  {
   "cell_type": "markdown",
   "metadata": {},
   "source": [
    "#### Display country name, population, region for countries where area of the country is more than 50,00,000 sq. kms."
   ]
  },
  {
   "cell_type": "code",
   "execution_count": 6,
   "metadata": {
    "collapsed": true,
    "jupyter": {
     "outputs_hidden": true
    }
   },
   "outputs": [
    {
     "data": {
      "text/html": [
       "<div>\n",
       "<style scoped>\n",
       "    .dataframe tbody tr th:only-of-type {\n",
       "        vertical-align: middle;\n",
       "    }\n",
       "\n",
       "    .dataframe tbody tr th {\n",
       "        vertical-align: top;\n",
       "    }\n",
       "\n",
       "    .dataframe thead th {\n",
       "        text-align: right;\n",
       "    }\n",
       "</style>\n",
       "<table border=\"1\" class=\"dataframe\">\n",
       "  <thead>\n",
       "    <tr style=\"text-align: right;\">\n",
       "      <th></th>\n",
       "      <th>name</th>\n",
       "      <th>population</th>\n",
       "      <th>region</th>\n",
       "    </tr>\n",
       "  </thead>\n",
       "  <tbody>\n",
       "    <tr>\n",
       "      <th>8</th>\n",
       "      <td>Antarctica</td>\n",
       "      <td>1000</td>\n",
       "      <td>Polar</td>\n",
       "    </tr>\n",
       "    <tr>\n",
       "      <th>13</th>\n",
       "      <td>Australia</td>\n",
       "      <td>24117360</td>\n",
       "      <td>Oceania</td>\n",
       "    </tr>\n",
       "    <tr>\n",
       "      <th>31</th>\n",
       "      <td>Brazil</td>\n",
       "      <td>206135893</td>\n",
       "      <td>Americas</td>\n",
       "    </tr>\n",
       "    <tr>\n",
       "      <th>42</th>\n",
       "      <td>Canada</td>\n",
       "      <td>36155487</td>\n",
       "      <td>Americas</td>\n",
       "    </tr>\n",
       "    <tr>\n",
       "      <th>48</th>\n",
       "      <td>China</td>\n",
       "      <td>1377422166</td>\n",
       "      <td>Asia</td>\n",
       "    </tr>\n",
       "    <tr>\n",
       "      <th>185</th>\n",
       "      <td>Russian Federation</td>\n",
       "      <td>146599183</td>\n",
       "      <td>Europe</td>\n",
       "    </tr>\n",
       "    <tr>\n",
       "      <th>239</th>\n",
       "      <td>United States of America</td>\n",
       "      <td>323947000</td>\n",
       "      <td>Americas</td>\n",
       "    </tr>\n",
       "  </tbody>\n",
       "</table>\n",
       "</div>"
      ],
      "text/plain": [
       "                         name  population    region\n",
       "8                  Antarctica        1000     Polar\n",
       "13                  Australia    24117360   Oceania\n",
       "31                     Brazil   206135893  Americas\n",
       "42                     Canada    36155487  Americas\n",
       "48                      China  1377422166      Asia\n",
       "185        Russian Federation   146599183    Europe\n",
       "239  United States of America   323947000  Americas"
      ]
     },
     "execution_count": 6,
     "metadata": {},
     "output_type": "execute_result"
    }
   ],
   "source": [
    "cdf.loc[cdf['area'] > 5000000,['name','population','region']]"
   ]
  },
  {
   "cell_type": "markdown",
   "metadata": {},
   "source": [
    "#### Display 5 largest countries and 5 smallest countries in terms of area. Ignore countries without area."
   ]
  },
  {
   "cell_type": "code",
   "execution_count": 7,
   "metadata": {
    "collapsed": true,
    "jupyter": {
     "outputs_hidden": true
    }
   },
   "outputs": [
    {
     "data": {
      "text/html": [
       "<div>\n",
       "<style scoped>\n",
       "    .dataframe tbody tr th:only-of-type {\n",
       "        vertical-align: middle;\n",
       "    }\n",
       "\n",
       "    .dataframe tbody tr th {\n",
       "        vertical-align: top;\n",
       "    }\n",
       "\n",
       "    .dataframe thead th {\n",
       "        text-align: right;\n",
       "    }\n",
       "</style>\n",
       "<table border=\"1\" class=\"dataframe\">\n",
       "  <thead>\n",
       "    <tr style=\"text-align: right;\">\n",
       "      <th></th>\n",
       "      <th>name</th>\n",
       "      <th>area</th>\n",
       "    </tr>\n",
       "  </thead>\n",
       "  <tbody>\n",
       "    <tr>\n",
       "      <th>185</th>\n",
       "      <td>Russian Federation</td>\n",
       "      <td>17124442.0</td>\n",
       "    </tr>\n",
       "    <tr>\n",
       "      <th>8</th>\n",
       "      <td>Antarctica</td>\n",
       "      <td>14000000.0</td>\n",
       "    </tr>\n",
       "    <tr>\n",
       "      <th>42</th>\n",
       "      <td>Canada</td>\n",
       "      <td>9984670.0</td>\n",
       "    </tr>\n",
       "    <tr>\n",
       "      <th>48</th>\n",
       "      <td>China</td>\n",
       "      <td>9640011.0</td>\n",
       "    </tr>\n",
       "    <tr>\n",
       "      <th>239</th>\n",
       "      <td>United States of America</td>\n",
       "      <td>9629091.0</td>\n",
       "    </tr>\n",
       "  </tbody>\n",
       "</table>\n",
       "</div>"
      ],
      "text/plain": [
       "                         name        area\n",
       "185        Russian Federation  17124442.0\n",
       "8                  Antarctica  14000000.0\n",
       "42                     Canada   9984670.0\n",
       "48                      China   9640011.0\n",
       "239  United States of America   9629091.0"
      ]
     },
     "execution_count": 7,
     "metadata": {},
     "output_type": "execute_result"
    }
   ],
   "source": [
    "cdf[cdf['area'].notna()].nlargest(5,'area')[['name','area']]"
   ]
  },
  {
   "cell_type": "code",
   "execution_count": 9,
   "metadata": {
    "collapsed": true,
    "jupyter": {
     "outputs_hidden": true
    }
   },
   "outputs": [
    {
     "data": {
      "text/html": [
       "<div>\n",
       "<style scoped>\n",
       "    .dataframe tbody tr th:only-of-type {\n",
       "        vertical-align: middle;\n",
       "    }\n",
       "\n",
       "    .dataframe tbody tr th {\n",
       "        vertical-align: top;\n",
       "    }\n",
       "\n",
       "    .dataframe thead th {\n",
       "        text-align: right;\n",
       "    }\n",
       "</style>\n",
       "<table border=\"1\" class=\"dataframe\">\n",
       "  <thead>\n",
       "    <tr style=\"text-align: right;\">\n",
       "      <th></th>\n",
       "      <th>name</th>\n",
       "      <th>area</th>\n",
       "    </tr>\n",
       "  </thead>\n",
       "  <tbody>\n",
       "    <tr>\n",
       "      <th>99</th>\n",
       "      <td>Holy See</td>\n",
       "      <td>0.44</td>\n",
       "    </tr>\n",
       "    <tr>\n",
       "      <th>147</th>\n",
       "      <td>Monaco</td>\n",
       "      <td>2.02</td>\n",
       "    </tr>\n",
       "    <tr>\n",
       "      <th>86</th>\n",
       "      <td>Gibraltar</td>\n",
       "      <td>6.00</td>\n",
       "    </tr>\n",
       "    <tr>\n",
       "      <th>227</th>\n",
       "      <td>Tokelau</td>\n",
       "      <td>12.00</td>\n",
       "    </tr>\n",
       "    <tr>\n",
       "      <th>50</th>\n",
       "      <td>Cocos (Keeling) Islands</td>\n",
       "      <td>14.00</td>\n",
       "    </tr>\n",
       "  </tbody>\n",
       "</table>\n",
       "</div>"
      ],
      "text/plain": [
       "                        name   area\n",
       "99                  Holy See   0.44\n",
       "147                   Monaco   2.02\n",
       "86                 Gibraltar   6.00\n",
       "227                  Tokelau  12.00\n",
       "50   Cocos (Keeling) Islands  14.00"
      ]
     },
     "execution_count": 9,
     "metadata": {},
     "output_type": "execute_result"
    }
   ],
   "source": [
    "cdf[cdf['area'].notna()].nsmallest(5,'area')[['name','area']]"
   ]
  },
  {
   "cell_type": "markdown",
   "metadata": {},
   "source": [
    "#### Display highest area and the population of that country"
   ]
  },
  {
   "cell_type": "code",
   "execution_count": 10,
   "metadata": {
    "collapsed": true,
    "jupyter": {
     "outputs_hidden": true
    }
   },
   "outputs": [
    {
     "data": {
      "text/html": [
       "<div>\n",
       "<style scoped>\n",
       "    .dataframe tbody tr th:only-of-type {\n",
       "        vertical-align: middle;\n",
       "    }\n",
       "\n",
       "    .dataframe tbody tr th {\n",
       "        vertical-align: top;\n",
       "    }\n",
       "\n",
       "    .dataframe thead th {\n",
       "        text-align: right;\n",
       "    }\n",
       "</style>\n",
       "<table border=\"1\" class=\"dataframe\">\n",
       "  <thead>\n",
       "    <tr style=\"text-align: right;\">\n",
       "      <th></th>\n",
       "      <th>name</th>\n",
       "      <th>area</th>\n",
       "      <th>population</th>\n",
       "    </tr>\n",
       "  </thead>\n",
       "  <tbody>\n",
       "    <tr>\n",
       "      <th>185</th>\n",
       "      <td>Russian Federation</td>\n",
       "      <td>17124442.0</td>\n",
       "      <td>146599183</td>\n",
       "    </tr>\n",
       "  </tbody>\n",
       "</table>\n",
       "</div>"
      ],
      "text/plain": [
       "                   name        area  population\n",
       "185  Russian Federation  17124442.0   146599183"
      ]
     },
     "execution_count": 10,
     "metadata": {},
     "output_type": "execute_result"
    }
   ],
   "source": [
    "cdf.nlargest(1,'area')[['name','area','population']]"
   ]
  },
  {
   "cell_type": "markdown",
   "metadata": {},
   "source": [
    "#### Display countries where the name starts with 'I'"
   ]
  },
  {
   "cell_type": "code",
   "execution_count": 11,
   "metadata": {
    "collapsed": true,
    "jupyter": {
     "outputs_hidden": true
    }
   },
   "outputs": [
    {
     "data": {
      "text/plain": [
       "103                       Iceland\n",
       "104                         India\n",
       "105                     Indonesia\n",
       "107    Iran (Islamic Republic of)\n",
       "108                          Iraq\n",
       "109                       Ireland\n",
       "110                   Isle of Man\n",
       "111                        Israel\n",
       "112                         Italy\n",
       "Name: name, dtype: object"
      ]
     },
     "execution_count": 11,
     "metadata": {},
     "output_type": "execute_result"
    }
   ],
   "source": [
    "cdf[cdf['name'].str.startswith('I')]['name']"
   ]
  },
  {
   "cell_type": "markdown",
   "metadata": {},
   "source": [
    "#### Display country name and names of countries with which the country shares borders (codes)."
   ]
  },
  {
   "cell_type": "code",
   "execution_count": 14,
   "metadata": {
    "collapsed": true,
    "jupyter": {
     "outputs_hidden": true
    }
   },
   "outputs": [
    {
     "data": {
      "text/plain": [
       "0      Afghanistan          IRN,PAK,TKM,UZB,TJK,CHN  ...\n",
       "1      Åland Islands                                 ...\n",
       "2      Albania              MNE,GRC,MKD,KOS          ...\n",
       "3      Algeria              TUN,LBY,NER,ESH,MRT,MLI,M...\n",
       "4      American Samoa                                ...\n",
       "                             ...                        \n",
       "245    Wallis and Futuna                             ...\n",
       "246    Western Sahara       DZA,MRT,MAR              ...\n",
       "247    Yemen                OMN,SAU                  ...\n",
       "248    Zambia               AGO,BWA,COD,MWI,MOZ,NAM,T...\n",
       "249    Zimbabwe             BWA,MOZ,ZAF,ZMB          ...\n",
       "Length: 250, dtype: object"
      ]
     },
     "execution_count": 14,
     "metadata": {},
     "output_type": "execute_result"
    }
   ],
   "source": [
    "cdf.apply(lambda s: f\"{s['name']:20} {','.join(s['borders']):30}\", axis=1)"
   ]
  },
  {
   "cell_type": "code",
   "execution_count": 13,
   "metadata": {
    "collapsed": true,
    "jupyter": {
     "outputs_hidden": true
    }
   },
   "outputs": [
    {
     "name": "stdout",
     "output_type": "stream",
     "text": [
      "Afghanistan                    - IRN,PAK,TKM,UZB,TJK,CHN\n",
      "Åland Islands                  - \n",
      "Albania                        - MNE,GRC,MKD,KOS\n",
      "Algeria                        - TUN,LBY,NER,ESH,MRT,MLI,MAR\n",
      "American Samoa                 - \n",
      "Andorra                        - FRA,ESP\n",
      "Angola                         - COG,COD,ZMB,NAM\n",
      "Anguilla                       - \n",
      "Antarctica                     - \n",
      "Antigua and Barbuda            - \n",
      "Argentina                      - BOL,BRA,CHL,PRY,URY\n",
      "Armenia                        - AZE,GEO,IRN,TUR\n",
      "Aruba                          - \n",
      "Australia                      - \n",
      "Austria                        - CZE,DEU,HUN,ITA,LIE,SVK,SVN,CHE\n",
      "Azerbaijan                     - ARM,GEO,IRN,RUS,TUR\n",
      "Bahamas                        - \n",
      "Bahrain                        - \n",
      "Bangladesh                     - MMR,IND\n",
      "Barbados                       - \n",
      "Belarus                        - LVA,LTU,POL,RUS,UKR\n",
      "Belgium                        - FRA,DEU,LUX,NLD\n",
      "Belize                         - GTM,MEX\n",
      "Benin                          - BFA,NER,NGA,TGO\n",
      "Bermuda                        - \n",
      "Bhutan                         - CHN,IND\n",
      "Bolivia (Plurinational State of) - ARG,BRA,CHL,PRY,PER\n",
      "Bonaire, Sint Eustatius and Saba - \n",
      "Bosnia and Herzegovina         - HRV,MNE,SRB\n",
      "Botswana                       - NAM,ZAF,ZMB,ZWE\n",
      "Bouvet Island                  - \n",
      "Brazil                         - ARG,BOL,COL,GUF,GUY,PRY,PER,SUR,URY,VEN\n",
      "British Indian Ocean Territory - \n",
      "United States Minor Outlying Islands - \n",
      "Virgin Islands (British)       - \n",
      "Virgin Islands (U.S.)          - \n",
      "Brunei Darussalam              - MYS\n",
      "Bulgaria                       - GRC,MKD,ROU,SRB,TUR\n",
      "Burkina Faso                   - BEN,CIV,GHA,MLI,NER,TGO\n",
      "Burundi                        - COD,RWA,TZA\n",
      "Cambodia                       - LAO,THA,VNM\n",
      "Cameroon                       - CAF,TCD,COG,GNQ,GAB,NGA\n",
      "Canada                         - USA\n",
      "Cabo Verde                     - \n",
      "Cayman Islands                 - \n",
      "Central African Republic       - CMR,TCD,COD,COG,SSD,SDN\n",
      "Chad                           - CMR,CAF,LBY,NER,NGA,SSD\n",
      "Chile                          - ARG,BOL,PER\n",
      "China                          - AFG,BTN,MMR,HKG,IND,KAZ,PRK,KGZ,LAO,MAC,MNG,PAK,RUS,TJK,VNM\n",
      "Christmas Island               - \n",
      "Cocos (Keeling) Islands        - \n",
      "Colombia                       - BRA,ECU,PAN,PER,VEN\n",
      "Comoros                        - \n",
      "Congo                          - AGO,CMR,CAF,COD,GAB\n",
      "Congo (Democratic Republic of the) - AGO,BDI,CAF,COG,RWA,SSD,TZA,UGA,ZMB\n",
      "Cook Islands                   - \n",
      "Costa Rica                     - NIC,PAN\n",
      "Croatia                        - BIH,HUN,MNE,SRB,SVN\n",
      "Cuba                           - \n",
      "Curaçao                        - \n",
      "Cyprus                         - GBR\n",
      "Czech Republic                 - AUT,DEU,POL,SVK\n",
      "Denmark                        - DEU\n",
      "Djibouti                       - ERI,ETH,SOM\n",
      "Dominica                       - \n",
      "Dominican Republic             - HTI\n",
      "Ecuador                        - COL,PER\n",
      "Egypt                          - ISR,LBY,SDN\n",
      "El Salvador                    - GTM,HND\n",
      "Equatorial Guinea              - CMR,GAB\n",
      "Eritrea                        - DJI,ETH,SDN\n",
      "Estonia                        - LVA,RUS\n",
      "Ethiopia                       - DJI,ERI,KEN,SOM,SSD,SDN\n",
      "Falkland Islands (Malvinas)    - \n",
      "Faroe Islands                  - \n",
      "Fiji                           - \n",
      "Finland                        - NOR,SWE,RUS\n",
      "France                         - AND,BEL,DEU,ITA,LUX,MCO,ESP,CHE\n",
      "French Guiana                  - BRA,SUR\n",
      "French Polynesia               - \n",
      "French Southern Territories    - \n",
      "Gabon                          - CMR,COG,GNQ\n",
      "Gambia                         - SEN\n",
      "Georgia                        - ARM,AZE,RUS,TUR\n",
      "Germany                        - AUT,BEL,CZE,DNK,FRA,LUX,NLD,POL,CHE\n",
      "Ghana                          - BFA,CIV,TGO\n",
      "Gibraltar                      - ESP\n",
      "Greece                         - ALB,BGR,TUR,MKD\n",
      "Greenland                      - \n",
      "Grenada                        - \n",
      "Guadeloupe                     - \n",
      "Guam                           - \n",
      "Guatemala                      - BLZ,SLV,HND,MEX\n",
      "Guernsey                       - \n",
      "Guinea                         - CIV,GNB,LBR,MLI,SEN,SLE\n",
      "Guinea-Bissau                  - GIN,SEN\n",
      "Guyana                         - BRA,SUR,VEN\n",
      "Haiti                          - DOM\n",
      "Heard Island and McDonald Islands - \n",
      "Holy See                       - ITA\n",
      "Honduras                       - GTM,SLV,NIC\n",
      "Hong Kong                      - CHN\n",
      "Hungary                        - AUT,HRV,ROU,SRB,SVK,SVN,UKR\n",
      "Iceland                        - \n",
      "India                          - AFG,BGD,BTN,MMR,CHN,NPL,PAK,LKA\n",
      "Indonesia                      - TLS,MYS,PNG\n",
      "Côte d'Ivoire                  - BFA,GHA,GIN,LBR,MLI\n",
      "Iran (Islamic Republic of)     - AFG,ARM,AZE,IRQ,PAK,TUR,TKM\n",
      "Iraq                           - IRN,JOR,KWT,SAU,SYR,TUR\n",
      "Ireland                        - GBR\n",
      "Isle of Man                    - \n",
      "Israel                         - EGY,JOR,LBN,SYR\n",
      "Italy                          - AUT,FRA,SMR,SVN,CHE,VAT\n",
      "Jamaica                        - \n",
      "Japan                          - \n",
      "Jersey                         - \n",
      "Jordan                         - IRQ,ISR,SAU,SYR\n",
      "Kazakhstan                     - CHN,KGZ,RUS,TKM,UZB\n",
      "Kenya                          - ETH,SOM,SSD,TZA,UGA\n",
      "Kiribati                       - \n",
      "Kuwait                         - IRN,SAU\n",
      "Kyrgyzstan                     - CHN,KAZ,TJK,UZB\n",
      "Lao People's Democratic Republic - MMR,KHM,CHN,THA,VNM\n",
      "Latvia                         - BLR,EST,LTU,RUS\n",
      "Lebanon                        - ISR,SYR\n",
      "Lesotho                        - ZAF\n",
      "Liberia                        - GIN,CIV,SLE\n",
      "Libya                          - DZA,TCD,EGY,NER,SDN,TUN\n",
      "Liechtenstein                  - AUT,CHE\n",
      "Lithuania                      - BLR,LVA,POL,RUS\n",
      "Luxembourg                     - BEL,FRA,DEU\n",
      "Macao                          - CHN\n",
      "Macedonia (the former Yugoslav Republic of) - ALB,BGR,GRC,KOS,SRB\n",
      "Madagascar                     - \n",
      "Malawi                         - MOZ,TZA,ZMB\n",
      "Malaysia                       - BRN,IDN,THA\n",
      "Maldives                       - \n",
      "Mali                           - DZA,BFA,GIN,CIV,MRT,NER,SEN\n",
      "Malta                          - \n",
      "Marshall Islands               - \n",
      "Martinique                     - \n",
      "Mauritania                     - DZA,MLI,SEN,ESH\n",
      "Mauritius                      - \n",
      "Mayotte                        - \n",
      "Mexico                         - BLZ,GTM,USA\n",
      "Micronesia (Federated States of) - \n",
      "Moldova (Republic of)          - ROU,UKR\n",
      "Monaco                         - FRA\n",
      "Mongolia                       - CHN,RUS\n",
      "Montenegro                     - ALB,BIH,HRV,KOS,SRB\n",
      "Montserrat                     - \n",
      "Morocco                        - DZA,ESH,ESP\n",
      "Mozambique                     - MWI,ZAF,SWZ,TZA,ZMB,ZWE\n",
      "Myanmar                        - BGD,CHN,IND,LAO,THA\n",
      "Namibia                        - AGO,BWA,ZAF,ZMB\n",
      "Nauru                          - \n",
      "Nepal                          - CHN,IND\n",
      "Netherlands                    - BEL,DEU\n",
      "New Caledonia                  - \n",
      "New Zealand                    - \n",
      "Nicaragua                      - CRI,HND\n",
      "Niger                          - DZA,BEN,BFA,TCD,LBY,MLI,NGA\n",
      "Nigeria                        - BEN,CMR,TCD,NER\n",
      "Niue                           - \n",
      "Norfolk Island                 - \n",
      "Korea (Democratic People's Republic of) - CHN,KOR,RUS\n",
      "Northern Mariana Islands       - \n",
      "Norway                         - FIN,SWE,RUS\n",
      "Oman                           - SAU,ARE,YEM\n",
      "Pakistan                       - AFG,CHN,IND,IRN\n",
      "Palau                          - \n",
      "Palestine, State of            - ISR,EGY,JOR\n",
      "Panama                         - COL,CRI\n",
      "Papua New Guinea               - IDN\n",
      "Paraguay                       - ARG,BOL,BRA\n",
      "Peru                           - BOL,BRA,CHL,COL,ECU\n",
      "Philippines                    - \n",
      "Pitcairn                       - \n",
      "Poland                         - BLR,CZE,DEU,LTU,RUS,SVK,UKR\n",
      "Portugal                       - ESP\n",
      "Puerto Rico                    - \n",
      "Qatar                          - SAU\n",
      "Republic of Kosovo             - ALB,MKD,MNE,SRB\n",
      "Réunion                        - \n",
      "Romania                        - BGR,HUN,MDA,SRB,UKR\n",
      "Russian Federation             - AZE,BLR,CHN,EST,FIN,GEO,KAZ,PRK,LVA,LTU,MNG,NOR,POL,UKR\n",
      "Rwanda                         - BDI,COD,TZA,UGA\n",
      "Saint Barthélemy               - \n",
      "Saint Helena, Ascension and Tristan da Cunha - \n",
      "Saint Kitts and Nevis          - \n",
      "Saint Lucia                    - \n",
      "Saint Martin (French part)     - SXM,NLD\n",
      "Saint Pierre and Miquelon      - \n",
      "Saint Vincent and the Grenadines - \n",
      "Samoa                          - \n",
      "San Marino                     - ITA\n",
      "Sao Tome and Principe          - \n",
      "Saudi Arabia                   - IRQ,JOR,KWT,OMN,QAT,ARE,YEM\n",
      "Senegal                        - GMB,GIN,GNB,MLI,MRT\n",
      "Serbia                         - BIH,BGR,HRV,HUN,KOS,MKD,MNE,ROU\n",
      "Seychelles                     - \n",
      "Sierra Leone                   - GIN,LBR\n",
      "Singapore                      - \n",
      "Sint Maarten (Dutch part)      - MAF\n",
      "Slovakia                       - AUT,CZE,HUN,POL,UKR\n",
      "Slovenia                       - AUT,HRV,ITA,HUN\n",
      "Solomon Islands                - \n",
      "Somalia                        - DJI,ETH,KEN\n",
      "South Africa                   - BWA,LSO,MOZ,NAM,SWZ,ZWE\n",
      "South Georgia and the South Sandwich Islands - \n",
      "Korea (Republic of)            - PRK\n",
      "South Sudan                    - CAF,COD,ETH,KEN,SDN,UGA\n",
      "Spain                          - AND,FRA,GIB,PRT,MAR\n",
      "Sri Lanka                      - IND\n",
      "Sudan                          - CAF,TCD,EGY,ERI,ETH,LBY,SSD\n",
      "Suriname                       - BRA,GUF,FRA,GUY\n",
      "Svalbard and Jan Mayen         - \n",
      "Swaziland                      - MOZ,ZAF\n",
      "Sweden                         - FIN,NOR\n",
      "Switzerland                    - AUT,FRA,ITA,LIE,DEU\n",
      "Syrian Arab Republic           - IRQ,ISR,JOR,LBN,TUR\n",
      "Taiwan                         - \n",
      "Tajikistan                     - AFG,CHN,KGZ,UZB\n",
      "Tanzania, United Republic of   - BDI,COD,KEN,MWI,MOZ,RWA,UGA,ZMB\n",
      "Thailand                       - MMR,KHM,LAO,MYS\n",
      "Timor-Leste                    - IDN\n",
      "Togo                           - BEN,BFA,GHA\n",
      "Tokelau                        - \n",
      "Tonga                          - \n",
      "Trinidad and Tobago            - \n",
      "Tunisia                        - DZA,LBY\n",
      "Turkey                         - ARM,AZE,BGR,GEO,GRC,IRN,IRQ,SYR\n",
      "Turkmenistan                   - AFG,IRN,KAZ,UZB\n",
      "Turks and Caicos Islands       - \n",
      "Tuvalu                         - \n",
      "Uganda                         - COD,KEN,RWA,SSD,TZA\n",
      "Ukraine                        - BLR,HUN,MDA,POL,ROU,RUS,SVK\n",
      "United Arab Emirates           - OMN,SAU\n",
      "United Kingdom of Great Britain and Northern Ireland - IRL\n",
      "United States of America       - CAN,MEX\n",
      "Uruguay                        - ARG,BRA\n",
      "Uzbekistan                     - AFG,KAZ,KGZ,TJK,TKM\n",
      "Vanuatu                        - \n",
      "Venezuela (Bolivarian Republic of) - BRA,COL,GUY\n",
      "Viet Nam                       - KHM,CHN,LAO\n",
      "Wallis and Futuna              - \n",
      "Western Sahara                 - DZA,MRT,MAR\n",
      "Yemen                          - OMN,SAU\n",
      "Zambia                         - AGO,BWA,COD,MWI,MOZ,NAM,TZA,ZWE\n",
      "Zimbabwe                       - BWA,MOZ,ZAF,ZMB\n"
     ]
    }
   ],
   "source": [
    "## Another way to print name and borders\n",
    "for i in range(0,len(cdf)):\n",
    "    print(f\"{cdf.iloc[i]['name']:30s} - {','.join(cdf.iloc[i]['borders'])}\")"
   ]
  },
  {
   "cell_type": "markdown",
   "metadata": {},
   "source": [
    "#### Select countries where language English is spoken"
   ]
  },
  {
   "cell_type": "code",
   "execution_count": 15,
   "metadata": {
    "collapsed": true,
    "jupyter": {
     "outputs_hidden": true
    }
   },
   "outputs": [
    {
     "data": {
      "text/html": [
       "<div>\n",
       "<style scoped>\n",
       "    .dataframe tbody tr th:only-of-type {\n",
       "        vertical-align: middle;\n",
       "    }\n",
       "\n",
       "    .dataframe tbody tr th {\n",
       "        vertical-align: top;\n",
       "    }\n",
       "\n",
       "    .dataframe thead th {\n",
       "        text-align: right;\n",
       "    }\n",
       "</style>\n",
       "<table border=\"1\" class=\"dataframe\">\n",
       "  <thead>\n",
       "    <tr style=\"text-align: right;\">\n",
       "      <th></th>\n",
       "      <th>name</th>\n",
       "      <th>languages</th>\n",
       "    </tr>\n",
       "  </thead>\n",
       "  <tbody>\n",
       "    <tr>\n",
       "      <th>4</th>\n",
       "      <td>American Samoa</td>\n",
       "      <td>[{'iso639_1': 'en', 'iso639_2': 'eng', 'name':...</td>\n",
       "    </tr>\n",
       "    <tr>\n",
       "      <th>7</th>\n",
       "      <td>Anguilla</td>\n",
       "      <td>[{'iso639_1': 'en', 'iso639_2': 'eng', 'name':...</td>\n",
       "    </tr>\n",
       "    <tr>\n",
       "      <th>8</th>\n",
       "      <td>Antarctica</td>\n",
       "      <td>[{'iso639_1': 'en', 'iso639_2': 'eng', 'name':...</td>\n",
       "    </tr>\n",
       "    <tr>\n",
       "      <th>9</th>\n",
       "      <td>Antigua and Barbuda</td>\n",
       "      <td>[{'iso639_1': 'en', 'iso639_2': 'eng', 'name':...</td>\n",
       "    </tr>\n",
       "    <tr>\n",
       "      <th>13</th>\n",
       "      <td>Australia</td>\n",
       "      <td>[{'iso639_1': 'en', 'iso639_2': 'eng', 'name':...</td>\n",
       "    </tr>\n",
       "    <tr>\n",
       "      <th>...</th>\n",
       "      <td>...</td>\n",
       "      <td>...</td>\n",
       "    </tr>\n",
       "    <tr>\n",
       "      <th>238</th>\n",
       "      <td>United Kingdom of Great Britain and Northern I...</td>\n",
       "      <td>[{'iso639_1': 'en', 'iso639_2': 'eng', 'name':...</td>\n",
       "    </tr>\n",
       "    <tr>\n",
       "      <th>239</th>\n",
       "      <td>United States of America</td>\n",
       "      <td>[{'iso639_1': 'en', 'iso639_2': 'eng', 'name':...</td>\n",
       "    </tr>\n",
       "    <tr>\n",
       "      <th>242</th>\n",
       "      <td>Vanuatu</td>\n",
       "      <td>[{'iso639_1': 'bi', 'iso639_2': 'bis', 'name':...</td>\n",
       "    </tr>\n",
       "    <tr>\n",
       "      <th>248</th>\n",
       "      <td>Zambia</td>\n",
       "      <td>[{'iso639_1': 'en', 'iso639_2': 'eng', 'name':...</td>\n",
       "    </tr>\n",
       "    <tr>\n",
       "      <th>249</th>\n",
       "      <td>Zimbabwe</td>\n",
       "      <td>[{'iso639_1': 'en', 'iso639_2': 'eng', 'name':...</td>\n",
       "    </tr>\n",
       "  </tbody>\n",
       "</table>\n",
       "<p>91 rows × 2 columns</p>\n",
       "</div>"
      ],
      "text/plain": [
       "                                                  name  \\\n",
       "4                                       American Samoa   \n",
       "7                                             Anguilla   \n",
       "8                                           Antarctica   \n",
       "9                                  Antigua and Barbuda   \n",
       "13                                           Australia   \n",
       "..                                                 ...   \n",
       "238  United Kingdom of Great Britain and Northern I...   \n",
       "239                           United States of America   \n",
       "242                                            Vanuatu   \n",
       "248                                             Zambia   \n",
       "249                                           Zimbabwe   \n",
       "\n",
       "                                             languages  \n",
       "4    [{'iso639_1': 'en', 'iso639_2': 'eng', 'name':...  \n",
       "7    [{'iso639_1': 'en', 'iso639_2': 'eng', 'name':...  \n",
       "8    [{'iso639_1': 'en', 'iso639_2': 'eng', 'name':...  \n",
       "9    [{'iso639_1': 'en', 'iso639_2': 'eng', 'name':...  \n",
       "13   [{'iso639_1': 'en', 'iso639_2': 'eng', 'name':...  \n",
       "..                                                 ...  \n",
       "238  [{'iso639_1': 'en', 'iso639_2': 'eng', 'name':...  \n",
       "239  [{'iso639_1': 'en', 'iso639_2': 'eng', 'name':...  \n",
       "242  [{'iso639_1': 'bi', 'iso639_2': 'bis', 'name':...  \n",
       "248  [{'iso639_1': 'en', 'iso639_2': 'eng', 'name':...  \n",
       "249  [{'iso639_1': 'en', 'iso639_2': 'eng', 'name':...  \n",
       "\n",
       "[91 rows x 2 columns]"
      ]
     },
     "execution_count": 15,
     "metadata": {},
     "output_type": "execute_result"
    }
   ],
   "source": [
    "# ls is a list of dict\n",
    "def english_spoken(ls):\n",
    "    # print(type(ls))\n",
    "    for d in ls:\n",
    "        if 'en' in d.values():\n",
    "            return True\n",
    "    else:\n",
    "        return False\n",
    "    \n",
    "cdf.loc[cdf['languages'].apply(english_spoken),['name','languages']]"
   ]
  },
  {
   "cell_type": "markdown",
   "metadata": {},
   "source": [
    "#### Display country where the density of population is highest"
   ]
  },
  {
   "cell_type": "code",
   "execution_count": 15,
   "metadata": {
    "collapsed": true,
    "jupyter": {
     "outputs_hidden": true
    }
   },
   "outputs": [
    {
     "data": {
      "text/html": [
       "<div>\n",
       "<style scoped>\n",
       "    .dataframe tbody tr th:only-of-type {\n",
       "        vertical-align: middle;\n",
       "    }\n",
       "\n",
       "    .dataframe tbody tr th {\n",
       "        vertical-align: top;\n",
       "    }\n",
       "\n",
       "    .dataframe thead th {\n",
       "        text-align: right;\n",
       "    }\n",
       "</style>\n",
       "<table border=\"1\" class=\"dataframe\">\n",
       "  <thead>\n",
       "    <tr style=\"text-align: right;\">\n",
       "      <th></th>\n",
       "      <th>name</th>\n",
       "      <th>population</th>\n",
       "      <th>area</th>\n",
       "    </tr>\n",
       "  </thead>\n",
       "  <tbody>\n",
       "    <tr>\n",
       "      <th>131</th>\n",
       "      <td>Macao</td>\n",
       "      <td>649100</td>\n",
       "      <td>30.0</td>\n",
       "    </tr>\n",
       "  </tbody>\n",
       "</table>\n",
       "</div>"
      ],
      "text/plain": [
       "      name  population  area\n",
       "131  Macao      649100  30.0"
      ]
     },
     "execution_count": 15,
     "metadata": {},
     "output_type": "execute_result"
    }
   ],
   "source": [
    "cdf.loc[cdf['population']/cdf['area'] == max(cdf['population']/cdf['area']),['name','population','area']]"
   ]
  },
  {
   "cell_type": "markdown",
   "metadata": {},
   "source": [
    "#### Which continent is the largest?"
   ]
  },
  {
   "cell_type": "code",
   "execution_count": 16,
   "metadata": {
    "collapsed": true,
    "jupyter": {
     "outputs_hidden": true
    }
   },
   "outputs": [
    {
     "data": {
      "text/plain": [
       "region\n",
       "Americas    42248044.36\n",
       "Name: area, dtype: float64"
      ]
     },
     "execution_count": 16,
     "metadata": {},
     "output_type": "execute_result"
    }
   ],
   "source": [
    "region_groups = cdf.groupby('region')['area'].sum()\n",
    "region_groups.sort_values(ascending=False).head(1)"
   ]
  },
  {
   "cell_type": "markdown",
   "metadata": {},
   "source": [
    "#### Display the columns that contain no null values"
   ]
  },
  {
   "cell_type": "code",
   "execution_count": 17,
   "metadata": {
    "collapsed": true,
    "jupyter": {
     "outputs_hidden": true
    }
   },
   "outputs": [
    {
     "data": {
      "text/plain": [
       "Index(['name', 'topLevelDomain', 'alpha2Code', 'alpha3Code', 'callingCodes',\n",
       "       'capital', 'altSpellings', 'region', 'subregion', 'population',\n",
       "       'latlng', 'demonym', 'timezones', 'borders', 'nativeName', 'currencies',\n",
       "       'languages', 'translations', 'flag', 'regionalBlocs'],\n",
       "      dtype='object')"
      ]
     },
     "execution_count": 17,
     "metadata": {},
     "output_type": "execute_result"
    }
   ],
   "source": [
    "cdf.loc[:,cdf.notna().all()].columns"
   ]
  },
  {
   "cell_type": "markdown",
   "metadata": {},
   "source": [
    "#### Display rows that have no null values"
   ]
  },
  {
   "cell_type": "code",
   "execution_count": 18,
   "metadata": {
    "collapsed": true,
    "jupyter": {
     "outputs_hidden": true
    }
   },
   "outputs": [
    {
     "data": {
      "text/html": [
       "<div>\n",
       "<style scoped>\n",
       "    .dataframe tbody tr th:only-of-type {\n",
       "        vertical-align: middle;\n",
       "    }\n",
       "\n",
       "    .dataframe tbody tr th {\n",
       "        vertical-align: top;\n",
       "    }\n",
       "\n",
       "    .dataframe thead th {\n",
       "        text-align: right;\n",
       "    }\n",
       "</style>\n",
       "<table border=\"1\" class=\"dataframe\">\n",
       "  <thead>\n",
       "    <tr style=\"text-align: right;\">\n",
       "      <th></th>\n",
       "      <th>name</th>\n",
       "      <th>topLevelDomain</th>\n",
       "      <th>alpha2Code</th>\n",
       "      <th>alpha3Code</th>\n",
       "      <th>callingCodes</th>\n",
       "      <th>capital</th>\n",
       "      <th>altSpellings</th>\n",
       "      <th>region</th>\n",
       "      <th>subregion</th>\n",
       "      <th>population</th>\n",
       "      <th>...</th>\n",
       "      <th>timezones</th>\n",
       "      <th>borders</th>\n",
       "      <th>nativeName</th>\n",
       "      <th>numericCode</th>\n",
       "      <th>currencies</th>\n",
       "      <th>languages</th>\n",
       "      <th>translations</th>\n",
       "      <th>flag</th>\n",
       "      <th>regionalBlocs</th>\n",
       "      <th>cioc</th>\n",
       "    </tr>\n",
       "  </thead>\n",
       "  <tbody>\n",
       "    <tr>\n",
       "      <th>0</th>\n",
       "      <td>Afghanistan</td>\n",
       "      <td>[.af]</td>\n",
       "      <td>AF</td>\n",
       "      <td>AFG</td>\n",
       "      <td>[93]</td>\n",
       "      <td>Kabul</td>\n",
       "      <td>[AF, Afġānistān]</td>\n",
       "      <td>Asia</td>\n",
       "      <td>Southern Asia</td>\n",
       "      <td>27657145</td>\n",
       "      <td>...</td>\n",
       "      <td>[UTC+04:30]</td>\n",
       "      <td>[IRN, PAK, TKM, UZB, TJK, CHN]</td>\n",
       "      <td>افغانستان</td>\n",
       "      <td>4.0</td>\n",
       "      <td>[{'code': 'AFN', 'name': 'Afghan afghani', 'sy...</td>\n",
       "      <td>[{'iso639_1': 'ps', 'iso639_2': 'pus', 'name':...</td>\n",
       "      <td>{'de': 'Afghanistan', 'es': 'Afganistán', 'fr'...</td>\n",
       "      <td>https://restcountries.eu/data/afg.svg</td>\n",
       "      <td>[{'acronym': 'SAARC', 'name': 'South Asian Ass...</td>\n",
       "      <td>AFG</td>\n",
       "    </tr>\n",
       "    <tr>\n",
       "      <th>2</th>\n",
       "      <td>Albania</td>\n",
       "      <td>[.al]</td>\n",
       "      <td>AL</td>\n",
       "      <td>ALB</td>\n",
       "      <td>[355]</td>\n",
       "      <td>Tirana</td>\n",
       "      <td>[AL, Shqipëri, Shqipëria, Shqipnia]</td>\n",
       "      <td>Europe</td>\n",
       "      <td>Southern Europe</td>\n",
       "      <td>2886026</td>\n",
       "      <td>...</td>\n",
       "      <td>[UTC+01:00]</td>\n",
       "      <td>[MNE, GRC, MKD, KOS]</td>\n",
       "      <td>Shqipëria</td>\n",
       "      <td>8.0</td>\n",
       "      <td>[{'code': 'ALL', 'name': 'Albanian lek', 'symb...</td>\n",
       "      <td>[{'iso639_1': 'sq', 'iso639_2': 'sqi', 'name':...</td>\n",
       "      <td>{'de': 'Albanien', 'es': 'Albania', 'fr': 'Alb...</td>\n",
       "      <td>https://restcountries.eu/data/alb.svg</td>\n",
       "      <td>[{'acronym': 'CEFTA', 'name': 'Central Europea...</td>\n",
       "      <td>ALB</td>\n",
       "    </tr>\n",
       "    <tr>\n",
       "      <th>3</th>\n",
       "      <td>Algeria</td>\n",
       "      <td>[.dz]</td>\n",
       "      <td>DZ</td>\n",
       "      <td>DZA</td>\n",
       "      <td>[213]</td>\n",
       "      <td>Algiers</td>\n",
       "      <td>[DZ, Dzayer, Algérie]</td>\n",
       "      <td>Africa</td>\n",
       "      <td>Northern Africa</td>\n",
       "      <td>40400000</td>\n",
       "      <td>...</td>\n",
       "      <td>[UTC+01:00]</td>\n",
       "      <td>[TUN, LBY, NER, ESH, MRT, MLI, MAR]</td>\n",
       "      <td>الجزائر</td>\n",
       "      <td>12.0</td>\n",
       "      <td>[{'code': 'DZD', 'name': 'Algerian dinar', 'sy...</td>\n",
       "      <td>[{'iso639_1': 'ar', 'iso639_2': 'ara', 'name':...</td>\n",
       "      <td>{'de': 'Algerien', 'es': 'Argelia', 'fr': 'Alg...</td>\n",
       "      <td>https://restcountries.eu/data/dza.svg</td>\n",
       "      <td>[{'acronym': 'AU', 'name': 'African Union', 'o...</td>\n",
       "      <td>ALG</td>\n",
       "    </tr>\n",
       "    <tr>\n",
       "      <th>6</th>\n",
       "      <td>Angola</td>\n",
       "      <td>[.ao]</td>\n",
       "      <td>AO</td>\n",
       "      <td>AGO</td>\n",
       "      <td>[244]</td>\n",
       "      <td>Luanda</td>\n",
       "      <td>[AO, República de Angola, ʁɛpublika de an'ɡɔla]</td>\n",
       "      <td>Africa</td>\n",
       "      <td>Middle Africa</td>\n",
       "      <td>25868000</td>\n",
       "      <td>...</td>\n",
       "      <td>[UTC+01:00]</td>\n",
       "      <td>[COG, COD, ZMB, NAM]</td>\n",
       "      <td>Angola</td>\n",
       "      <td>24.0</td>\n",
       "      <td>[{'code': 'AOA', 'name': 'Angolan kwanza', 'sy...</td>\n",
       "      <td>[{'iso639_1': 'pt', 'iso639_2': 'por', 'name':...</td>\n",
       "      <td>{'de': 'Angola', 'es': 'Angola', 'fr': 'Angola...</td>\n",
       "      <td>https://restcountries.eu/data/ago.svg</td>\n",
       "      <td>[{'acronym': 'AU', 'name': 'African Union', 'o...</td>\n",
       "      <td>ANG</td>\n",
       "    </tr>\n",
       "    <tr>\n",
       "      <th>10</th>\n",
       "      <td>Argentina</td>\n",
       "      <td>[.ar]</td>\n",
       "      <td>AR</td>\n",
       "      <td>ARG</td>\n",
       "      <td>[54]</td>\n",
       "      <td>Buenos Aires</td>\n",
       "      <td>[AR, Argentine Republic, República Argentina]</td>\n",
       "      <td>Americas</td>\n",
       "      <td>South America</td>\n",
       "      <td>43590400</td>\n",
       "      <td>...</td>\n",
       "      <td>[UTC-03:00]</td>\n",
       "      <td>[BOL, BRA, CHL, PRY, URY]</td>\n",
       "      <td>Argentina</td>\n",
       "      <td>32.0</td>\n",
       "      <td>[{'code': 'ARS', 'name': 'Argentine peso', 'sy...</td>\n",
       "      <td>[{'iso639_1': 'es', 'iso639_2': 'spa', 'name':...</td>\n",
       "      <td>{'de': 'Argentinien', 'es': 'Argentina', 'fr':...</td>\n",
       "      <td>https://restcountries.eu/data/arg.svg</td>\n",
       "      <td>[{'acronym': 'USAN', 'name': 'Union of South A...</td>\n",
       "      <td>ARG</td>\n",
       "    </tr>\n",
       "    <tr>\n",
       "      <th>...</th>\n",
       "      <td>...</td>\n",
       "      <td>...</td>\n",
       "      <td>...</td>\n",
       "      <td>...</td>\n",
       "      <td>...</td>\n",
       "      <td>...</td>\n",
       "      <td>...</td>\n",
       "      <td>...</td>\n",
       "      <td>...</td>\n",
       "      <td>...</td>\n",
       "      <td>...</td>\n",
       "      <td>...</td>\n",
       "      <td>...</td>\n",
       "      <td>...</td>\n",
       "      <td>...</td>\n",
       "      <td>...</td>\n",
       "      <td>...</td>\n",
       "      <td>...</td>\n",
       "      <td>...</td>\n",
       "      <td>...</td>\n",
       "      <td>...</td>\n",
       "    </tr>\n",
       "    <tr>\n",
       "      <th>241</th>\n",
       "      <td>Uzbekistan</td>\n",
       "      <td>[.uz]</td>\n",
       "      <td>UZ</td>\n",
       "      <td>UZB</td>\n",
       "      <td>[998]</td>\n",
       "      <td>Tashkent</td>\n",
       "      <td>[UZ, Republic of Uzbekistan, O‘zbekiston Respu...</td>\n",
       "      <td>Asia</td>\n",
       "      <td>Central Asia</td>\n",
       "      <td>31576400</td>\n",
       "      <td>...</td>\n",
       "      <td>[UTC+05:00]</td>\n",
       "      <td>[AFG, KAZ, KGZ, TJK, TKM]</td>\n",
       "      <td>O‘zbekiston</td>\n",
       "      <td>860.0</td>\n",
       "      <td>[{'code': 'UZS', 'name': 'Uzbekistani so'm', '...</td>\n",
       "      <td>[{'iso639_1': 'uz', 'iso639_2': 'uzb', 'name':...</td>\n",
       "      <td>{'de': 'Usbekistan', 'es': 'Uzbekistán', 'fr':...</td>\n",
       "      <td>https://restcountries.eu/data/uzb.svg</td>\n",
       "      <td>[]</td>\n",
       "      <td>UZB</td>\n",
       "    </tr>\n",
       "    <tr>\n",
       "      <th>243</th>\n",
       "      <td>Venezuela (Bolivarian Republic of)</td>\n",
       "      <td>[.ve]</td>\n",
       "      <td>VE</td>\n",
       "      <td>VEN</td>\n",
       "      <td>[58]</td>\n",
       "      <td>Caracas</td>\n",
       "      <td>[VE, Bolivarian Republic of Venezuela, Repúbli...</td>\n",
       "      <td>Americas</td>\n",
       "      <td>South America</td>\n",
       "      <td>31028700</td>\n",
       "      <td>...</td>\n",
       "      <td>[UTC-04:00]</td>\n",
       "      <td>[BRA, COL, GUY]</td>\n",
       "      <td>Venezuela</td>\n",
       "      <td>862.0</td>\n",
       "      <td>[{'code': 'VEF', 'name': 'Venezuelan bolívar',...</td>\n",
       "      <td>[{'iso639_1': 'es', 'iso639_2': 'spa', 'name':...</td>\n",
       "      <td>{'de': 'Venezuela', 'es': 'Venezuela', 'fr': '...</td>\n",
       "      <td>https://restcountries.eu/data/ven.svg</td>\n",
       "      <td>[{'acronym': 'USAN', 'name': 'Union of South A...</td>\n",
       "      <td>VEN</td>\n",
       "    </tr>\n",
       "    <tr>\n",
       "      <th>244</th>\n",
       "      <td>Viet Nam</td>\n",
       "      <td>[.vn]</td>\n",
       "      <td>VN</td>\n",
       "      <td>VNM</td>\n",
       "      <td>[84]</td>\n",
       "      <td>Hanoi</td>\n",
       "      <td>[VN, Socialist Republic of Vietnam, Cộng hòa X...</td>\n",
       "      <td>Asia</td>\n",
       "      <td>South-Eastern Asia</td>\n",
       "      <td>92700000</td>\n",
       "      <td>...</td>\n",
       "      <td>[UTC+07:00]</td>\n",
       "      <td>[KHM, CHN, LAO]</td>\n",
       "      <td>Việt Nam</td>\n",
       "      <td>704.0</td>\n",
       "      <td>[{'code': 'VND', 'name': 'Vietnamese đồng', 's...</td>\n",
       "      <td>[{'iso639_1': 'vi', 'iso639_2': 'vie', 'name':...</td>\n",
       "      <td>{'de': 'Vietnam', 'es': 'Vietnam', 'fr': 'Viêt...</td>\n",
       "      <td>https://restcountries.eu/data/vnm.svg</td>\n",
       "      <td>[{'acronym': 'ASEAN', 'name': 'Association of ...</td>\n",
       "      <td>VIE</td>\n",
       "    </tr>\n",
       "    <tr>\n",
       "      <th>247</th>\n",
       "      <td>Yemen</td>\n",
       "      <td>[.ye]</td>\n",
       "      <td>YE</td>\n",
       "      <td>YEM</td>\n",
       "      <td>[967]</td>\n",
       "      <td>Sana'a</td>\n",
       "      <td>[YE, Yemeni Republic, al-Jumhūriyyah al-Yamani...</td>\n",
       "      <td>Asia</td>\n",
       "      <td>Western Asia</td>\n",
       "      <td>27478000</td>\n",
       "      <td>...</td>\n",
       "      <td>[UTC+03:00]</td>\n",
       "      <td>[OMN, SAU]</td>\n",
       "      <td>اليَمَن</td>\n",
       "      <td>887.0</td>\n",
       "      <td>[{'code': 'YER', 'name': 'Yemeni rial', 'symbo...</td>\n",
       "      <td>[{'iso639_1': 'ar', 'iso639_2': 'ara', 'name':...</td>\n",
       "      <td>{'de': 'Jemen', 'es': 'Yemen', 'fr': 'Yémen', ...</td>\n",
       "      <td>https://restcountries.eu/data/yem.svg</td>\n",
       "      <td>[{'acronym': 'AL', 'name': 'Arab League', 'oth...</td>\n",
       "      <td>YEM</td>\n",
       "    </tr>\n",
       "    <tr>\n",
       "      <th>248</th>\n",
       "      <td>Zambia</td>\n",
       "      <td>[.zm]</td>\n",
       "      <td>ZM</td>\n",
       "      <td>ZMB</td>\n",
       "      <td>[260]</td>\n",
       "      <td>Lusaka</td>\n",
       "      <td>[ZM, Republic of Zambia]</td>\n",
       "      <td>Africa</td>\n",
       "      <td>Eastern Africa</td>\n",
       "      <td>15933883</td>\n",
       "      <td>...</td>\n",
       "      <td>[UTC+02:00]</td>\n",
       "      <td>[AGO, BWA, COD, MWI, MOZ, NAM, TZA, ZWE]</td>\n",
       "      <td>Zambia</td>\n",
       "      <td>894.0</td>\n",
       "      <td>[{'code': 'ZMW', 'name': 'Zambian kwacha', 'sy...</td>\n",
       "      <td>[{'iso639_1': 'en', 'iso639_2': 'eng', 'name':...</td>\n",
       "      <td>{'de': 'Sambia', 'es': 'Zambia', 'fr': 'Zambie...</td>\n",
       "      <td>https://restcountries.eu/data/zmb.svg</td>\n",
       "      <td>[{'acronym': 'AU', 'name': 'African Union', 'o...</td>\n",
       "      <td>ZAM</td>\n",
       "    </tr>\n",
       "  </tbody>\n",
       "</table>\n",
       "<p>152 rows × 24 columns</p>\n",
       "</div>"
      ],
      "text/plain": [
       "                                   name topLevelDomain alpha2Code alpha3Code  \\\n",
       "0                           Afghanistan          [.af]         AF        AFG   \n",
       "2                               Albania          [.al]         AL        ALB   \n",
       "3                               Algeria          [.dz]         DZ        DZA   \n",
       "6                                Angola          [.ao]         AO        AGO   \n",
       "10                            Argentina          [.ar]         AR        ARG   \n",
       "..                                  ...            ...        ...        ...   \n",
       "241                          Uzbekistan          [.uz]         UZ        UZB   \n",
       "243  Venezuela (Bolivarian Republic of)          [.ve]         VE        VEN   \n",
       "244                            Viet Nam          [.vn]         VN        VNM   \n",
       "247                               Yemen          [.ye]         YE        YEM   \n",
       "248                              Zambia          [.zm]         ZM        ZMB   \n",
       "\n",
       "    callingCodes       capital  \\\n",
       "0           [93]         Kabul   \n",
       "2          [355]        Tirana   \n",
       "3          [213]       Algiers   \n",
       "6          [244]        Luanda   \n",
       "10          [54]  Buenos Aires   \n",
       "..           ...           ...   \n",
       "241        [998]      Tashkent   \n",
       "243         [58]       Caracas   \n",
       "244         [84]         Hanoi   \n",
       "247        [967]        Sana'a   \n",
       "248        [260]        Lusaka   \n",
       "\n",
       "                                          altSpellings    region  \\\n",
       "0                                     [AF, Afġānistān]      Asia   \n",
       "2                  [AL, Shqipëri, Shqipëria, Shqipnia]    Europe   \n",
       "3                                [DZ, Dzayer, Algérie]    Africa   \n",
       "6      [AO, República de Angola, ʁɛpublika de an'ɡɔla]    Africa   \n",
       "10       [AR, Argentine Republic, República Argentina]  Americas   \n",
       "..                                                 ...       ...   \n",
       "241  [UZ, Republic of Uzbekistan, O‘zbekiston Respu...      Asia   \n",
       "243  [VE, Bolivarian Republic of Venezuela, Repúbli...  Americas   \n",
       "244  [VN, Socialist Republic of Vietnam, Cộng hòa X...      Asia   \n",
       "247  [YE, Yemeni Republic, al-Jumhūriyyah al-Yamani...      Asia   \n",
       "248                           [ZM, Republic of Zambia]    Africa   \n",
       "\n",
       "              subregion  population  ...    timezones  \\\n",
       "0         Southern Asia    27657145  ...  [UTC+04:30]   \n",
       "2       Southern Europe     2886026  ...  [UTC+01:00]   \n",
       "3       Northern Africa    40400000  ...  [UTC+01:00]   \n",
       "6         Middle Africa    25868000  ...  [UTC+01:00]   \n",
       "10        South America    43590400  ...  [UTC-03:00]   \n",
       "..                  ...         ...  ...          ...   \n",
       "241        Central Asia    31576400  ...  [UTC+05:00]   \n",
       "243       South America    31028700  ...  [UTC-04:00]   \n",
       "244  South-Eastern Asia    92700000  ...  [UTC+07:00]   \n",
       "247        Western Asia    27478000  ...  [UTC+03:00]   \n",
       "248      Eastern Africa    15933883  ...  [UTC+02:00]   \n",
       "\n",
       "                                      borders   nativeName  numericCode  \\\n",
       "0              [IRN, PAK, TKM, UZB, TJK, CHN]    افغانستان          4.0   \n",
       "2                        [MNE, GRC, MKD, KOS]    Shqipëria          8.0   \n",
       "3         [TUN, LBY, NER, ESH, MRT, MLI, MAR]      الجزائر         12.0   \n",
       "6                        [COG, COD, ZMB, NAM]       Angola         24.0   \n",
       "10                  [BOL, BRA, CHL, PRY, URY]    Argentina         32.0   \n",
       "..                                        ...          ...          ...   \n",
       "241                 [AFG, KAZ, KGZ, TJK, TKM]  O‘zbekiston        860.0   \n",
       "243                           [BRA, COL, GUY]    Venezuela        862.0   \n",
       "244                           [KHM, CHN, LAO]     Việt Nam        704.0   \n",
       "247                                [OMN, SAU]      اليَمَن        887.0   \n",
       "248  [AGO, BWA, COD, MWI, MOZ, NAM, TZA, ZWE]       Zambia        894.0   \n",
       "\n",
       "                                            currencies  \\\n",
       "0    [{'code': 'AFN', 'name': 'Afghan afghani', 'sy...   \n",
       "2    [{'code': 'ALL', 'name': 'Albanian lek', 'symb...   \n",
       "3    [{'code': 'DZD', 'name': 'Algerian dinar', 'sy...   \n",
       "6    [{'code': 'AOA', 'name': 'Angolan kwanza', 'sy...   \n",
       "10   [{'code': 'ARS', 'name': 'Argentine peso', 'sy...   \n",
       "..                                                 ...   \n",
       "241  [{'code': 'UZS', 'name': 'Uzbekistani so'm', '...   \n",
       "243  [{'code': 'VEF', 'name': 'Venezuelan bolívar',...   \n",
       "244  [{'code': 'VND', 'name': 'Vietnamese đồng', 's...   \n",
       "247  [{'code': 'YER', 'name': 'Yemeni rial', 'symbo...   \n",
       "248  [{'code': 'ZMW', 'name': 'Zambian kwacha', 'sy...   \n",
       "\n",
       "                                             languages  \\\n",
       "0    [{'iso639_1': 'ps', 'iso639_2': 'pus', 'name':...   \n",
       "2    [{'iso639_1': 'sq', 'iso639_2': 'sqi', 'name':...   \n",
       "3    [{'iso639_1': 'ar', 'iso639_2': 'ara', 'name':...   \n",
       "6    [{'iso639_1': 'pt', 'iso639_2': 'por', 'name':...   \n",
       "10   [{'iso639_1': 'es', 'iso639_2': 'spa', 'name':...   \n",
       "..                                                 ...   \n",
       "241  [{'iso639_1': 'uz', 'iso639_2': 'uzb', 'name':...   \n",
       "243  [{'iso639_1': 'es', 'iso639_2': 'spa', 'name':...   \n",
       "244  [{'iso639_1': 'vi', 'iso639_2': 'vie', 'name':...   \n",
       "247  [{'iso639_1': 'ar', 'iso639_2': 'ara', 'name':...   \n",
       "248  [{'iso639_1': 'en', 'iso639_2': 'eng', 'name':...   \n",
       "\n",
       "                                          translations  \\\n",
       "0    {'de': 'Afghanistan', 'es': 'Afganistán', 'fr'...   \n",
       "2    {'de': 'Albanien', 'es': 'Albania', 'fr': 'Alb...   \n",
       "3    {'de': 'Algerien', 'es': 'Argelia', 'fr': 'Alg...   \n",
       "6    {'de': 'Angola', 'es': 'Angola', 'fr': 'Angola...   \n",
       "10   {'de': 'Argentinien', 'es': 'Argentina', 'fr':...   \n",
       "..                                                 ...   \n",
       "241  {'de': 'Usbekistan', 'es': 'Uzbekistán', 'fr':...   \n",
       "243  {'de': 'Venezuela', 'es': 'Venezuela', 'fr': '...   \n",
       "244  {'de': 'Vietnam', 'es': 'Vietnam', 'fr': 'Viêt...   \n",
       "247  {'de': 'Jemen', 'es': 'Yemen', 'fr': 'Yémen', ...   \n",
       "248  {'de': 'Sambia', 'es': 'Zambia', 'fr': 'Zambie...   \n",
       "\n",
       "                                      flag  \\\n",
       "0    https://restcountries.eu/data/afg.svg   \n",
       "2    https://restcountries.eu/data/alb.svg   \n",
       "3    https://restcountries.eu/data/dza.svg   \n",
       "6    https://restcountries.eu/data/ago.svg   \n",
       "10   https://restcountries.eu/data/arg.svg   \n",
       "..                                     ...   \n",
       "241  https://restcountries.eu/data/uzb.svg   \n",
       "243  https://restcountries.eu/data/ven.svg   \n",
       "244  https://restcountries.eu/data/vnm.svg   \n",
       "247  https://restcountries.eu/data/yem.svg   \n",
       "248  https://restcountries.eu/data/zmb.svg   \n",
       "\n",
       "                                         regionalBlocs cioc  \n",
       "0    [{'acronym': 'SAARC', 'name': 'South Asian Ass...  AFG  \n",
       "2    [{'acronym': 'CEFTA', 'name': 'Central Europea...  ALB  \n",
       "3    [{'acronym': 'AU', 'name': 'African Union', 'o...  ALG  \n",
       "6    [{'acronym': 'AU', 'name': 'African Union', 'o...  ANG  \n",
       "10   [{'acronym': 'USAN', 'name': 'Union of South A...  ARG  \n",
       "..                                                 ...  ...  \n",
       "241                                                 []  UZB  \n",
       "243  [{'acronym': 'USAN', 'name': 'Union of South A...  VEN  \n",
       "244  [{'acronym': 'ASEAN', 'name': 'Association of ...  VIE  \n",
       "247  [{'acronym': 'AL', 'name': 'Arab League', 'oth...  YEM  \n",
       "248  [{'acronym': 'AU', 'name': 'African Union', 'o...  ZAM  \n",
       "\n",
       "[152 rows x 24 columns]"
      ]
     },
     "execution_count": 18,
     "metadata": {},
     "output_type": "execute_result"
    }
   ],
   "source": [
    "cdf[cdf.notna().all(axis=1)]"
   ]
  },
  {
   "cell_type": "markdown",
   "metadata": {},
   "source": [
    "#### Divide countries into 4 bins based on the area of the country and call them as small, medium, big, large in terms of area"
   ]
  },
  {
   "cell_type": "code",
   "execution_count": 24,
   "metadata": {
    "collapsed": true,
    "jupyter": {
     "outputs_hidden": true
    }
   },
   "outputs": [
    {
     "data": {
      "text/plain": [
       "0       Small\n",
       "1       Small\n",
       "2       Small\n",
       "3       Small\n",
       "4       Small\n",
       "5       Small\n",
       "6       Small\n",
       "7       Small\n",
       "8       Large\n",
       "9       Small\n",
       "10      Small\n",
       "11      Small\n",
       "12      Small\n",
       "13     Medium\n",
       "14      Small\n",
       "15      Small\n",
       "16      Small\n",
       "17      Small\n",
       "18      Small\n",
       "19      Small\n",
       "20      Small\n",
       "21      Small\n",
       "22      Small\n",
       "23      Small\n",
       "24      Small\n",
       "25      Small\n",
       "26      Small\n",
       "27      Small\n",
       "28      Small\n",
       "29      Small\n",
       "        ...  \n",
       "220     Small\n",
       "221     Small\n",
       "222     Small\n",
       "223     Small\n",
       "224     Small\n",
       "225     Small\n",
       "226     Small\n",
       "227     Small\n",
       "228     Small\n",
       "229     Small\n",
       "230     Small\n",
       "231     Small\n",
       "232     Small\n",
       "233     Small\n",
       "234     Small\n",
       "235     Small\n",
       "236     Small\n",
       "237     Small\n",
       "238     Small\n",
       "239       Big\n",
       "240     Small\n",
       "241     Small\n",
       "242     Small\n",
       "243     Small\n",
       "244     Small\n",
       "245     Small\n",
       "246     Small\n",
       "247     Small\n",
       "248     Small\n",
       "249     Small\n",
       "Name: area, Length: 250, dtype: category\n",
       "Categories (4, object): [Small < Medium < Big < Large]"
      ]
     },
     "execution_count": 24,
     "metadata": {},
     "output_type": "execute_result"
    }
   ],
   "source": [
    "area_bins = pd.cut(cdf['area'],4,labels=['Small','Medium','Big','Large'])\n",
    "area_bins"
   ]
  },
  {
   "cell_type": "markdown",
   "metadata": {},
   "source": [
    "#### Divide countries into 3 bins based on density and call them as low, medium and high"
   ]
  },
  {
   "cell_type": "code",
   "execution_count": 26,
   "metadata": {
    "collapsed": true,
    "jupyter": {
     "outputs_hidden": true
    }
   },
   "outputs": [
    {
     "data": {
      "text/plain": [
       "0      Low\n",
       "1      Low\n",
       "2      Low\n",
       "3      Low\n",
       "4      Low\n",
       "5      Low\n",
       "6      Low\n",
       "7      Low\n",
       "8      Low\n",
       "9      Low\n",
       "10     Low\n",
       "11     Low\n",
       "12     Low\n",
       "13     Low\n",
       "14     Low\n",
       "15     Low\n",
       "16     Low\n",
       "17     Low\n",
       "18     Low\n",
       "19     Low\n",
       "20     Low\n",
       "21     Low\n",
       "22     Low\n",
       "23     Low\n",
       "24     Low\n",
       "25     Low\n",
       "26     Low\n",
       "27     Low\n",
       "28     Low\n",
       "29     Low\n",
       "      ... \n",
       "220    Low\n",
       "221    Low\n",
       "222    Low\n",
       "223    Low\n",
       "224    Low\n",
       "225    Low\n",
       "226    Low\n",
       "227    Low\n",
       "228    Low\n",
       "229    Low\n",
       "230    Low\n",
       "231    Low\n",
       "232    Low\n",
       "233    Low\n",
       "234    Low\n",
       "235    Low\n",
       "236    Low\n",
       "237    Low\n",
       "238    Low\n",
       "239    Low\n",
       "240    Low\n",
       "241    Low\n",
       "242    Low\n",
       "243    Low\n",
       "244    Low\n",
       "245    Low\n",
       "246    Low\n",
       "247    Low\n",
       "248    Low\n",
       "249    Low\n",
       "Length: 250, dtype: category\n",
       "Categories (3, object): [Low < Medium < High]"
      ]
     },
     "execution_count": 26,
     "metadata": {},
     "output_type": "execute_result"
    }
   ],
   "source": [
    "density_bins = pd.cut(cdf['population']/cdf['area'],3,labels=['Low','Medium','High'])\n",
    "density_bins"
   ]
  },
  {
   "cell_type": "markdown",
   "metadata": {},
   "source": [
    "#### Convert region to dummies and display country name and region"
   ]
  },
  {
   "cell_type": "code",
   "execution_count": 19,
   "metadata": {
    "collapsed": true,
    "jupyter": {
     "outputs_hidden": true
    }
   },
   "outputs": [
    {
     "data": {
      "text/html": [
       "<div>\n",
       "<style scoped>\n",
       "    .dataframe tbody tr th:only-of-type {\n",
       "        vertical-align: middle;\n",
       "    }\n",
       "\n",
       "    .dataframe tbody tr th {\n",
       "        vertical-align: top;\n",
       "    }\n",
       "\n",
       "    .dataframe thead th {\n",
       "        text-align: right;\n",
       "    }\n",
       "</style>\n",
       "<table border=\"1\" class=\"dataframe\">\n",
       "  <thead>\n",
       "    <tr style=\"text-align: right;\">\n",
       "      <th></th>\n",
       "      <th>name</th>\n",
       "      <th>region_</th>\n",
       "      <th>region_Africa</th>\n",
       "      <th>region_Americas</th>\n",
       "      <th>region_Asia</th>\n",
       "      <th>region_Europe</th>\n",
       "      <th>region_Oceania</th>\n",
       "      <th>region_Polar</th>\n",
       "    </tr>\n",
       "  </thead>\n",
       "  <tbody>\n",
       "    <tr>\n",
       "      <th>0</th>\n",
       "      <td>Afghanistan</td>\n",
       "      <td>0</td>\n",
       "      <td>0</td>\n",
       "      <td>0</td>\n",
       "      <td>1</td>\n",
       "      <td>0</td>\n",
       "      <td>0</td>\n",
       "      <td>0</td>\n",
       "    </tr>\n",
       "    <tr>\n",
       "      <th>1</th>\n",
       "      <td>Åland Islands</td>\n",
       "      <td>0</td>\n",
       "      <td>0</td>\n",
       "      <td>0</td>\n",
       "      <td>0</td>\n",
       "      <td>1</td>\n",
       "      <td>0</td>\n",
       "      <td>0</td>\n",
       "    </tr>\n",
       "    <tr>\n",
       "      <th>2</th>\n",
       "      <td>Albania</td>\n",
       "      <td>0</td>\n",
       "      <td>0</td>\n",
       "      <td>0</td>\n",
       "      <td>0</td>\n",
       "      <td>1</td>\n",
       "      <td>0</td>\n",
       "      <td>0</td>\n",
       "    </tr>\n",
       "    <tr>\n",
       "      <th>3</th>\n",
       "      <td>Algeria</td>\n",
       "      <td>0</td>\n",
       "      <td>1</td>\n",
       "      <td>0</td>\n",
       "      <td>0</td>\n",
       "      <td>0</td>\n",
       "      <td>0</td>\n",
       "      <td>0</td>\n",
       "    </tr>\n",
       "    <tr>\n",
       "      <th>4</th>\n",
       "      <td>American Samoa</td>\n",
       "      <td>0</td>\n",
       "      <td>0</td>\n",
       "      <td>0</td>\n",
       "      <td>0</td>\n",
       "      <td>0</td>\n",
       "      <td>1</td>\n",
       "      <td>0</td>\n",
       "    </tr>\n",
       "    <tr>\n",
       "      <th>...</th>\n",
       "      <td>...</td>\n",
       "      <td>...</td>\n",
       "      <td>...</td>\n",
       "      <td>...</td>\n",
       "      <td>...</td>\n",
       "      <td>...</td>\n",
       "      <td>...</td>\n",
       "      <td>...</td>\n",
       "    </tr>\n",
       "    <tr>\n",
       "      <th>245</th>\n",
       "      <td>Wallis and Futuna</td>\n",
       "      <td>0</td>\n",
       "      <td>0</td>\n",
       "      <td>0</td>\n",
       "      <td>0</td>\n",
       "      <td>0</td>\n",
       "      <td>1</td>\n",
       "      <td>0</td>\n",
       "    </tr>\n",
       "    <tr>\n",
       "      <th>246</th>\n",
       "      <td>Western Sahara</td>\n",
       "      <td>0</td>\n",
       "      <td>1</td>\n",
       "      <td>0</td>\n",
       "      <td>0</td>\n",
       "      <td>0</td>\n",
       "      <td>0</td>\n",
       "      <td>0</td>\n",
       "    </tr>\n",
       "    <tr>\n",
       "      <th>247</th>\n",
       "      <td>Yemen</td>\n",
       "      <td>0</td>\n",
       "      <td>0</td>\n",
       "      <td>0</td>\n",
       "      <td>1</td>\n",
       "      <td>0</td>\n",
       "      <td>0</td>\n",
       "      <td>0</td>\n",
       "    </tr>\n",
       "    <tr>\n",
       "      <th>248</th>\n",
       "      <td>Zambia</td>\n",
       "      <td>0</td>\n",
       "      <td>1</td>\n",
       "      <td>0</td>\n",
       "      <td>0</td>\n",
       "      <td>0</td>\n",
       "      <td>0</td>\n",
       "      <td>0</td>\n",
       "    </tr>\n",
       "    <tr>\n",
       "      <th>249</th>\n",
       "      <td>Zimbabwe</td>\n",
       "      <td>0</td>\n",
       "      <td>1</td>\n",
       "      <td>0</td>\n",
       "      <td>0</td>\n",
       "      <td>0</td>\n",
       "      <td>0</td>\n",
       "      <td>0</td>\n",
       "    </tr>\n",
       "  </tbody>\n",
       "</table>\n",
       "<p>250 rows × 8 columns</p>\n",
       "</div>"
      ],
      "text/plain": [
       "                  name  region_  region_Africa  region_Americas  region_Asia  \\\n",
       "0          Afghanistan        0              0                0            1   \n",
       "1        Åland Islands        0              0                0            0   \n",
       "2              Albania        0              0                0            0   \n",
       "3              Algeria        0              1                0            0   \n",
       "4       American Samoa        0              0                0            0   \n",
       "..                 ...      ...            ...              ...          ...   \n",
       "245  Wallis and Futuna        0              0                0            0   \n",
       "246     Western Sahara        0              1                0            0   \n",
       "247              Yemen        0              0                0            1   \n",
       "248             Zambia        0              1                0            0   \n",
       "249           Zimbabwe        0              1                0            0   \n",
       "\n",
       "     region_Europe  region_Oceania  region_Polar  \n",
       "0                0               0             0  \n",
       "1                1               0             0  \n",
       "2                1               0             0  \n",
       "3                0               0             0  \n",
       "4                0               1             0  \n",
       "..             ...             ...           ...  \n",
       "245              0               1             0  \n",
       "246              0               0             0  \n",
       "247              0               0             0  \n",
       "248              0               0             0  \n",
       "249              0               0             0  \n",
       "\n",
       "[250 rows x 8 columns]"
      ]
     },
     "execution_count": 19,
     "metadata": {},
     "output_type": "execute_result"
    }
   ],
   "source": [
    "pd.get_dummies(cdf[['name','region']],columns=['region'])"
   ]
  },
  {
   "cell_type": "markdown",
   "metadata": {},
   "source": [
    "#### Display a bar graph for population of each region and below that another bar graph for area for each region"
   ]
  },
  {
   "cell_type": "code",
   "execution_count": 21,
   "metadata": {
    "collapsed": true,
    "jupyter": {
     "outputs_hidden": true
    }
   },
   "outputs": [],
   "source": [
    "region_population = cdf.groupby('region', as_index=False)['population'].sum()\n",
    "region_area = cdf.groupby('region', as_index=False)['area'].sum()"
   ]
  },
  {
   "cell_type": "code",
   "execution_count": 22,
   "metadata": {
    "collapsed": true,
    "jupyter": {
     "outputs_hidden": true
    }
   },
   "outputs": [
    {
     "data": {
      "text/plain": [
       "Text(0, 0.5, 'Area')"
      ]
     },
     "execution_count": 22,
     "metadata": {},
     "output_type": "execute_result"
    },
    {
     "data": {
      "image/png": "[encoded data removed]",
      "text/plain": [
       "<Figure size 720x720 with 2 Axes>"
      ]
     },
     "metadata": {
      "needs_background": "light"
     },
     "output_type": "display_data"
    }
   ],
   "source": [
    "fig,ax = plt.subplots(2,1)\n",
    "fig.suptitle('Population and Area by Region', fontsize=14)\n",
    "fig.set_size_inches(10,10)\n",
    "ax[0].bar(region_population['region'], region_population['population'])\n",
    "ax[0].set_title(\"Population by Region\")\n",
    "ax[0].set_xlabel(\"Region\")\n",
    "ax[0].set_ylabel(\"Population\")\n",
    "\n",
    "ax[1].bar(region_area['region'].tolist(), region_area['area'])\n",
    "ax[1].set_title(\"Area by Region\")\n",
    "ax[1].set_xlabel(\"Region\")\n",
    "ax[1].set_ylabel(\"Area\")"
   ]
  },
  {
   "cell_type": "markdown",
   "metadata": {},
   "source": [
    "#### Display a bar graph showing top 3 countries by population in each continent"
   ]
  },
  {
   "cell_type": "code",
   "execution_count": 24,
   "metadata": {
    "collapsed": true,
    "jupyter": {
     "outputs_hidden": true
    }
   },
   "outputs": [
    {
     "name": "stderr",
     "output_type": "stream",
     "text": [
      "C:\\Anaconda3\\lib\\site-packages\\ipykernel_launcher.py:1: FutureWarning: Indexing with multiple keys (implicitly converted to a tuple of keys) will be deprecated, use a list instead.\n",
      "  \"\"\"Entry point for launching an IPython kernel.\n"
     ]
    }
   ],
   "source": [
    "lc = cdf.dropna().groupby('region',as_index = False)['region','name','population'].apply(lambda countries : countries.sort_values(by=['population'], ascending=False).head(3))\n",
    "lc['fullname'] = lc.apply(lambda s: f\"{s['name']} ({s['region']})\",axis=1)   # Concatenate name and region "
   ]
  },
  {
   "cell_type": "code",
   "execution_count": 25,
   "metadata": {
    "collapsed": true,
    "jupyter": {
     "outputs_hidden": true
    }
   },
   "outputs": [
    {
     "data": {
      "text/plain": [
       "<BarContainer object of 15 artists>"
      ]
     },
     "execution_count": 25,
     "metadata": {},
     "output_type": "execute_result"
    },
    {
     "data": {
      "image/png": "[encoded data removed]",
      "text/plain": [
       "<Figure size 1080x360 with 1 Axes>"
      ]
     },
     "metadata": {
      "needs_background": "light"
     },
     "output_type": "display_data"
    }
   ],
   "source": [
    "plt.gcf().set_size_inches(15,5)\n",
    "plt.xticks(rotation = 90)\n",
    "plt.bar(lc['fullname'], lc['population'])"
   ]
  }
 ],
 "metadata": {
  "kernelspec": {
   "display_name": "Python 3",
   "language": "python",
   "name": "python3"
  },
  "language_info": {
   "codemirror_mode": {
    "name": "ipython",
    "version": 3
   },
   "file_extension": ".py",
   "mimetype": "text/x-python",
   "name": "python",
   "nbconvert_exporter": "python",
   "pygments_lexer": "ipython3",
   "version": "3.7.6"
  }
 },
 "nbformat": 4,
 "nbformat_minor": 4
}
