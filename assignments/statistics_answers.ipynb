{
 "cells": [
  {
   "cell_type": "markdown",
   "metadata": {},
   "source": [
    "# Assignments related to Statistics"
   ]
  },
  {
   "cell_type": "code",
   "execution_count": 26,
   "metadata": {},
   "outputs": [],
   "source": [
    "import statistics as s\n",
    "import scipy.stats as ss\n",
    "import pandas as pd\n",
    "import numpy as np"
   ]
  },
  {
   "cell_type": "code",
   "execution_count": 27,
   "metadata": {},
   "outputs": [],
   "source": [
    "heights = [180,160,179,185,160,145,176,175,180,199]\n",
    "weights = [90,80,76,88,77,88,96,56,59,67]"
   ]
  },
  {
   "cell_type": "markdown",
   "metadata": {},
   "source": [
    "#### Find out mean and median of heights and weights"
   ]
  },
  {
   "cell_type": "code",
   "execution_count": 28,
   "metadata": {},
   "outputs": [
    {
     "name": "stdout",
     "output_type": "stream",
     "text": [
      "Mean Height = 173.9, Median Height = 177.5\n",
      "Mean Weight = 77.7, Median Weight = 78.5\n"
     ]
    }
   ],
   "source": [
    "print(f\"Mean Height = {s.mean(heights)}, Median Height = {s.median(heights)}\")\n",
    "print(f\"Mean Weight = {s.mean(weights)}, Median Weight = {s.median(weights)}\")"
   ]
  },
  {
   "cell_type": "markdown",
   "metadata": {},
   "source": [
    "#### Find out mode in weights "
   ]
  },
  {
   "cell_type": "code",
   "execution_count": 29,
   "metadata": {},
   "outputs": [
    {
     "name": "stdout",
     "output_type": "stream",
     "text": [
      "Mode in weights = 88\n"
     ]
    }
   ],
   "source": [
    "print(f\"Mode in weights = {s.mode(weights)}\")"
   ]
  },
  {
   "cell_type": "markdown",
   "metadata": {},
   "source": [
    "#### What is the range for heights and weights"
   ]
  },
  {
   "cell_type": "code",
   "execution_count": 30,
   "metadata": {},
   "outputs": [
    {
     "name": "stdout",
     "output_type": "stream",
     "text": [
      "Range for heights = 54\n",
      "Range for weights = 40\n"
     ]
    }
   ],
   "source": [
    "print(f\"Range for heights = {max(heights) - min(heights)}\")\n",
    "print(f\"Range for weights = {max(weights) - min(weights)}\")"
   ]
  },
  {
   "cell_type": "markdown",
   "metadata": {},
   "source": [
    "#### What is variance and standard deviation of heights and weights"
   ]
  },
  {
   "cell_type": "code",
   "execution_count": 31,
   "metadata": {},
   "outputs": [
    {
     "name": "stdout",
     "output_type": "stream",
     "text": [
      "Variance of heights = 231.2111111111111, Standard deviation of heights = 15.20562761319345\n",
      "Variance of weights = 182.45555555555555, Standard deviation of weights = 13.507611023254835\n"
     ]
    }
   ],
   "source": [
    "print(f\"Variance of heights = {s.variance(heights)}, Standard deviation of heights = {s.stdev(heights)}\")\n",
    "print(f\"Variance of weights = {s.variance(weights)}, Standard deviation of weights = {s.stdev(weights)}\")"
   ]
  },
  {
   "cell_type": "markdown",
   "metadata": {},
   "source": [
    "#### Display IQR for heights"
   ]
  },
  {
   "cell_type": "code",
   "execution_count": 32,
   "metadata": {},
   "outputs": [
    {
     "data": {
      "text/plain": [
       "16.25"
      ]
     },
     "execution_count": 32,
     "metadata": {},
     "output_type": "execute_result"
    }
   ],
   "source": [
    "ss.iqr(heights)"
   ]
  },
  {
   "cell_type": "markdown",
   "metadata": {},
   "source": [
    "#### Display outliers in heights. Consider adding a few new values, if necessary"
   ]
  },
  {
   "cell_type": "code",
   "execution_count": 33,
   "metadata": {},
   "outputs": [
    {
     "name": "stdout",
     "output_type": "stream",
     "text": [
      "Number of outliers = 2, Outliers = [125, 215]\n"
     ]
    }
   ],
   "source": [
    "heights_upd = [180,160,179,185,160,145,176,175,180,199,125,215]\n",
    "q1 = np.quantile(heights_upd,0.25)\n",
    "q3 = np.quantile(heights_upd,0.75)\n",
    "iqr = q3 - q1\n",
    "\n",
    "outliers = []\n",
    "\n",
    "for n in heights_upd:\n",
    "    if n < (q1-(1.5*iqr)) or n > (q3+(1.5*iqr)):\n",
    "        outliers.append(n)\n",
    "\n",
    "print(f\"Number of outliers = {len(outliers)}, Outliers = {outliers}\")"
   ]
  },
  {
   "cell_type": "markdown",
   "metadata": {},
   "source": [
    "#### Display skewness of weights "
   ]
  },
  {
   "cell_type": "code",
   "execution_count": 34,
   "metadata": {},
   "outputs": [
    {
     "data": {
      "text/plain": [
       "-0.370716544807603"
      ]
     },
     "execution_count": 34,
     "metadata": {},
     "output_type": "execute_result"
    }
   ],
   "source": [
    "ss.skew(weights)"
   ]
  },
  {
   "cell_type": "markdown",
   "metadata": {},
   "source": [
    "#### Check whether there is any Kurtosis in heights"
   ]
  },
  {
   "cell_type": "code",
   "execution_count": 35,
   "metadata": {},
   "outputs": [
    {
     "data": {
      "text/plain": [
       "-0.25691423931847623"
      ]
     },
     "execution_count": 35,
     "metadata": {},
     "output_type": "execute_result"
    }
   ],
   "source": [
    "ss.kurtosis(heights)"
   ]
  },
  {
   "cell_type": "markdown",
   "metadata": {},
   "source": [
    "#### Display coefficient and p-value of weights and heights "
   ]
  },
  {
   "cell_type": "code",
   "execution_count": 36,
   "metadata": {},
   "outputs": [
    {
     "data": {
      "text/plain": [
       "(-0.2744349737525768, 0.4428803231273694)"
      ]
     },
     "execution_count": 36,
     "metadata": {},
     "output_type": "execute_result"
    }
   ],
   "source": [
    "ss.pearsonr(weights,heights)"
   ]
  },
  {
   "cell_type": "markdown",
   "metadata": {},
   "source": [
    "#### Find slope and intercept for weight (y) using height (x)"
   ]
  },
  {
   "cell_type": "code",
   "execution_count": 37,
   "metadata": {},
   "outputs": [
    {
     "data": {
      "text/plain": [
       "LinregressResult(slope=-0.24378874525445718, intercept=120.0948627997501, rvalue=-0.2744349737525768, pvalue=0.4428803231273696, stderr=0.3020134001954503)"
      ]
     },
     "execution_count": 37,
     "metadata": {},
     "output_type": "execute_result"
    }
   ],
   "source": [
    "height_reg = ss.linregress(heights, weights)\n",
    "height_reg"
   ]
  },
  {
   "cell_type": "markdown",
   "metadata": {},
   "source": [
    "#### Display estimated weight for the following heights 180,190,200"
   ]
  },
  {
   "cell_type": "code",
   "execution_count": 38,
   "metadata": {},
   "outputs": [
    {
     "name": "stdout",
     "output_type": "stream",
     "text": [
      "[180, 190, 200] [76.21288865394781, 73.77500120140324, 71.33711374885867]\n"
     ]
    }
   ],
   "source": [
    "heights_list = [180,190,200]\n",
    "weights_list = []\n",
    "\n",
    "for n in heights_list:\n",
    "    weight = height_reg.intercept + height_reg.slope * n\n",
    "    weights_list.append(weight)\n",
    "    \n",
    "print(heights_list, weights_list)"
   ]
  },
  {
   "cell_type": "markdown",
   "metadata": {},
   "source": [
    "<h3 style=\"color:red\">Exercises related to House Data</h3>"
   ]
  },
  {
   "cell_type": "code",
   "execution_count": 39,
   "metadata": {},
   "outputs": [],
   "source": [
    "sizes = [1000,2000,1500,1100,1670,1550,3000,2400,3400,1200]\n",
    "ages =  [5,6,2,10,11,7,5,6,8,1]\n",
    "prices = [15.5,25.5,22,10.5,30,35,45,25,43,22]"
   ]
  },
  {
   "cell_type": "markdown",
   "metadata": {},
   "source": [
    "#### Calculate skewness in house prices"
   ]
  },
  {
   "cell_type": "code",
   "execution_count": 40,
   "metadata": {},
   "outputs": [
    {
     "data": {
      "text/plain": [
       "0.2577054368611705"
      ]
     },
     "execution_count": 40,
     "metadata": {},
     "output_type": "execute_result"
    }
   ],
   "source": [
    "ss.skew(prices)"
   ]
  },
  {
   "cell_type": "markdown",
   "metadata": {},
   "source": [
    "#### Calculate variance in house sizes "
   ]
  },
  {
   "cell_type": "code",
   "execution_count": 41,
   "metadata": {},
   "outputs": [
    {
     "data": {
      "text/plain": [
       "665795.5555555555"
      ]
     },
     "execution_count": 41,
     "metadata": {},
     "output_type": "execute_result"
    }
   ],
   "source": [
    "s.variance(sizes)"
   ]
  },
  {
   "cell_type": "markdown",
   "metadata": {},
   "source": [
    "#### Display correlation and p-value between size and price"
   ]
  },
  {
   "cell_type": "code",
   "execution_count": 42,
   "metadata": {},
   "outputs": [
    {
     "data": {
      "text/plain": [
       "(0.83618504618361, 0.0025725398031045785)"
      ]
     },
     "execution_count": 42,
     "metadata": {},
     "output_type": "execute_result"
    }
   ],
   "source": [
    "ss.pearsonr(sizes,prices)"
   ]
  },
  {
   "cell_type": "markdown",
   "metadata": {},
   "source": [
    "#### Display mode for age"
   ]
  },
  {
   "cell_type": "code",
   "execution_count": 43,
   "metadata": {},
   "outputs": [
    {
     "data": {
      "text/plain": [
       "ModeResult(mode=array([5]), count=array([2]))"
      ]
     },
     "execution_count": 43,
     "metadata": {},
     "output_type": "execute_result"
    }
   ],
   "source": [
    "ss.mode(ages)"
   ]
  },
  {
   "cell_type": "markdown",
   "metadata": {},
   "source": [
    "#### Calculate slope and intercept for size and price so that we can calculate price for given size"
   ]
  },
  {
   "cell_type": "code",
   "execution_count": 44,
   "metadata": {},
   "outputs": [
    {
     "data": {
      "text/plain": [
       "LinregressResult(slope=0.011393721128941818, intercept=5.9070168353315005, rvalue=0.83618504618361, pvalue=0.002572539803104576, stderr=0.002642123965417807)"
      ]
     },
     "execution_count": 44,
     "metadata": {},
     "output_type": "execute_result"
    }
   ],
   "source": [
    "size_reg = ss.linregress(sizes,prices)\n",
    "size_reg"
   ]
  },
  {
   "cell_type": "markdown",
   "metadata": {},
   "source": [
    "#### Use slope and intercept calculated above to predict price of houses with sizes : 1500,1550,1600,1850"
   ]
  },
  {
   "cell_type": "code",
   "execution_count": 45,
   "metadata": {},
   "outputs": [
    {
     "name": "stdout",
     "output_type": "stream",
     "text": [
      "[1500, 1550, 1600, 1850] [22.997598528744227, 23.56728458519132, 24.13697064163841, 26.985400923873865]\n"
     ]
    }
   ],
   "source": [
    "sizes_list = [1500,1550,1600,1850]\n",
    "prices_list = []\n",
    "\n",
    "for n in sizes_list:\n",
    "    price = size_reg.intercept + size_reg.slope * n\n",
    "    prices_list.append(price)\n",
    "    \n",
    "print(sizes_list, prices_list)"
   ]
  },
  {
   "cell_type": "markdown",
   "metadata": {},
   "source": [
    "#### Based on age and size of the house find price. Use multi-variable regression to calculate price."
   ]
  },
  {
   "cell_type": "code",
   "execution_count": 46,
   "metadata": {},
   "outputs": [
    {
     "data": {
      "text/plain": [
       "LinregressResult(slope=0.011393721128941818, intercept=5.9070168353315005, rvalue=0.83618504618361, pvalue=0.002572539803104576, stderr=0.002642123965417807)"
      ]
     },
     "execution_count": 46,
     "metadata": {},
     "output_type": "execute_result"
    }
   ],
   "source": [
    "size_reg = ss.linregress(sizes, prices)\n",
    "size_reg"
   ]
  },
  {
   "cell_type": "code",
   "execution_count": 47,
   "metadata": {},
   "outputs": [
    {
     "data": {
      "text/plain": [
       "LinregressResult(slope=0.3053993250843644, intercept=25.48706411698538, rvalue=0.08633046178089812, pvalue=0.8125533057129929, stderr=1.246047411291669)"
      ]
     },
     "execution_count": 47,
     "metadata": {},
     "output_type": "execute_result"
    }
   ],
   "source": [
    "age_reg = ss.linregress(ages, prices)\n",
    "age_reg"
   ]
  },
  {
   "cell_type": "code",
   "execution_count": 48,
   "metadata": {},
   "outputs": [],
   "source": [
    "size_avg = s.mean(sizes)\n",
    "age_avg =  s.mean(ages)\n",
    "price_avg = s.mean(prices)"
   ]
  },
  {
   "cell_type": "code",
   "execution_count": 49,
   "metadata": {},
   "outputs": [],
   "source": [
    "# Calculate intercept for multiple variables \n",
    "intercept = price_avg - size_reg.slope * size_avg  - age_reg.slope * age_avg"
   ]
  },
  {
   "cell_type": "code",
   "execution_count": 50,
   "metadata": {},
   "outputs": [
    {
     "name": "stdout",
     "output_type": "stream",
     "text": [
      " 1000     5    16.96    15.50     1.46\n",
      " 2000     6    28.66    25.50     3.16\n",
      " 1500     2    21.75    22.00    -0.25\n",
      " 1100    10    19.63    10.50     9.13\n",
      " 1670    11    26.43    30.00    -3.57\n",
      " 1550     7    23.84    35.00   -11.16\n",
      " 3000     5    39.75    45.00    -5.25\n",
      " 2400     6    33.22    25.00     8.22\n",
      " 3400     8    45.23    43.00     2.23\n",
      " 1200     1    18.02    22.00    -3.98\n"
     ]
    }
   ],
   "source": [
    "# Calculate price based on both size and age\n",
    "for (size,age, price) in zip(sizes,ages,prices):\n",
    "    p_price = intercept + size * size_reg.slope +  age * age_reg.slope\n",
    "    # find out the difference between predicted and actual \n",
    "    diff = p_price - price\n",
    "    print(f\"{size:5} {age:5} {p_price:8.2f} {price:8.2f} {diff:8.2f}\")"
   ]
  },
  {
   "cell_type": "markdown",
   "metadata": {},
   "source": [
    "## Draw plots to visualize data "
   ]
  },
  {
   "cell_type": "markdown",
   "metadata": {},
   "source": [
    "Copy data into a data frame so that plots can be drawn using plot() method of Series (one column) \n",
    "or DataFrame(multiple columns) data structures.\n",
    "\n",
    "We can create a dataframe from multiple lists as follows:\n",
    "    \n",
    "`df = pd.DataFrame( {'weight' : weights, 'height' : heights})`\n",
    "\n",
    "Once dataframe is created we can draw plots using one or more of its columns"
   ]
  },
  {
   "cell_type": "code",
   "execution_count": 51,
   "metadata": {},
   "outputs": [],
   "source": [
    "df = pd.DataFrame( {'weight' : weights, 'height' : heights})"
   ]
  },
  {
   "cell_type": "markdown",
   "metadata": {},
   "source": [
    "#### Plot a histogram for weights "
   ]
  },
  {
   "cell_type": "code",
   "execution_count": 52,
   "metadata": {},
   "outputs": [
    {
     "data": {
      "text/plain": [
       "<matplotlib.axes._subplots.AxesSubplot at 0x1d4f093b9c8>"
      ]
     },
     "execution_count": 52,
     "metadata": {},
     "output_type": "execute_result"
    },
    {
     "data": {
      "image/png": "[encoded data removed]",
      "text/plain": [
       "<Figure size 432x288 with 1 Axes>"
      ]
     },
     "metadata": {
      "needs_background": "light"
     },
     "output_type": "display_data"
    }
   ],
   "source": [
    "df['weight'].plot.hist()"
   ]
  },
  {
   "cell_type": "markdown",
   "metadata": {},
   "source": [
    "#### Display a scatter plot for weights and heights "
   ]
  },
  {
   "cell_type": "code",
   "execution_count": 53,
   "metadata": {},
   "outputs": [
    {
     "data": {
      "text/plain": [
       "<matplotlib.axes._subplots.AxesSubplot at 0x1d4f0e445c8>"
      ]
     },
     "execution_count": 53,
     "metadata": {},
     "output_type": "execute_result"
    },
    {
     "data": {
      "image/png": "[encoded data removed]",
      "text/plain": [
       "<Figure size 432x288 with 1 Axes>"
      ]
     },
     "metadata": {
      "needs_background": "light"
     },
     "output_type": "display_data"
    }
   ],
   "source": [
    "df.plot.scatter(x='weight',y='height')"
   ]
  },
  {
   "cell_type": "markdown",
   "metadata": {},
   "source": [
    "#### Display box plot for heights with mean line "
   ]
  },
  {
   "cell_type": "code",
   "execution_count": 54,
   "metadata": {},
   "outputs": [
    {
     "data": {
      "text/plain": [
       "<matplotlib.axes._subplots.AxesSubplot at 0x1d4f1ea42c8>"
      ]
     },
     "execution_count": 54,
     "metadata": {},
     "output_type": "execute_result"
    },
    {
     "data": {
      "image/png": "[encoded data removed]",
      "text/plain": [
       "<Figure size 432x288 with 1 Axes>"
      ]
     },
     "metadata": {
      "needs_background": "light"
     },
     "output_type": "display_data"
    }
   ],
   "source": [
    "df['height'].plot.box(showmeans=True,meanline=True)"
   ]
  }
 ],
 "metadata": {
  "kernelspec": {
   "display_name": "Python 3",
   "language": "python",
   "name": "python3"
  },
  "language_info": {
   "codemirror_mode": {
    "name": "ipython",
    "version": 3
   },
   "file_extension": ".py",
   "mimetype": "text/x-python",
   "name": "python",
   "nbconvert_exporter": "python",
   "pygments_lexer": "ipython3",
   "version": "3.7.6"
  }
 },
 "nbformat": 4,
 "nbformat_minor": 4
}
