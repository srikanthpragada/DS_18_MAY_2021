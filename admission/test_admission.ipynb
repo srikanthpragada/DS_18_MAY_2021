{
 "cells": [
  {
   "cell_type": "markdown",
   "metadata": {},
   "source": [
    "## Test Model on user input"
   ]
  },
  {
   "cell_type": "code",
   "execution_count": 1,
   "metadata": {},
   "outputs": [],
   "source": [
    "import pandas as pd"
   ]
  },
  {
   "cell_type": "code",
   "execution_count": 2,
   "metadata": {},
   "outputs": [],
   "source": [
    "# Unpickle model and use it for predicting chances \n",
    "model = pd.read_pickle('lr_model.pickle')"
   ]
  },
  {
   "cell_type": "code",
   "execution_count": 3,
   "metadata": {},
   "outputs": [
    {
     "data": {
      "text/plain": [
       "array([ 0.2530053 ,  0.31789215, 14.25427517])"
      ]
     },
     "execution_count": 3,
     "metadata": {},
     "output_type": "execute_result"
    }
   ],
   "source": [
    "model.coef_"
   ]
  },
  {
   "cell_type": "code",
   "execution_count": 4,
   "metadata": {},
   "outputs": [
    {
     "name": "stdout",
     "output_type": "stream",
     "text": [
      "Probability of getting admission is : 73.65% \n",
      "Probability of getting admission is : 92.49% \n"
     ]
    }
   ],
   "source": [
    "data = [[295,110,9],[335,115,9.5]]\n",
    "result = model.predict(data)\n",
    "for r in result:\n",
    "    print(f\"Probability of getting admission is : {r:.2f}% \")  "
   ]
  },
  {
   "cell_type": "code",
   "execution_count": 5,
   "metadata": {},
   "outputs": [
    {
     "name": "stdin",
     "output_type": "stream",
     "text": [
      "Enter GRE  :   320\n",
      "Enter Toefl:   110\n",
      "Enter CGPA :   8.9\n"
     ]
    },
    {
     "name": "stdout",
     "output_type": "stream",
     "text": [
      "78.54892100755131\n"
     ]
    }
   ],
   "source": [
    "## take input from user and display chances\n",
    "gre = int(input(\"Enter GRE  :  \"))\n",
    "tof = int(input(\"Enter Toefl:  \"))\n",
    "cgpa = float(input(\"Enter CGPA :  \"))\n",
    "chance = model.predict([[gre,tof,cgpa]]) # Matrix \n",
    "print(chance[0])"
   ]
  },
  {
   "cell_type": "code",
   "execution_count": null,
   "metadata": {},
   "outputs": [],
   "source": []
  }
 ],
 "metadata": {
  "kernelspec": {
   "display_name": "Python 3",
   "language": "python",
   "name": "python3"
  },
  "language_info": {
   "codemirror_mode": {
    "name": "ipython",
    "version": 3
   },
   "file_extension": ".py",
   "mimetype": "text/x-python",
   "name": "python",
   "nbconvert_exporter": "python",
   "pygments_lexer": "ipython3",
   "version": "3.8.5"
  }
 },
 "nbformat": 4,
 "nbformat_minor": 4
}
