{
 "cells": [
  {
   "cell_type": "code",
   "execution_count": 67,
   "metadata": {},
   "outputs": [],
   "source": [
    "import matplotlib.pyplot as plt\n",
    "import pandas as pd\n",
    "import numpy as np\n",
    "import seaborn as sns\n",
    "import matplotlib"
   ]
  },
  {
   "cell_type": "code",
   "execution_count": 68,
   "metadata": {},
   "outputs": [],
   "source": [
    "tips = sns.load_dataset('tips')"
   ]
  },
  {
   "cell_type": "markdown",
   "metadata": {},
   "source": [
    "### Box Plot with and without outliers"
   ]
  },
  {
   "cell_type": "code",
   "execution_count": 69,
   "metadata": {},
   "outputs": [
    {
     "data": {
      "image/png": "[encoded data removed]",
      "text/plain": [
       "<Figure size 432x288 with 2 Axes>"
      ]
     },
     "metadata": {
      "needs_background": "light"
     },
     "output_type": "display_data"
    }
   ],
   "source": [
    "fig,(ax1,ax2) = plt.subplots(1,2, sharey=True)\n",
    "a1 = ax1.boxplot(tips['total_bill'],showmeans=True, meanline=True)\n",
    "a2 = ax2.boxplot(tips['total_bill'],showmeans=True, meanline=True, showfliers = False)"
   ]
  },
  {
   "cell_type": "code",
   "execution_count": 70,
   "metadata": {},
   "outputs": [
    {
     "name": "stdout",
     "output_type": "stream",
     "text": [
      "[<matplotlib.axes._subplots.AxesSubplot object at 0x00000122F1EC0588>, <matplotlib.axes._subplots.AxesSubplot object at 0x00000122F1B4DC08>]\n"
     ]
    }
   ],
   "source": [
    "print(fig.axes)"
   ]
  },
  {
   "cell_type": "code",
   "execution_count": 73,
   "metadata": {},
   "outputs": [
    {
     "name": "stdout",
     "output_type": "stream",
     "text": [
      "1249599610952\n"
     ]
    }
   ],
   "source": [
    "print(id(fig))"
   ]
  },
  {
   "cell_type": "code",
   "execution_count": 59,
   "metadata": {},
   "outputs": [
    {
     "name": "stdout",
     "output_type": "stream",
     "text": [
      "{'whiskers': [<matplotlib.lines.Line2D object at 0x00000122F1D8CE88>, <matplotlib.lines.Line2D object at 0x00000122F1D90B88>], 'caps': [<matplotlib.lines.Line2D object at 0x00000122F1D90E88>, <matplotlib.lines.Line2D object at 0x00000122F1D9BF08>], 'boxes': [<matplotlib.lines.Line2D object at 0x00000122F1D891C8>], 'medians': [<matplotlib.lines.Line2D object at 0x00000122F1DA5EC8>], 'fliers': [<matplotlib.lines.Line2D object at 0x00000122F1DB0F08>], 'means': [<matplotlib.lines.Line2D object at 0x00000122F1DA3B08>]}\n"
     ]
    }
   ],
   "source": [
    "print(a1)"
   ]
  },
  {
   "cell_type": "code",
   "execution_count": 60,
   "metadata": {},
   "outputs": [
    {
     "name": "stdout",
     "output_type": "stream",
     "text": [
      "[19.78594262 19.78594262]\n",
      "[19.78594262 19.78594262]\n"
     ]
    }
   ],
   "source": [
    "print(a1['means'][0].get_ydata())\n",
    "print(a2['means'][0].get_ydata())"
   ]
  },
  {
   "cell_type": "code",
   "execution_count": 61,
   "metadata": {},
   "outputs": [
    {
     "name": "stdout",
     "output_type": "stream",
     "text": [
      "<class 'matplotlib.figure.Figure'>\n"
     ]
    }
   ],
   "source": [
    "print(type(fig))"
   ]
  },
  {
   "cell_type": "code",
   "execution_count": 75,
   "metadata": {},
   "outputs": [
    {
     "name": "stdout",
     "output_type": "stream",
     "text": [
      "1249599623944\n"
     ]
    },
    {
     "data": {
      "text/plain": [
       "<Figure size 432x288 with 0 Axes>"
      ]
     },
     "metadata": {},
     "output_type": "display_data"
    }
   ],
   "source": [
    "cfig = plt.gcf()\n",
    "print(id(cfig))"
   ]
  },
  {
   "cell_type": "code",
   "execution_count": null,
   "metadata": {},
   "outputs": [],
   "source": []
  }
 ],
 "metadata": {
  "kernelspec": {
   "display_name": "Python 3",
   "language": "python",
   "name": "python3"
  },
  "language_info": {
   "codemirror_mode": {
    "name": "ipython",
    "version": 3
   },
   "file_extension": ".py",
   "mimetype": "text/x-python",
   "name": "python",
   "nbconvert_exporter": "python",
   "pygments_lexer": "ipython3",
   "version": "3.7.6"
  }
 },
 "nbformat": 4,
 "nbformat_minor": 4
}
