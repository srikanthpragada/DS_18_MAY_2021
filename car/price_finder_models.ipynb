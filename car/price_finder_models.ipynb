{
 "cells": [
  {
   "cell_type": "code",
   "execution_count": 1,
   "metadata": {},
   "outputs": [],
   "source": [
    "# import pandas library\n",
    "import pandas as pd\n",
    "import numpy as np\n",
    "import matplotlib.pyplot as plt\n",
    "import seaborn as sns"
   ]
  },
  {
   "cell_type": "markdown",
   "metadata": {},
   "source": [
    "## Build model using LinearRegression"
   ]
  },
  {
   "cell_type": "code",
   "execution_count": 2,
   "metadata": {},
   "outputs": [],
   "source": [
    "cars = pd.read_csv(\"final_cars.csv\")"
   ]
  },
  {
   "cell_type": "code",
   "execution_count": 3,
   "metadata": {},
   "outputs": [
    {
     "data": {
      "text/plain": [
       "Index(['make', 'fuel-type', 'num-of-doors', 'body-style', 'drive-wheels',\n",
       "       'curb-weight', 'engine-size', 'highway-mpg', 'price'],\n",
       "      dtype='object')"
      ]
     },
     "execution_count": 3,
     "metadata": {},
     "output_type": "execute_result"
    }
   ],
   "source": [
    "cars.columns"
   ]
  },
  {
   "cell_type": "code",
   "execution_count": 4,
   "metadata": {},
   "outputs": [],
   "source": [
    "## create X and Y\n",
    "y = cars['price']\n",
    "X = cars.drop(columns=['price'])"
   ]
  },
  {
   "cell_type": "code",
   "execution_count": 5,
   "metadata": {},
   "outputs": [
    {
     "data": {
      "text/html": [
       "<div>\n",
       "<style scoped>\n",
       "    .dataframe tbody tr th:only-of-type {\n",
       "        vertical-align: middle;\n",
       "    }\n",
       "\n",
       "    .dataframe tbody tr th {\n",
       "        vertical-align: top;\n",
       "    }\n",
       "\n",
       "    .dataframe thead th {\n",
       "        text-align: right;\n",
       "    }\n",
       "</style>\n",
       "<table border=\"1\" class=\"dataframe\">\n",
       "  <thead>\n",
       "    <tr style=\"text-align: right;\">\n",
       "      <th></th>\n",
       "      <th>make</th>\n",
       "      <th>fuel-type</th>\n",
       "      <th>num-of-doors</th>\n",
       "      <th>body-style</th>\n",
       "      <th>drive-wheels</th>\n",
       "      <th>curb-weight</th>\n",
       "      <th>engine-size</th>\n",
       "      <th>highway-mpg</th>\n",
       "    </tr>\n",
       "  </thead>\n",
       "  <tbody>\n",
       "    <tr>\n",
       "      <th>162</th>\n",
       "      <td>toyota</td>\n",
       "      <td>gas</td>\n",
       "      <td>two</td>\n",
       "      <td>hatchback</td>\n",
       "      <td>rwd</td>\n",
       "      <td>2300</td>\n",
       "      <td>98</td>\n",
       "      <td>29</td>\n",
       "    </tr>\n",
       "    <tr>\n",
       "      <th>161</th>\n",
       "      <td>toyota</td>\n",
       "      <td>gas</td>\n",
       "      <td>two</td>\n",
       "      <td>sedan</td>\n",
       "      <td>rwd</td>\n",
       "      <td>2265</td>\n",
       "      <td>98</td>\n",
       "      <td>29</td>\n",
       "    </tr>\n",
       "    <tr>\n",
       "      <th>184</th>\n",
       "      <td>volkswagen</td>\n",
       "      <td>gas</td>\n",
       "      <td>four</td>\n",
       "      <td>sedan</td>\n",
       "      <td>fwd</td>\n",
       "      <td>2300</td>\n",
       "      <td>109</td>\n",
       "      <td>32</td>\n",
       "    </tr>\n",
       "    <tr>\n",
       "      <th>4</th>\n",
       "      <td>audi</td>\n",
       "      <td>gas</td>\n",
       "      <td>four</td>\n",
       "      <td>sedan</td>\n",
       "      <td>4wd</td>\n",
       "      <td>2824</td>\n",
       "      <td>136</td>\n",
       "      <td>22</td>\n",
       "    </tr>\n",
       "    <tr>\n",
       "      <th>198</th>\n",
       "      <td>volvo</td>\n",
       "      <td>gas</td>\n",
       "      <td>four</td>\n",
       "      <td>sedan</td>\n",
       "      <td>rwd</td>\n",
       "      <td>3012</td>\n",
       "      <td>173</td>\n",
       "      <td>23</td>\n",
       "    </tr>\n",
       "  </tbody>\n",
       "</table>\n",
       "</div>"
      ],
      "text/plain": [
       "           make fuel-type num-of-doors body-style drive-wheels  curb-weight  \\\n",
       "162      toyota       gas          two  hatchback          rwd         2300   \n",
       "161      toyota       gas          two      sedan          rwd         2265   \n",
       "184  volkswagen       gas         four      sedan          fwd         2300   \n",
       "4          audi       gas         four      sedan          4wd         2824   \n",
       "198       volvo       gas         four      sedan          rwd         3012   \n",
       "\n",
       "     engine-size  highway-mpg  \n",
       "162           98           29  \n",
       "161           98           29  \n",
       "184          109           32  \n",
       "4            136           22  \n",
       "198          173           23  "
      ]
     },
     "execution_count": 5,
     "metadata": {},
     "output_type": "execute_result"
    }
   ],
   "source": [
    "X.sample(5)"
   ]
  },
  {
   "cell_type": "code",
   "execution_count": 6,
   "metadata": {},
   "outputs": [],
   "source": [
    "X  = pd.get_dummies(X)"
   ]
  },
  {
   "cell_type": "code",
   "execution_count": 7,
   "metadata": {},
   "outputs": [
    {
     "data": {
      "text/plain": [
       "((201, 37), (201,))"
      ]
     },
     "execution_count": 7,
     "metadata": {},
     "output_type": "execute_result"
    }
   ],
   "source": [
    "X.shape,y.shape"
   ]
  },
  {
   "cell_type": "code",
   "execution_count": 8,
   "metadata": {},
   "outputs": [
    {
     "data": {
      "text/plain": [
       "Index(['curb-weight', 'engine-size', 'highway-mpg', 'make_alfa-romero',\n",
       "       'make_audi', 'make_bmw', 'make_chevrolet', 'make_dodge', 'make_honda',\n",
       "       'make_isuzu', 'make_jaguar', 'make_mazda', 'make_mercedes-benz',\n",
       "       'make_mercury', 'make_mitsubishi', 'make_nissan', 'make_peugot',\n",
       "       'make_plymouth', 'make_porsche', 'make_renault', 'make_saab',\n",
       "       'make_subaru', 'make_toyota', 'make_volkswagen', 'make_volvo',\n",
       "       'fuel-type_diesel', 'fuel-type_gas', 'num-of-doors_four',\n",
       "       'num-of-doors_two', 'body-style_convertible', 'body-style_hardtop',\n",
       "       'body-style_hatchback', 'body-style_sedan', 'body-style_wagon',\n",
       "       'drive-wheels_4wd', 'drive-wheels_fwd', 'drive-wheels_rwd'],\n",
       "      dtype='object')"
      ]
     },
     "execution_count": 8,
     "metadata": {},
     "output_type": "execute_result"
    }
   ],
   "source": [
    "X.columns"
   ]
  },
  {
   "cell_type": "code",
   "execution_count": 9,
   "metadata": {},
   "outputs": [],
   "source": [
    "from sklearn.model_selection import train_test_split"
   ]
  },
  {
   "cell_type": "code",
   "execution_count": 10,
   "metadata": {},
   "outputs": [],
   "source": [
    "from sklearn.linear_model import LinearRegression"
   ]
  },
  {
   "cell_type": "code",
   "execution_count": 11,
   "metadata": {},
   "outputs": [],
   "source": [
    "X_train, X_test, y_train, y_test = train_test_split(X,y, test_size=0.2, random_state=99)"
   ]
  },
  {
   "cell_type": "code",
   "execution_count": 12,
   "metadata": {},
   "outputs": [
    {
     "data": {
      "text/plain": [
       "LinearRegression()"
      ]
     },
     "execution_count": 12,
     "metadata": {},
     "output_type": "execute_result"
    }
   ],
   "source": [
    "model = LinearRegression()\n",
    "model.fit(X_train,y_train)"
   ]
  },
  {
   "cell_type": "code",
   "execution_count": 13,
   "metadata": {},
   "outputs": [
    {
     "name": "stdout",
     "output_type": "stream",
     "text": [
      "curb-weight               6\n",
      "engine-size               36\n",
      "highway-mpg               -61\n",
      "make_alfa-romero          -2153\n",
      "make_audi                 2658\n",
      "make_bmw                  7931\n",
      "make_chevrolet            -121\n",
      "make_dodge                -2116\n",
      "make_honda                -1250\n",
      "make_isuzu                -6058\n",
      "make_jaguar               6193\n",
      "make_mazda                -1128\n",
      "make_mercedes-benz        6816\n",
      "make_mercury              -1083\n",
      "make_mitsubishi           -2902\n",
      "make_nissan               -1874\n",
      "make_peugot               -3491\n",
      "make_plymouth             -2727\n",
      "make_porsche              11762\n",
      "make_renault              -3278\n",
      "make_saab                 -340\n",
      "make_subaru               -2340\n",
      "make_toyota               -2902\n",
      "make_volkswagen           -1492\n",
      "make_volvo                -105\n",
      "fuel-type_diesel          -15\n",
      "fuel-type_gas             15\n",
      "num-of-doors_four         33\n",
      "num-of-doors_two          -33\n",
      "body-style_convertible    2856\n",
      "body-style_hardtop        -1070\n",
      "body-style_hatchback      -133\n",
      "body-style_sedan          -67\n",
      "body-style_wagon          -1586\n",
      "drive-wheels_4wd          -537\n",
      "drive-wheels_fwd          -180\n",
      "drive-wheels_rwd          717\n"
     ]
    }
   ],
   "source": [
    "# Display coefficient for each column\n",
    "for t in zip(X_train.columns, model.coef_):\n",
    "  print(f\"{t[0]:25s} {t[1]:.0f}\")"
   ]
  },
  {
   "cell_type": "code",
   "execution_count": 14,
   "metadata": {},
   "outputs": [
    {
     "data": {
      "text/plain": [
       "-4462.332309511436"
      ]
     },
     "execution_count": 14,
     "metadata": {},
     "output_type": "execute_result"
    }
   ],
   "source": [
    "model.intercept_"
   ]
  },
  {
   "cell_type": "markdown",
   "metadata": {},
   "source": [
    "### Calculate accuracy with train data"
   ]
  },
  {
   "cell_type": "code",
   "execution_count": 14,
   "metadata": {},
   "outputs": [],
   "source": [
    "from sklearn.metrics import mean_squared_error, r2_score, mean_absolute_error"
   ]
  },
  {
   "cell_type": "code",
   "execution_count": 15,
   "metadata": {},
   "outputs": [
    {
     "name": "stdout",
     "output_type": "stream",
     "text": [
      "MSE  :  3914467.983918011\n",
      "RMSE :  1978.5014490563335\n"
     ]
    }
   ],
   "source": [
    "y_pred = model.predict(X_train)\n",
    "print(\"MSE  : \", mean_squared_error(y_train,y_pred))\n",
    "print(\"RMSE : \", np.sqrt(mean_squared_error(y_train,y_pred)))"
   ]
  },
  {
   "cell_type": "code",
   "execution_count": 16,
   "metadata": {},
   "outputs": [
    {
     "name": "stdout",
     "output_type": "stream",
     "text": [
      "R2 Score: 0.93\n"
     ]
    }
   ],
   "source": [
    "r2score = r2_score(y_train,y_pred)\n",
    "print(f\"R2 Score: {r2score:0.2f}\")"
   ]
  },
  {
   "cell_type": "markdown",
   "metadata": {},
   "source": [
    "### Test with test data"
   ]
  },
  {
   "cell_type": "code",
   "execution_count": 17,
   "metadata": {},
   "outputs": [],
   "source": [
    "y_pred = model.predict(X_test)"
   ]
  },
  {
   "cell_type": "code",
   "execution_count": 18,
   "metadata": {},
   "outputs": [
    {
     "name": "stdout",
     "output_type": "stream",
     "text": [
      "Mean Squared Error : 6367777.45\n",
      "Root Mean Squared Error : 2523.45\n",
      "R2 Score: 0.93\n"
     ]
    }
   ],
   "source": [
    "## get MSE \n",
    "mse = mean_squared_error(y_test,y_pred)\n",
    "print(f\"Mean Squared Error : {mse:0.2f}\")\n",
    "\n",
    "rmse = np.sqrt(mse)\n",
    "print(f\"Root Mean Squared Error : {rmse:0.2f}\")\n",
    "\n",
    "r2score = r2_score(y_test,y_pred)\n",
    "print(f\"R2 Score: {r2score:0.2f}\")"
   ]
  },
  {
   "cell_type": "code",
   "execution_count": 19,
   "metadata": {},
   "outputs": [
    {
     "data": {
      "text/plain": [
       "<AxesSubplot:ylabel='price'>"
      ]
     },
     "execution_count": 19,
     "metadata": {},
     "output_type": "execute_result"
    },
    {
     "data": {
      "image/png": "[encoded data removed]",
      "text/plain": [
       "<Figure size 1440x720 with 1 Axes>"
      ]
     },
     "metadata": {
      "needs_background": "light"
     },
     "output_type": "display_data"
    }
   ],
   "source": [
    "# Compare actual and predicted values\n",
    "plt.gcf().set_size_inches(20,10)\n",
    "sns.lineplot( y = y_test, x = X_test.index, label=\"Actual\")\n",
    "sns.lineplot( y = y_pred, x = X_test.index, label=\"Predicted\")"
   ]
  },
  {
   "cell_type": "code",
   "execution_count": 21,
   "metadata": {},
   "outputs": [
    {
     "name": "stdout",
     "output_type": "stream",
     "text": [
      " 34753  -   45400 - -10647\n",
      "  6386  -    6692 -   -306\n",
      "  7168  -    7395 -   -227\n",
      " 16194  -   16558 -   -364\n",
      "  9871  -    9549 -    322\n",
      " 11514  -   12945 -  -1431\n",
      " 29318  -   34028 -  -4710\n",
      "  9356  -    9279 -     77\n",
      "  7508  -    7463 -     45\n",
      " 14624  -   15510 -   -886\n"
     ]
    }
   ],
   "source": [
    "for p,a in zip(y_pred[:10],y_test[:10]):\n",
    "    print(f\"{p:6.0f}  -  {a:6.0f} - {p - a:6.0f}\")"
   ]
  },
  {
   "cell_type": "code",
   "execution_count": 22,
   "metadata": {},
   "outputs": [
    {
     "name": "stdout",
     "output_type": "stream",
     "text": [
      " 34753  -   45400 - -10647 - 23.45\n",
      "  6386  -    6692 -   -306 -  4.57\n",
      "  7168  -    7395 -   -227 -  3.07\n",
      " 16194  -   16558 -   -364 -  2.20\n",
      "  9871  -    9549 -    322 -  3.37\n",
      " 11514  -   12945 -  -1431 - 11.06\n",
      " 29318  -   34028 -  -4710 - 13.84\n",
      "  9356  -    9279 -     77 -  0.83\n",
      "  7508  -    7463 -     45 -  0.60\n",
      " 14624  -   15510 -   -886 -  5.71\n"
     ]
    }
   ],
   "source": [
    "# Display % of difference \n",
    "for p,a in zip(y_pred[:10],y_test[:10]):\n",
    "    d = p - a\n",
    "    print(f\"{p:6.0f}  -  {a:6.0f} - {p - a:6.0f} - {abs(d / a * 100):5.2f}\")"
   ]
  },
  {
   "cell_type": "markdown",
   "metadata": {},
   "source": [
    "## Model with Standardization "
   ]
  },
  {
   "cell_type": "code",
   "execution_count": 23,
   "metadata": {},
   "outputs": [],
   "source": [
    "cars = pd.read_csv(\"final_cars.csv\")"
   ]
  },
  {
   "cell_type": "code",
   "execution_count": 24,
   "metadata": {},
   "outputs": [],
   "source": [
    "## create X and Y\n",
    "y = cars['price']\n",
    "X = cars.drop(columns=['price'])"
   ]
  },
  {
   "cell_type": "code",
   "execution_count": 25,
   "metadata": {},
   "outputs": [],
   "source": [
    "X = pd.get_dummies(X)"
   ]
  },
  {
   "cell_type": "code",
   "execution_count": 26,
   "metadata": {},
   "outputs": [],
   "source": [
    "X_train, X_test, y_train, y_test = train_test_split(X,y, test_size=0.2, random_state=99)"
   ]
  },
  {
   "cell_type": "code",
   "execution_count": 27,
   "metadata": {},
   "outputs": [],
   "source": [
    "from sklearn.preprocessing import StandardScaler\n",
    "scaler = StandardScaler()"
   ]
  },
  {
   "cell_type": "code",
   "execution_count": 28,
   "metadata": {},
   "outputs": [],
   "source": [
    "## Scale X_train and X_test\n",
    "X_train = scaler.fit_transform(X_train)\n",
    "X_test = scaler.transform(X_test)"
   ]
  },
  {
   "cell_type": "code",
   "execution_count": 29,
   "metadata": {},
   "outputs": [],
   "source": [
    "X_train = pd.DataFrame(X_train,columns = X.columns)"
   ]
  },
  {
   "cell_type": "code",
   "execution_count": 30,
   "metadata": {},
   "outputs": [],
   "source": [
    "X_test = pd.DataFrame(X_test,columns = X.columns)"
   ]
  },
  {
   "cell_type": "code",
   "execution_count": 31,
   "metadata": {},
   "outputs": [
    {
     "data": {
      "text/html": [
       "<div>\n",
       "<style scoped>\n",
       "    .dataframe tbody tr th:only-of-type {\n",
       "        vertical-align: middle;\n",
       "    }\n",
       "\n",
       "    .dataframe tbody tr th {\n",
       "        vertical-align: top;\n",
       "    }\n",
       "\n",
       "    .dataframe thead th {\n",
       "        text-align: right;\n",
       "    }\n",
       "</style>\n",
       "<table border=\"1\" class=\"dataframe\">\n",
       "  <thead>\n",
       "    <tr style=\"text-align: right;\">\n",
       "      <th></th>\n",
       "      <th>curb-weight</th>\n",
       "      <th>engine-size</th>\n",
       "      <th>highway-mpg</th>\n",
       "      <th>make_alfa-romero</th>\n",
       "      <th>make_audi</th>\n",
       "      <th>make_bmw</th>\n",
       "      <th>make_chevrolet</th>\n",
       "      <th>make_dodge</th>\n",
       "      <th>make_honda</th>\n",
       "      <th>make_isuzu</th>\n",
       "      <th>...</th>\n",
       "      <th>num-of-doors_four</th>\n",
       "      <th>num-of-doors_two</th>\n",
       "      <th>body-style_convertible</th>\n",
       "      <th>body-style_hardtop</th>\n",
       "      <th>body-style_hatchback</th>\n",
       "      <th>body-style_sedan</th>\n",
       "      <th>body-style_wagon</th>\n",
       "      <th>drive-wheels_4wd</th>\n",
       "      <th>drive-wheels_fwd</th>\n",
       "      <th>drive-wheels_rwd</th>\n",
       "    </tr>\n",
       "  </thead>\n",
       "  <tbody>\n",
       "    <tr>\n",
       "      <th>0</th>\n",
       "      <td>2.413275</td>\n",
       "      <td>4.982797</td>\n",
       "      <td>-2.238975</td>\n",
       "      <td>-0.138233</td>\n",
       "      <td>-0.197386</td>\n",
       "      <td>-0.197386</td>\n",
       "      <td>-0.138233</td>\n",
       "      <td>-0.229416</td>\n",
       "      <td>-0.271708</td>\n",
       "      <td>-0.079305</td>\n",
       "      <td>...</td>\n",
       "      <td>-1.148408</td>\n",
       "      <td>1.148408</td>\n",
       "      <td>-0.197386</td>\n",
       "      <td>5.567764</td>\n",
       "      <td>-0.733799</td>\n",
       "      <td>-0.916013</td>\n",
       "      <td>-0.377964</td>\n",
       "      <td>-0.229416</td>\n",
       "      <td>-1.224745</td>\n",
       "      <td>1.362770</td>\n",
       "    </tr>\n",
       "    <tr>\n",
       "      <th>1</th>\n",
       "      <td>-1.071322</td>\n",
       "      <td>-0.923353</td>\n",
       "      <td>1.017716</td>\n",
       "      <td>-0.138233</td>\n",
       "      <td>-0.197386</td>\n",
       "      <td>-0.197386</td>\n",
       "      <td>-0.138233</td>\n",
       "      <td>4.358899</td>\n",
       "      <td>-0.271708</td>\n",
       "      <td>-0.079305</td>\n",
       "      <td>...</td>\n",
       "      <td>0.870771</td>\n",
       "      <td>-0.870771</td>\n",
       "      <td>-0.197386</td>\n",
       "      <td>-0.179605</td>\n",
       "      <td>-0.733799</td>\n",
       "      <td>1.091687</td>\n",
       "      <td>-0.377964</td>\n",
       "      <td>-0.229416</td>\n",
       "      <td>0.816497</td>\n",
       "      <td>-0.733799</td>\n",
       "    </tr>\n",
       "    <tr>\n",
       "      <th>2</th>\n",
       "      <td>-1.150058</td>\n",
       "      <td>-0.895755</td>\n",
       "      <td>1.017716</td>\n",
       "      <td>-0.138233</td>\n",
       "      <td>-0.197386</td>\n",
       "      <td>-0.197386</td>\n",
       "      <td>-0.138233</td>\n",
       "      <td>-0.229416</td>\n",
       "      <td>-0.271708</td>\n",
       "      <td>-0.079305</td>\n",
       "      <td>...</td>\n",
       "      <td>0.870771</td>\n",
       "      <td>-0.870771</td>\n",
       "      <td>-0.197386</td>\n",
       "      <td>-0.179605</td>\n",
       "      <td>-0.733799</td>\n",
       "      <td>1.091687</td>\n",
       "      <td>-0.377964</td>\n",
       "      <td>-0.229416</td>\n",
       "      <td>0.816497</td>\n",
       "      <td>-0.733799</td>\n",
       "    </tr>\n",
       "    <tr>\n",
       "      <th>3</th>\n",
       "      <td>0.921319</td>\n",
       "      <td>1.312152</td>\n",
       "      <td>-1.054724</td>\n",
       "      <td>-0.138233</td>\n",
       "      <td>-0.197386</td>\n",
       "      <td>-0.197386</td>\n",
       "      <td>-0.138233</td>\n",
       "      <td>-0.229416</td>\n",
       "      <td>-0.271708</td>\n",
       "      <td>-0.079305</td>\n",
       "      <td>...</td>\n",
       "      <td>-1.148408</td>\n",
       "      <td>1.148408</td>\n",
       "      <td>-0.197386</td>\n",
       "      <td>-0.179605</td>\n",
       "      <td>1.362770</td>\n",
       "      <td>-0.916013</td>\n",
       "      <td>-0.377964</td>\n",
       "      <td>-0.229416</td>\n",
       "      <td>-1.224745</td>\n",
       "      <td>1.362770</td>\n",
       "    </tr>\n",
       "    <tr>\n",
       "      <th>4</th>\n",
       "      <td>-0.439410</td>\n",
       "      <td>-0.095388</td>\n",
       "      <td>0.425590</td>\n",
       "      <td>-0.138233</td>\n",
       "      <td>-0.197386</td>\n",
       "      <td>-0.197386</td>\n",
       "      <td>-0.138233</td>\n",
       "      <td>-0.229416</td>\n",
       "      <td>-0.271708</td>\n",
       "      <td>-0.079305</td>\n",
       "      <td>...</td>\n",
       "      <td>0.870771</td>\n",
       "      <td>-0.870771</td>\n",
       "      <td>-0.197386</td>\n",
       "      <td>-0.179605</td>\n",
       "      <td>-0.733799</td>\n",
       "      <td>1.091687</td>\n",
       "      <td>-0.377964</td>\n",
       "      <td>-0.229416</td>\n",
       "      <td>0.816497</td>\n",
       "      <td>-0.733799</td>\n",
       "    </tr>\n",
       "  </tbody>\n",
       "</table>\n",
       "<p>5 rows × 37 columns</p>\n",
       "</div>"
      ],
      "text/plain": [
       "   curb-weight  engine-size  highway-mpg  make_alfa-romero  make_audi  \\\n",
       "0     2.413275     4.982797    -2.238975         -0.138233  -0.197386   \n",
       "1    -1.071322    -0.923353     1.017716         -0.138233  -0.197386   \n",
       "2    -1.150058    -0.895755     1.017716         -0.138233  -0.197386   \n",
       "3     0.921319     1.312152    -1.054724         -0.138233  -0.197386   \n",
       "4    -0.439410    -0.095388     0.425590         -0.138233  -0.197386   \n",
       "\n",
       "   make_bmw  make_chevrolet  make_dodge  make_honda  make_isuzu  ...  \\\n",
       "0 -0.197386       -0.138233   -0.229416   -0.271708   -0.079305  ...   \n",
       "1 -0.197386       -0.138233    4.358899   -0.271708   -0.079305  ...   \n",
       "2 -0.197386       -0.138233   -0.229416   -0.271708   -0.079305  ...   \n",
       "3 -0.197386       -0.138233   -0.229416   -0.271708   -0.079305  ...   \n",
       "4 -0.197386       -0.138233   -0.229416   -0.271708   -0.079305  ...   \n",
       "\n",
       "   num-of-doors_four  num-of-doors_two  body-style_convertible  \\\n",
       "0          -1.148408          1.148408               -0.197386   \n",
       "1           0.870771         -0.870771               -0.197386   \n",
       "2           0.870771         -0.870771               -0.197386   \n",
       "3          -1.148408          1.148408               -0.197386   \n",
       "4           0.870771         -0.870771               -0.197386   \n",
       "\n",
       "   body-style_hardtop  body-style_hatchback  body-style_sedan  \\\n",
       "0            5.567764             -0.733799         -0.916013   \n",
       "1           -0.179605             -0.733799          1.091687   \n",
       "2           -0.179605             -0.733799          1.091687   \n",
       "3           -0.179605              1.362770         -0.916013   \n",
       "4           -0.179605             -0.733799          1.091687   \n",
       "\n",
       "   body-style_wagon  drive-wheels_4wd  drive-wheels_fwd  drive-wheels_rwd  \n",
       "0         -0.377964         -0.229416         -1.224745          1.362770  \n",
       "1         -0.377964         -0.229416          0.816497         -0.733799  \n",
       "2         -0.377964         -0.229416          0.816497         -0.733799  \n",
       "3         -0.377964         -0.229416         -1.224745          1.362770  \n",
       "4         -0.377964         -0.229416          0.816497         -0.733799  \n",
       "\n",
       "[5 rows x 37 columns]"
      ]
     },
     "execution_count": 31,
     "metadata": {},
     "output_type": "execute_result"
    }
   ],
   "source": [
    "X_test.head()"
   ]
  },
  {
   "cell_type": "code",
   "execution_count": 32,
   "metadata": {},
   "outputs": [
    {
     "data": {
      "text/plain": [
       "LinearRegression()"
      ]
     },
     "execution_count": 32,
     "metadata": {},
     "output_type": "execute_result"
    }
   ],
   "source": [
    "model = LinearRegression()\n",
    "model.fit(X_train,y_train)"
   ]
  },
  {
   "cell_type": "code",
   "execution_count": 33,
   "metadata": {},
   "outputs": [],
   "source": [
    "y_pred = model.predict(X_test)"
   ]
  },
  {
   "cell_type": "code",
   "execution_count": 34,
   "metadata": {},
   "outputs": [
    {
     "name": "stdout",
     "output_type": "stream",
     "text": [
      "Mean Squared Error : 6364593.06\n",
      "Root Mean Squared Error : 2522.81\n",
      "Mean Absolute Error : 1636.91\n",
      "R2 Score: 0.93\n"
     ]
    }
   ],
   "source": [
    "## get MSE \n",
    "mse = mean_squared_error(y_test,y_pred)\n",
    "print(f\"Mean Squared Error : {mse:0.2f}\")\n",
    "\n",
    "rmse = np.sqrt(mean_squared_error(y_test,y_pred))\n",
    "print(f\"Root Mean Squared Error : {rmse:0.2f}\")\n",
    "\n",
    "mae = mean_absolute_error(y_test,y_pred)\n",
    "print(f\"Mean Absolute Error : {mae:0.2f}\")\n",
    "\n",
    "r2score = r2_score(y_test,y_pred)\n",
    "print(f\"R2 Score: {r2score:0.2f}\")"
   ]
  },
  {
   "cell_type": "markdown",
   "metadata": {},
   "source": [
    "### Micro model with 2 features "
   ]
  },
  {
   "cell_type": "code",
   "execution_count": 20,
   "metadata": {},
   "outputs": [],
   "source": [
    "# Micro model\n",
    "X_micro =  X[['engine-size','highway-mpg']]\n",
    "y_micro =  y"
   ]
  },
  {
   "cell_type": "code",
   "execution_count": 21,
   "metadata": {},
   "outputs": [],
   "source": [
    "X_micro_train, X_micro_test, y_micro_train, y_micro_test = train_test_split(X_micro,y_micro, test_size=0.2, random_state=0)"
   ]
  },
  {
   "cell_type": "code",
   "execution_count": 22,
   "metadata": {},
   "outputs": [
    {
     "data": {
      "text/plain": [
       "LinearRegression()"
      ]
     },
     "execution_count": 22,
     "metadata": {},
     "output_type": "execute_result"
    }
   ],
   "source": [
    "micro_model = LinearRegression()\n",
    "micro_model.fit(X_micro_train,y_micro_train)"
   ]
  },
  {
   "cell_type": "code",
   "execution_count": 23,
   "metadata": {},
   "outputs": [
    {
     "data": {
      "text/plain": [
       "0.7796926906820936"
      ]
     },
     "execution_count": 23,
     "metadata": {},
     "output_type": "execute_result"
    }
   ],
   "source": [
    "micro_model.score(X_micro_train,y_micro_train) # r2 for train data "
   ]
  },
  {
   "cell_type": "code",
   "execution_count": 24,
   "metadata": {},
   "outputs": [],
   "source": [
    "y_micro_pred = micro_model.predict(X_micro_test)"
   ]
  },
  {
   "cell_type": "code",
   "execution_count": 25,
   "metadata": {},
   "outputs": [
    {
     "name": "stdout",
     "output_type": "stream",
     "text": [
      "R2 Score: 0.79\n",
      "Mean Squared Error : 15885068.97\n",
      "Root Mean Squared Error : 3985.61\n"
     ]
    }
   ],
   "source": [
    "r2score = r2_score(y_micro_test,y_micro_pred)\n",
    "print(f\"R2 Score: {r2score:0.2f}\")\n",
    "\n",
    "mse = mean_squared_error(y_micro_test,y_micro_pred)\n",
    "print(f\"Mean Squared Error : {mse:0.2f}\")\n",
    "\n",
    "rmse = np.sqrt(mse)\n",
    "print(f\"Root Mean Squared Error : {rmse:0.2f}\")"
   ]
  },
  {
   "cell_type": "markdown",
   "metadata": {},
   "source": [
    "## RandomForestRegressor "
   ]
  },
  {
   "cell_type": "code",
   "execution_count": 26,
   "metadata": {},
   "outputs": [],
   "source": [
    "from sklearn.ensemble import RandomForestRegressor"
   ]
  },
  {
   "cell_type": "code",
   "execution_count": 27,
   "metadata": {},
   "outputs": [],
   "source": [
    "X_train, X_test, y_train, y_test = train_test_split(X,y, test_size=0.2, random_state=99)"
   ]
  },
  {
   "cell_type": "code",
   "execution_count": 28,
   "metadata": {},
   "outputs": [
    {
     "name": "stdout",
     "output_type": "stream",
     "text": [
      "Train score : 0.9753137173717364\n"
     ]
    }
   ],
   "source": [
    "model = RandomForestRegressor(n_estimators=10)\n",
    "model.fit(X_train, y_train)\n",
    "print(f'Train score : {model.score(X_train,y_train)}')"
   ]
  },
  {
   "cell_type": "code",
   "execution_count": 29,
   "metadata": {},
   "outputs": [
    {
     "name": "stdout",
     "output_type": "stream",
     "text": [
      "Test Score  : 0.92\n"
     ]
    }
   ],
   "source": [
    "y_pred = model.predict(X_test)\n",
    "r2score = r2_score(y_test,y_pred)\n",
    "print(f'Test Score  : {r2score:0.2f}')"
   ]
  },
  {
   "cell_type": "code",
   "execution_count": 30,
   "metadata": {},
   "outputs": [
    {
     "name": "stdout",
     "output_type": "stream",
     "text": [
      "MSE  :  6942758.473902439\n",
      "RMSE :  2634.9114736367214\n"
     ]
    }
   ],
   "source": [
    "mse = mean_squared_error(y_test,y_pred)\n",
    "print(\"MSE  : \",mse)\n",
    "print(\"RMSE : \", np.sqrt(mse))"
   ]
  },
  {
   "cell_type": "code",
   "execution_count": 31,
   "metadata": {},
   "outputs": [
    {
     "name": "stdout",
     "output_type": "stream",
     "text": [
      "engine-size                    0.47\n",
      "curb-weight                    0.43\n",
      "highway-mpg                    0.05\n",
      "make_bmw                       0.02\n",
      "body-style_sedan               0.00\n",
      "fuel-type_gas                  0.00\n",
      "fuel-type_diesel               0.00\n",
      "body-style_hatchback           0.00\n",
      "drive-wheels_rwd               0.00\n",
      "make_audi                      0.00\n",
      "body-style_convertible         0.00\n",
      "make_peugot                    0.00\n",
      "body-style_hardtop             0.00\n",
      "make_volvo                     0.00\n",
      "num-of-doors_four              0.00\n",
      "make_porsche                   0.00\n",
      "make_toyota                    0.00\n",
      "make_alfa-romero               0.00\n",
      "num-of-doors_two               0.00\n",
      "drive-wheels_fwd               0.00\n",
      "make_mazda                     0.00\n",
      "make_volkswagen                0.00\n",
      "make_isuzu                     0.00\n",
      "make_mercury                   0.00\n",
      "make_mitsubishi                0.00\n",
      "make_renault                   0.00\n",
      "make_honda                     0.00\n",
      "make_saab                      0.00\n",
      "make_subaru                    0.00\n",
      "body-style_wagon               0.00\n",
      "drive-wheels_4wd               0.00\n",
      "make_plymouth                  0.00\n",
      "make_dodge                     0.00\n",
      "make_nissan                    0.00\n",
      "make_chevrolet                 0.00\n",
      "make_mercedes-benz             0.00\n",
      "make_jaguar                    0.00\n"
     ]
    }
   ],
   "source": [
    "for f,v in sorted(zip (X_train.columns, model.feature_importances_),key = lambda t : t[1], reverse = True):\n",
    "      print(f\"{f:30} {v:0.2f}\")"
   ]
  },
  {
   "cell_type": "code",
   "execution_count": 32,
   "metadata": {},
   "outputs": [
    {
     "data": {
      "text/plain": [
       "<AxesSubplot:ylabel='price'>"
      ]
     },
     "execution_count": 32,
     "metadata": {},
     "output_type": "execute_result"
    },
    {
     "data": {
      "image/png": "[encoded data removed]",
      "text/plain": [
       "<Figure size 1440x720 with 1 Axes>"
      ]
     },
     "metadata": {
      "needs_background": "light"
     },
     "output_type": "display_data"
    }
   ],
   "source": [
    "# Compare actual and predicted values\n",
    "plt.gcf().set_size_inches(20,10)\n",
    "sns.lineplot( y = y_test, x = X_test.index, label=\"Actual\")\n",
    "sns.lineplot( y = y_pred, x = X_test.index, label=\"Predicted\")"
   ]
  },
  {
   "cell_type": "markdown",
   "metadata": {},
   "source": [
    "### SGDRegressor"
   ]
  },
  {
   "cell_type": "code",
   "execution_count": 33,
   "metadata": {},
   "outputs": [],
   "source": [
    "from sklearn.linear_model import SGDRegressor"
   ]
  },
  {
   "cell_type": "code",
   "execution_count": 49,
   "metadata": {},
   "outputs": [],
   "source": [
    "X_mini = X[['curb-weight','engine-size','highway-mpg']]"
   ]
  },
  {
   "cell_type": "code",
   "execution_count": 50,
   "metadata": {},
   "outputs": [],
   "source": [
    "X_train, X_test, y_train, y_test = train_test_split(X,y, test_size=0.2, random_state=99)"
   ]
  },
  {
   "cell_type": "code",
   "execution_count": 51,
   "metadata": {},
   "outputs": [],
   "source": [
    "from sklearn.preprocessing import StandardScaler\n",
    "scaler = StandardScaler()"
   ]
  },
  {
   "cell_type": "code",
   "execution_count": 52,
   "metadata": {},
   "outputs": [],
   "source": [
    "## use same scale for X_train and X_test\n",
    "scaler.fit(X_train)\n",
    "X_train = scaler.transform(X_train)\n",
    "X_test = scaler.transform(X_test)"
   ]
  },
  {
   "cell_type": "code",
   "execution_count": 53,
   "metadata": {},
   "outputs": [
    {
     "name": "stdout",
     "output_type": "stream",
     "text": [
      "Train score : 0.9270594276291244\n"
     ]
    }
   ],
   "source": [
    "model = SGDRegressor(random_state=100)\n",
    "model.fit(X_train, y_train)\n",
    "print(f'Train score : {model.score(X_train,y_train)}')"
   ]
  },
  {
   "cell_type": "code",
   "execution_count": 54,
   "metadata": {},
   "outputs": [
    {
     "name": "stdout",
     "output_type": "stream",
     "text": [
      "Test Score  : 0.93\n"
     ]
    }
   ],
   "source": [
    "y_pred = model.predict(X_test)\n",
    "r2score = r2_score(y_test,y_pred)\n",
    "print(f'Test Score  : {r2score:0.2f}')"
   ]
  },
  {
   "cell_type": "code",
   "execution_count": 55,
   "metadata": {},
   "outputs": [
    {
     "name": "stdout",
     "output_type": "stream",
     "text": [
      "MSE  :  6142786.368307506\n",
      "RMSE :  2478.464518266805\n"
     ]
    }
   ],
   "source": [
    "mse = mean_squared_error(y_test,y_pred)\n",
    "print(\"MSE  : \",mse)\n",
    "print(\"RMSE : \", np.sqrt(mse))"
   ]
  },
  {
   "cell_type": "code",
   "execution_count": null,
   "metadata": {},
   "outputs": [],
   "source": []
  },
  {
   "cell_type": "code",
   "execution_count": null,
   "metadata": {},
   "outputs": [],
   "source": []
  }
 ],
 "metadata": {
  "kernelspec": {
   "display_name": "Python 3",
   "language": "python",
   "name": "python3"
  },
  "language_info": {
   "codemirror_mode": {
    "name": "ipython",
    "version": 3
   },
   "file_extension": ".py",
   "mimetype": "text/x-python",
   "name": "python",
   "nbconvert_exporter": "python",
   "pygments_lexer": "ipython3",
   "version": "3.8.8"
  }
 },
 "nbformat": 4,
 "nbformat_minor": 4
}
