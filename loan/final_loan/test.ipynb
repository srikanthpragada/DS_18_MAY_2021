{
 "cells": [
  {
   "cell_type": "code",
   "execution_count": 2,
   "metadata": {},
   "outputs": [],
   "source": [
    "# Importing required Packages\n",
    "import pandas as pd\n",
    "import numpy as np"
   ]
  },
  {
   "cell_type": "code",
   "execution_count": 3,
   "metadata": {},
   "outputs": [],
   "source": [
    "model = pd.read_pickle(\"lr_model_final.pkl\")"
   ]
  },
  {
   "cell_type": "code",
   "execution_count": 4,
   "metadata": {},
   "outputs": [],
   "source": [
    "clf = model['clf']"
   ]
  },
  {
   "cell_type": "code",
   "execution_count": 5,
   "metadata": {},
   "outputs": [
    {
     "data": {
      "text/plain": [
       "Index(['Dependents', 'LoanAmountTerm', 'CreditHistory', 'LoanAmountLog',\n",
       "       'IncomeLog', 'Gender_Female', 'Gender_Male', 'Married_No',\n",
       "       'Married_Yes', 'Education_Graduate', 'Education_Not Graduate',\n",
       "       'SelfEmployed_No', 'SelfEmployed_Yes', 'PropertyArea_Rural',\n",
       "       'PropertyArea_Semiurban', 'PropertyArea_Urban'],\n",
       "      dtype='object')"
      ]
     },
     "execution_count": 5,
     "metadata": {},
     "output_type": "execute_result"
    }
   ],
   "source": [
    "model['features']"
   ]
  },
  {
   "cell_type": "code",
   "execution_count": 6,
   "metadata": {},
   "outputs": [],
   "source": [
    "data = [[1,180,1,np.log(500),np.log(1000) ,0,1,0,1,1,0,0,1,0,0,1],\n",
    "        [3,360,0,np.log(500),np.log(10000),1,0,1,0,1,0,0,1,1,0,0]]        "
   ]
  },
  {
   "cell_type": "code",
   "execution_count": 7,
   "metadata": {},
   "outputs": [],
   "source": [
    "X = np.array(data)  # Convert it to matrix "
   ]
  },
  {
   "cell_type": "code",
   "execution_count": 8,
   "metadata": {},
   "outputs": [],
   "source": [
    "ss = model['scaler']"
   ]
  },
  {
   "cell_type": "code",
   "execution_count": 9,
   "metadata": {},
   "outputs": [],
   "source": [
    "X = ss.transform(X)"
   ]
  },
  {
   "cell_type": "code",
   "execution_count": 10,
   "metadata": {},
   "outputs": [
    {
     "data": {
      "text/plain": [
       "array([[ 0.24409662, -2.54923804,  0.43286074,  2.75896033, -3.24364231,\n",
       "        -0.46705733,  0.46705733, -0.73838031,  0.73838031,  0.52262577,\n",
       "        -0.52262577, -2.55342907,  2.55342907, -0.64306596, -0.79079721,\n",
       "         1.44875847],\n",
       "       [ 2.21081798,  0.27287055, -2.31021182,  2.75896033,  1.00165086,\n",
       "         2.14106479, -2.14106479,  1.35431564, -1.35431564,  0.52262577,\n",
       "        -0.52262577, -2.55342907,  2.55342907,  1.55505042, -0.79079721,\n",
       "        -0.69024618]])"
      ]
     },
     "execution_count": 10,
     "metadata": {},
     "output_type": "execute_result"
    }
   ],
   "source": [
    "X"
   ]
  },
  {
   "cell_type": "code",
   "execution_count": 11,
   "metadata": {},
   "outputs": [
    {
     "data": {
      "text/plain": [
       "array([1, 0], dtype=int64)"
      ]
     },
     "execution_count": 11,
     "metadata": {},
     "output_type": "execute_result"
    }
   ],
   "source": [
    "clf.predict(X)"
   ]
  }
 ],
 "metadata": {
  "kernelspec": {
   "display_name": "Python 3",
   "language": "python",
   "name": "python3"
  },
  "language_info": {
   "codemirror_mode": {
    "name": "ipython",
    "version": 3
   },
   "file_extension": ".py",
   "mimetype": "text/x-python",
   "name": "python",
   "nbconvert_exporter": "python",
   "pygments_lexer": "ipython3",
   "version": "3.7.6"
  }
 },
 "nbformat": 4,
 "nbformat_minor": 4
}
