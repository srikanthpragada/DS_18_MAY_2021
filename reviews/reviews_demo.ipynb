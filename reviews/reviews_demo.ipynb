{
 "cells": [
  {
   "cell_type": "code",
   "execution_count": 138,
   "metadata": {},
   "outputs": [],
   "source": [
    "import pandas as pd\n",
    "import seaborn as sns\n",
    "import numpy as np"
   ]
  },
  {
   "cell_type": "code",
   "execution_count": 139,
   "metadata": {},
   "outputs": [],
   "source": [
    "df =  pd.DataFrame( [('Awesome food','p'),\n",
    "                     ('Pathatic service. Not worth at all.','n'),\n",
    "                     ('Very good service. Fantanstic Gym','p'),\n",
    "                     ('I like everything about it','p'),\n",
    "                     ('Bad room service. Costly food. Unfriendly staff.','n'),\n",
    "                     ('Untidy room. Bad room service.','n'),\n",
    "                     ('Worst food. Unfriendly staff.','n'),\n",
    "                    ])"
   ]
  },
  {
   "cell_type": "code",
   "execution_count": 140,
   "metadata": {},
   "outputs": [],
   "source": [
    "df.columns = ('review','type')"
   ]
  },
  {
   "cell_type": "code",
   "execution_count": 141,
   "metadata": {},
   "outputs": [
    {
     "data": {
      "text/html": [
       "<div>\n",
       "<style scoped>\n",
       "    .dataframe tbody tr th:only-of-type {\n",
       "        vertical-align: middle;\n",
       "    }\n",
       "\n",
       "    .dataframe tbody tr th {\n",
       "        vertical-align: top;\n",
       "    }\n",
       "\n",
       "    .dataframe thead th {\n",
       "        text-align: right;\n",
       "    }\n",
       "</style>\n",
       "<table border=\"1\" class=\"dataframe\">\n",
       "  <thead>\n",
       "    <tr style=\"text-align: right;\">\n",
       "      <th></th>\n",
       "      <th>review</th>\n",
       "      <th>type</th>\n",
       "    </tr>\n",
       "  </thead>\n",
       "  <tbody>\n",
       "    <tr>\n",
       "      <th>0</th>\n",
       "      <td>Awesome food</td>\n",
       "      <td>p</td>\n",
       "    </tr>\n",
       "    <tr>\n",
       "      <th>1</th>\n",
       "      <td>Pathatic service. Not worth at all.</td>\n",
       "      <td>n</td>\n",
       "    </tr>\n",
       "    <tr>\n",
       "      <th>2</th>\n",
       "      <td>Very good service. Fantanstic Gym</td>\n",
       "      <td>p</td>\n",
       "    </tr>\n",
       "    <tr>\n",
       "      <th>3</th>\n",
       "      <td>I like everything about it</td>\n",
       "      <td>p</td>\n",
       "    </tr>\n",
       "    <tr>\n",
       "      <th>4</th>\n",
       "      <td>Bad room service. Costly food. Unfriendly staff.</td>\n",
       "      <td>n</td>\n",
       "    </tr>\n",
       "    <tr>\n",
       "      <th>5</th>\n",
       "      <td>Untidy room. Bad room service.</td>\n",
       "      <td>n</td>\n",
       "    </tr>\n",
       "    <tr>\n",
       "      <th>6</th>\n",
       "      <td>Worst food. Unfriendly staff.</td>\n",
       "      <td>n</td>\n",
       "    </tr>\n",
       "  </tbody>\n",
       "</table>\n",
       "</div>"
      ],
      "text/plain": [
       "                                             review type\n",
       "0                                      Awesome food    p\n",
       "1               Pathatic service. Not worth at all.    n\n",
       "2                 Very good service. Fantanstic Gym    p\n",
       "3                        I like everything about it    p\n",
       "4  Bad room service. Costly food. Unfriendly staff.    n\n",
       "5                    Untidy room. Bad room service.    n\n",
       "6                     Worst food. Unfriendly staff.    n"
      ]
     },
     "execution_count": 141,
     "metadata": {},
     "output_type": "execute_result"
    }
   ],
   "source": [
    "df"
   ]
  },
  {
   "cell_type": "code",
   "execution_count": 142,
   "metadata": {},
   "outputs": [],
   "source": [
    "from sklearn.feature_extraction.text import TfidfVectorizer\n",
    "from sklearn.model_selection import train_test_split \n",
    "from sklearn.metrics import accuracy_score\n",
    "from sklearn.metrics import confusion_matrix\n",
    "from sklearn.linear_model import LogisticRegression"
   ]
  },
  {
   "cell_type": "code",
   "execution_count": 143,
   "metadata": {},
   "outputs": [],
   "source": [
    "X = df['review']\n",
    "y = df['type']"
   ]
  },
  {
   "cell_type": "code",
   "execution_count": 144,
   "metadata": {},
   "outputs": [],
   "source": [
    "# tf-idf means term-frequency times inverse document-frequency. \n",
    "tfidf = TfidfVectorizer(ngram_range=(1,1), stop_words='english')\n",
    "tfidf.fit(X)\n",
    "features = tfidf.transform(X)"
   ]
  },
  {
   "cell_type": "code",
   "execution_count": 145,
   "metadata": {},
   "outputs": [
    {
     "data": {
      "text/plain": [
       "(7, 16)"
      ]
     },
     "execution_count": 145,
     "metadata": {},
     "output_type": "execute_result"
    }
   ],
   "source": [
    "features.shape"
   ]
  },
  {
   "cell_type": "code",
   "execution_count": 146,
   "metadata": {},
   "outputs": [],
   "source": [
    "df_features = pd.DataFrame(features.toarray())"
   ]
  },
  {
   "cell_type": "code",
   "execution_count": 147,
   "metadata": {},
   "outputs": [],
   "source": [
    "column_names = tfidf.get_feature_names()"
   ]
  },
  {
   "cell_type": "code",
   "execution_count": 148,
   "metadata": {},
   "outputs": [],
   "source": [
    "df_features.columns = column_names"
   ]
  },
  {
   "cell_type": "code",
   "execution_count": 149,
   "metadata": {},
   "outputs": [],
   "source": [
    "df_features['type'] = y"
   ]
  },
  {
   "cell_type": "code",
   "execution_count": 150,
   "metadata": {},
   "outputs": [
    {
     "data": {
      "text/html": [
       "<div>\n",
       "<style scoped>\n",
       "    .dataframe tbody tr th:only-of-type {\n",
       "        vertical-align: middle;\n",
       "    }\n",
       "\n",
       "    .dataframe tbody tr th {\n",
       "        vertical-align: top;\n",
       "    }\n",
       "\n",
       "    .dataframe thead th {\n",
       "        text-align: right;\n",
       "    }\n",
       "</style>\n",
       "<table border=\"1\" class=\"dataframe\">\n",
       "  <thead>\n",
       "    <tr style=\"text-align: right;\">\n",
       "      <th></th>\n",
       "      <th>awesome</th>\n",
       "      <th>bad</th>\n",
       "      <th>costly</th>\n",
       "      <th>fantanstic</th>\n",
       "      <th>food</th>\n",
       "      <th>good</th>\n",
       "      <th>gym</th>\n",
       "      <th>like</th>\n",
       "      <th>pathatic</th>\n",
       "      <th>room</th>\n",
       "      <th>service</th>\n",
       "      <th>staff</th>\n",
       "      <th>unfriendly</th>\n",
       "      <th>untidy</th>\n",
       "      <th>worst</th>\n",
       "      <th>worth</th>\n",
       "      <th>type</th>\n",
       "    </tr>\n",
       "  </thead>\n",
       "  <tbody>\n",
       "    <tr>\n",
       "      <th>0</th>\n",
       "      <td>0.815564</td>\n",
       "      <td>0.000000</td>\n",
       "      <td>0.000000</td>\n",
       "      <td>0.00000</td>\n",
       "      <td>0.578667</td>\n",
       "      <td>0.00000</td>\n",
       "      <td>0.00000</td>\n",
       "      <td>0.0</td>\n",
       "      <td>0.000000</td>\n",
       "      <td>0.000000</td>\n",
       "      <td>0.000000</td>\n",
       "      <td>0.000000</td>\n",
       "      <td>0.000000</td>\n",
       "      <td>0.000000</td>\n",
       "      <td>0.0000</td>\n",
       "      <td>0.000000</td>\n",
       "      <td>p</td>\n",
       "    </tr>\n",
       "    <tr>\n",
       "      <th>1</th>\n",
       "      <td>0.000000</td>\n",
       "      <td>0.000000</td>\n",
       "      <td>0.000000</td>\n",
       "      <td>0.00000</td>\n",
       "      <td>0.000000</td>\n",
       "      <td>0.00000</td>\n",
       "      <td>0.00000</td>\n",
       "      <td>0.0</td>\n",
       "      <td>0.648275</td>\n",
       "      <td>0.000000</td>\n",
       "      <td>0.399350</td>\n",
       "      <td>0.000000</td>\n",
       "      <td>0.000000</td>\n",
       "      <td>0.000000</td>\n",
       "      <td>0.0000</td>\n",
       "      <td>0.648275</td>\n",
       "      <td>n</td>\n",
       "    </tr>\n",
       "    <tr>\n",
       "      <th>2</th>\n",
       "      <td>0.000000</td>\n",
       "      <td>0.000000</td>\n",
       "      <td>0.000000</td>\n",
       "      <td>0.54397</td>\n",
       "      <td>0.000000</td>\n",
       "      <td>0.54397</td>\n",
       "      <td>0.54397</td>\n",
       "      <td>0.0</td>\n",
       "      <td>0.000000</td>\n",
       "      <td>0.000000</td>\n",
       "      <td>0.335096</td>\n",
       "      <td>0.000000</td>\n",
       "      <td>0.000000</td>\n",
       "      <td>0.000000</td>\n",
       "      <td>0.0000</td>\n",
       "      <td>0.000000</td>\n",
       "      <td>p</td>\n",
       "    </tr>\n",
       "    <tr>\n",
       "      <th>3</th>\n",
       "      <td>0.000000</td>\n",
       "      <td>0.000000</td>\n",
       "      <td>0.000000</td>\n",
       "      <td>0.00000</td>\n",
       "      <td>0.000000</td>\n",
       "      <td>0.00000</td>\n",
       "      <td>0.00000</td>\n",
       "      <td>1.0</td>\n",
       "      <td>0.000000</td>\n",
       "      <td>0.000000</td>\n",
       "      <td>0.000000</td>\n",
       "      <td>0.000000</td>\n",
       "      <td>0.000000</td>\n",
       "      <td>0.000000</td>\n",
       "      <td>0.0000</td>\n",
       "      <td>0.000000</td>\n",
       "      <td>p</td>\n",
       "    </tr>\n",
       "    <tr>\n",
       "      <th>4</th>\n",
       "      <td>0.000000</td>\n",
       "      <td>0.385396</td>\n",
       "      <td>0.464284</td>\n",
       "      <td>0.00000</td>\n",
       "      <td>0.329424</td>\n",
       "      <td>0.00000</td>\n",
       "      <td>0.00000</td>\n",
       "      <td>0.0</td>\n",
       "      <td>0.000000</td>\n",
       "      <td>0.385396</td>\n",
       "      <td>0.286008</td>\n",
       "      <td>0.385396</td>\n",
       "      <td>0.385396</td>\n",
       "      <td>0.000000</td>\n",
       "      <td>0.0000</td>\n",
       "      <td>0.000000</td>\n",
       "      <td>n</td>\n",
       "    </tr>\n",
       "    <tr>\n",
       "      <th>5</th>\n",
       "      <td>0.000000</td>\n",
       "      <td>0.377910</td>\n",
       "      <td>0.000000</td>\n",
       "      <td>0.00000</td>\n",
       "      <td>0.000000</td>\n",
       "      <td>0.00000</td>\n",
       "      <td>0.00000</td>\n",
       "      <td>0.0</td>\n",
       "      <td>0.000000</td>\n",
       "      <td>0.755820</td>\n",
       "      <td>0.280453</td>\n",
       "      <td>0.000000</td>\n",
       "      <td>0.000000</td>\n",
       "      <td>0.455266</td>\n",
       "      <td>0.0000</td>\n",
       "      <td>0.000000</td>\n",
       "      <td>n</td>\n",
       "    </tr>\n",
       "    <tr>\n",
       "      <th>6</th>\n",
       "      <td>0.000000</td>\n",
       "      <td>0.000000</td>\n",
       "      <td>0.000000</td>\n",
       "      <td>0.00000</td>\n",
       "      <td>0.417984</td>\n",
       "      <td>0.00000</td>\n",
       "      <td>0.00000</td>\n",
       "      <td>0.0</td>\n",
       "      <td>0.000000</td>\n",
       "      <td>0.000000</td>\n",
       "      <td>0.000000</td>\n",
       "      <td>0.489004</td>\n",
       "      <td>0.489004</td>\n",
       "      <td>0.000000</td>\n",
       "      <td>0.5891</td>\n",
       "      <td>0.000000</td>\n",
       "      <td>n</td>\n",
       "    </tr>\n",
       "  </tbody>\n",
       "</table>\n",
       "</div>"
      ],
      "text/plain": [
       "    awesome       bad    costly  fantanstic      food     good      gym  like  \\\n",
       "0  0.815564  0.000000  0.000000     0.00000  0.578667  0.00000  0.00000   0.0   \n",
       "1  0.000000  0.000000  0.000000     0.00000  0.000000  0.00000  0.00000   0.0   \n",
       "2  0.000000  0.000000  0.000000     0.54397  0.000000  0.54397  0.54397   0.0   \n",
       "3  0.000000  0.000000  0.000000     0.00000  0.000000  0.00000  0.00000   1.0   \n",
       "4  0.000000  0.385396  0.464284     0.00000  0.329424  0.00000  0.00000   0.0   \n",
       "5  0.000000  0.377910  0.000000     0.00000  0.000000  0.00000  0.00000   0.0   \n",
       "6  0.000000  0.000000  0.000000     0.00000  0.417984  0.00000  0.00000   0.0   \n",
       "\n",
       "   pathatic      room   service     staff  unfriendly    untidy   worst  \\\n",
       "0  0.000000  0.000000  0.000000  0.000000    0.000000  0.000000  0.0000   \n",
       "1  0.648275  0.000000  0.399350  0.000000    0.000000  0.000000  0.0000   \n",
       "2  0.000000  0.000000  0.335096  0.000000    0.000000  0.000000  0.0000   \n",
       "3  0.000000  0.000000  0.000000  0.000000    0.000000  0.000000  0.0000   \n",
       "4  0.000000  0.385396  0.286008  0.385396    0.385396  0.000000  0.0000   \n",
       "5  0.000000  0.755820  0.280453  0.000000    0.000000  0.455266  0.0000   \n",
       "6  0.000000  0.000000  0.000000  0.489004    0.489004  0.000000  0.5891   \n",
       "\n",
       "      worth type  \n",
       "0  0.000000    p  \n",
       "1  0.648275    n  \n",
       "2  0.000000    p  \n",
       "3  0.000000    p  \n",
       "4  0.000000    n  \n",
       "5  0.000000    n  \n",
       "6  0.000000    n  "
      ]
     },
     "execution_count": 150,
     "metadata": {},
     "output_type": "execute_result"
    }
   ],
   "source": [
    "df_features"
   ]
  },
  {
   "cell_type": "code",
   "execution_count": 151,
   "metadata": {},
   "outputs": [],
   "source": [
    "df_positives = df_features.loc[df_features.type == 'p'].drop(columns = ['type'])\n",
    "df_negatives = df_features.loc[df_features.type == 'n'].drop(columns = ['type'])"
   ]
  },
  {
   "cell_type": "code",
   "execution_count": 152,
   "metadata": {},
   "outputs": [
    {
     "data": {
      "text/html": [
       "<div>\n",
       "<style scoped>\n",
       "    .dataframe tbody tr th:only-of-type {\n",
       "        vertical-align: middle;\n",
       "    }\n",
       "\n",
       "    .dataframe tbody tr th {\n",
       "        vertical-align: top;\n",
       "    }\n",
       "\n",
       "    .dataframe thead th {\n",
       "        text-align: right;\n",
       "    }\n",
       "</style>\n",
       "<table border=\"1\" class=\"dataframe\">\n",
       "  <thead>\n",
       "    <tr style=\"text-align: right;\">\n",
       "      <th></th>\n",
       "      <th>awesome</th>\n",
       "      <th>bad</th>\n",
       "      <th>costly</th>\n",
       "      <th>fantanstic</th>\n",
       "      <th>food</th>\n",
       "      <th>good</th>\n",
       "      <th>gym</th>\n",
       "      <th>like</th>\n",
       "      <th>pathatic</th>\n",
       "      <th>room</th>\n",
       "      <th>service</th>\n",
       "      <th>staff</th>\n",
       "      <th>unfriendly</th>\n",
       "      <th>untidy</th>\n",
       "      <th>worst</th>\n",
       "      <th>worth</th>\n",
       "    </tr>\n",
       "  </thead>\n",
       "  <tbody>\n",
       "    <tr>\n",
       "      <th>0</th>\n",
       "      <td>0.815564</td>\n",
       "      <td>0.0</td>\n",
       "      <td>0.0</td>\n",
       "      <td>0.00000</td>\n",
       "      <td>0.578667</td>\n",
       "      <td>0.00000</td>\n",
       "      <td>0.00000</td>\n",
       "      <td>0.0</td>\n",
       "      <td>0.0</td>\n",
       "      <td>0.0</td>\n",
       "      <td>0.000000</td>\n",
       "      <td>0.0</td>\n",
       "      <td>0.0</td>\n",
       "      <td>0.0</td>\n",
       "      <td>0.0</td>\n",
       "      <td>0.0</td>\n",
       "    </tr>\n",
       "    <tr>\n",
       "      <th>2</th>\n",
       "      <td>0.000000</td>\n",
       "      <td>0.0</td>\n",
       "      <td>0.0</td>\n",
       "      <td>0.54397</td>\n",
       "      <td>0.000000</td>\n",
       "      <td>0.54397</td>\n",
       "      <td>0.54397</td>\n",
       "      <td>0.0</td>\n",
       "      <td>0.0</td>\n",
       "      <td>0.0</td>\n",
       "      <td>0.335096</td>\n",
       "      <td>0.0</td>\n",
       "      <td>0.0</td>\n",
       "      <td>0.0</td>\n",
       "      <td>0.0</td>\n",
       "      <td>0.0</td>\n",
       "    </tr>\n",
       "    <tr>\n",
       "      <th>3</th>\n",
       "      <td>0.000000</td>\n",
       "      <td>0.0</td>\n",
       "      <td>0.0</td>\n",
       "      <td>0.00000</td>\n",
       "      <td>0.000000</td>\n",
       "      <td>0.00000</td>\n",
       "      <td>0.00000</td>\n",
       "      <td>1.0</td>\n",
       "      <td>0.0</td>\n",
       "      <td>0.0</td>\n",
       "      <td>0.000000</td>\n",
       "      <td>0.0</td>\n",
       "      <td>0.0</td>\n",
       "      <td>0.0</td>\n",
       "      <td>0.0</td>\n",
       "      <td>0.0</td>\n",
       "    </tr>\n",
       "  </tbody>\n",
       "</table>\n",
       "</div>"
      ],
      "text/plain": [
       "    awesome  bad  costly  fantanstic      food     good      gym  like  \\\n",
       "0  0.815564  0.0     0.0     0.00000  0.578667  0.00000  0.00000   0.0   \n",
       "2  0.000000  0.0     0.0     0.54397  0.000000  0.54397  0.54397   0.0   \n",
       "3  0.000000  0.0     0.0     0.00000  0.000000  0.00000  0.00000   1.0   \n",
       "\n",
       "   pathatic  room   service  staff  unfriendly  untidy  worst  worth  \n",
       "0       0.0   0.0  0.000000    0.0         0.0     0.0    0.0    0.0  \n",
       "2       0.0   0.0  0.335096    0.0         0.0     0.0    0.0    0.0  \n",
       "3       0.0   0.0  0.000000    0.0         0.0     0.0    0.0    0.0  "
      ]
     },
     "execution_count": 152,
     "metadata": {},
     "output_type": "execute_result"
    }
   ],
   "source": [
    "df_positives"
   ]
  },
  {
   "cell_type": "code",
   "execution_count": 153,
   "metadata": {},
   "outputs": [
    {
     "name": "stdout",
     "output_type": "stream",
     "text": [
      "awesome 0.8155639275319199\n",
      "food 0.5786669855009094\n",
      "fantanstic 0.5439701462793114\n",
      "good 0.5439701462793114\n",
      "gym 0.5439701462793114\n",
      "like 1.0\n"
     ]
    }
   ],
   "source": [
    "# Take all columns except last column\n",
    "for row in df_positives.iterrows():\n",
    "    for idx,value in enumerate(row[1]):\n",
    "        if value > .5:\n",
    "            print(column_names[idx], value)"
   ]
  },
  {
   "cell_type": "code",
   "execution_count": 154,
   "metadata": {},
   "outputs": [
    {
     "name": "stdout",
     "output_type": "stream",
     "text": [
      "pathatic 0.6482745601805321\n",
      "worth 0.6482745601805321\n",
      "room 0.7558196722753507\n",
      "worst 0.5891004391952713\n"
     ]
    }
   ],
   "source": [
    "for row in df_negatives.iterrows():\n",
    "    for idx,value in enumerate(row[1]):\n",
    "        if isinstance(value,float) and value > .5:\n",
    "            print(column_names[idx], value)"
   ]
  }
 ],
 "metadata": {
  "kernelspec": {
   "display_name": "Python 3",
   "language": "python",
   "name": "python3"
  },
  "language_info": {
   "codemirror_mode": {
    "name": "ipython",
    "version": 3
   },
   "file_extension": ".py",
   "mimetype": "text/x-python",
   "name": "python",
   "nbconvert_exporter": "python",
   "pygments_lexer": "ipython3",
   "version": "3.8.8"
  }
 },
 "nbformat": 4,
 "nbformat_minor": 4
}
