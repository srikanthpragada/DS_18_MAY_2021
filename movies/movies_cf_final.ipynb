{
 "cells": [
  {
   "cell_type": "markdown",
   "metadata": {},
   "source": [
    "## Recommending movies using Collaborative Filtering "
   ]
  },
  {
   "cell_type": "code",
   "execution_count": 47,
   "metadata": {},
   "outputs": [],
   "source": [
    "import pandas as pd\n",
    "import numpy as np\n",
    "from scipy.spatial.distance import hamming"
   ]
  },
  {
   "cell_type": "code",
   "execution_count": 29,
   "metadata": {},
   "outputs": [],
   "source": [
    "import warnings\n",
    "warnings.simplefilter(action='ignore',category=Warning)"
   ]
  },
  {
   "cell_type": "code",
   "execution_count": 30,
   "metadata": {},
   "outputs": [],
   "source": [
    "df_ratings = pd.read_csv(\"recent_ratings.csv\")\n",
    "df_movies = pd.read_csv('recent_movies.csv')"
   ]
  },
  {
   "cell_type": "code",
   "execution_count": 31,
   "metadata": {},
   "outputs": [
    {
     "data": {
      "text/plain": [
       "((552, 4), (188, 4))"
      ]
     },
     "execution_count": 31,
     "metadata": {},
     "output_type": "execute_result"
    }
   ],
   "source": [
    "df_ratings.shape, df_movies.shape"
   ]
  },
  {
   "cell_type": "code",
   "execution_count": 32,
   "metadata": {},
   "outputs": [
    {
     "data": {
      "text/plain": [
       "63"
      ]
     },
     "execution_count": 32,
     "metadata": {},
     "output_type": "execute_result"
    }
   ],
   "source": [
    "df_ratings.userId.unique().size  # No. of unique users "
   ]
  },
  {
   "cell_type": "code",
   "execution_count": 33,
   "metadata": {},
   "outputs": [
    {
     "data": {
      "text/plain": [
       "188"
      ]
     },
     "execution_count": 33,
     "metadata": {},
     "output_type": "execute_result"
    }
   ],
   "source": [
    "df_ratings.movieId.unique().size  # No. of unique movies "
   ]
  },
  {
   "cell_type": "code",
   "execution_count": 34,
   "metadata": {},
   "outputs": [
    {
     "data": {
      "text/html": [
       "<div>\n",
       "<style scoped>\n",
       "    .dataframe tbody tr th:only-of-type {\n",
       "        vertical-align: middle;\n",
       "    }\n",
       "\n",
       "    .dataframe tbody tr th {\n",
       "        vertical-align: top;\n",
       "    }\n",
       "\n",
       "    .dataframe thead th {\n",
       "        text-align: right;\n",
       "    }\n",
       "</style>\n",
       "<table border=\"1\" class=\"dataframe\">\n",
       "  <thead>\n",
       "    <tr style=\"text-align: right;\">\n",
       "      <th></th>\n",
       "      <th>userId</th>\n",
       "      <th>movieId</th>\n",
       "      <th>rating</th>\n",
       "      <th>timestamp</th>\n",
       "    </tr>\n",
       "  </thead>\n",
       "  <tbody>\n",
       "    <tr>\n",
       "      <th>391</th>\n",
       "      <td>417</td>\n",
       "      <td>168250</td>\n",
       "      <td>3.0</td>\n",
       "      <td>1529285245</td>\n",
       "    </tr>\n",
       "    <tr>\n",
       "      <th>59</th>\n",
       "      <td>68</td>\n",
       "      <td>122918</td>\n",
       "      <td>3.5</td>\n",
       "      <td>1526947569</td>\n",
       "    </tr>\n",
       "    <tr>\n",
       "      <th>344</th>\n",
       "      <td>380</td>\n",
       "      <td>173291</td>\n",
       "      <td>2.0</td>\n",
       "      <td>1508110319</td>\n",
       "    </tr>\n",
       "    <tr>\n",
       "      <th>235</th>\n",
       "      <td>249</td>\n",
       "      <td>122926</td>\n",
       "      <td>4.5</td>\n",
       "      <td>1501416792</td>\n",
       "    </tr>\n",
       "    <tr>\n",
       "      <th>36</th>\n",
       "      <td>62</td>\n",
       "      <td>122912</td>\n",
       "      <td>4.0</td>\n",
       "      <td>1526028975</td>\n",
       "    </tr>\n",
       "  </tbody>\n",
       "</table>\n",
       "</div>"
      ],
      "text/plain": [
       "     userId  movieId  rating   timestamp\n",
       "391     417   168250     3.0  1529285245\n",
       "59       68   122918     3.5  1526947569\n",
       "344     380   173291     2.0  1508110319\n",
       "235     249   122926     4.5  1501416792\n",
       "36       62   122912     4.0  1526028975"
      ]
     },
     "execution_count": 34,
     "metadata": {},
     "output_type": "execute_result"
    }
   ],
   "source": [
    "df_ratings.sample(5)"
   ]
  },
  {
   "cell_type": "code",
   "execution_count": 35,
   "metadata": {},
   "outputs": [],
   "source": [
    "# Remove timestamp column  \n",
    "df_ratings.drop(columns='timestamp', inplace=True)"
   ]
  },
  {
   "cell_type": "code",
   "execution_count": 36,
   "metadata": {},
   "outputs": [
    {
     "data": {
      "text/html": [
       "<div>\n",
       "<style scoped>\n",
       "    .dataframe tbody tr th:only-of-type {\n",
       "        vertical-align: middle;\n",
       "    }\n",
       "\n",
       "    .dataframe tbody tr th {\n",
       "        vertical-align: top;\n",
       "    }\n",
       "\n",
       "    .dataframe thead th {\n",
       "        text-align: right;\n",
       "    }\n",
       "</style>\n",
       "<table border=\"1\" class=\"dataframe\">\n",
       "  <thead>\n",
       "    <tr style=\"text-align: right;\">\n",
       "      <th></th>\n",
       "      <th>userId</th>\n",
       "      <th>movieId</th>\n",
       "      <th>rating</th>\n",
       "    </tr>\n",
       "  </thead>\n",
       "  <tbody>\n",
       "    <tr>\n",
       "      <th>186</th>\n",
       "      <td>210</td>\n",
       "      <td>122918</td>\n",
       "      <td>5.0</td>\n",
       "    </tr>\n",
       "    <tr>\n",
       "      <th>114</th>\n",
       "      <td>111</td>\n",
       "      <td>181065</td>\n",
       "      <td>3.5</td>\n",
       "    </tr>\n",
       "    <tr>\n",
       "      <th>370</th>\n",
       "      <td>414</td>\n",
       "      <td>171765</td>\n",
       "      <td>4.0</td>\n",
       "    </tr>\n",
       "    <tr>\n",
       "      <th>209</th>\n",
       "      <td>212</td>\n",
       "      <td>180031</td>\n",
       "      <td>4.0</td>\n",
       "    </tr>\n",
       "    <tr>\n",
       "      <th>468</th>\n",
       "      <td>567</td>\n",
       "      <td>176419</td>\n",
       "      <td>3.0</td>\n",
       "    </tr>\n",
       "  </tbody>\n",
       "</table>\n",
       "</div>"
      ],
      "text/plain": [
       "     userId  movieId  rating\n",
       "186     210   122918     5.0\n",
       "114     111   181065     3.5\n",
       "370     414   171765     4.0\n",
       "209     212   180031     4.0\n",
       "468     567   176419     3.0"
      ]
     },
     "execution_count": 36,
     "metadata": {},
     "output_type": "execute_result"
    }
   ],
   "source": [
    "df_ratings.sample(5)"
   ]
  },
  {
   "cell_type": "code",
   "execution_count": 37,
   "metadata": {},
   "outputs": [],
   "source": [
    "# Get rating for each user and movie - userid is row label and movieid is column label \n",
    "ratings = df_ratings.pivot(\n",
    "    index='userId',\n",
    "    columns='movieId',\n",
    "    values='rating')"
   ]
  },
  {
   "cell_type": "code",
   "execution_count": 38,
   "metadata": {},
   "outputs": [
    {
     "data": {
      "text/html": [
       "<div>\n",
       "<style scoped>\n",
       "    .dataframe tbody tr th:only-of-type {\n",
       "        vertical-align: middle;\n",
       "    }\n",
       "\n",
       "    .dataframe tbody tr th {\n",
       "        vertical-align: top;\n",
       "    }\n",
       "\n",
       "    .dataframe thead th {\n",
       "        text-align: right;\n",
       "    }\n",
       "</style>\n",
       "<table border=\"1\" class=\"dataframe\">\n",
       "  <thead>\n",
       "    <tr style=\"text-align: right;\">\n",
       "      <th>movieId</th>\n",
       "      <th>122896</th>\n",
       "      <th>122898</th>\n",
       "      <th>122906</th>\n",
       "      <th>122912</th>\n",
       "      <th>122916</th>\n",
       "      <th>122918</th>\n",
       "      <th>122926</th>\n",
       "      <th>143355</th>\n",
       "      <th>166534</th>\n",
       "      <th>167064</th>\n",
       "      <th>...</th>\n",
       "      <th>189381</th>\n",
       "      <th>189713</th>\n",
       "      <th>190183</th>\n",
       "      <th>190209</th>\n",
       "      <th>190215</th>\n",
       "      <th>191005</th>\n",
       "      <th>193581</th>\n",
       "      <th>193583</th>\n",
       "      <th>193585</th>\n",
       "      <th>193587</th>\n",
       "    </tr>\n",
       "    <tr>\n",
       "      <th>userId</th>\n",
       "      <th></th>\n",
       "      <th></th>\n",
       "      <th></th>\n",
       "      <th></th>\n",
       "      <th></th>\n",
       "      <th></th>\n",
       "      <th></th>\n",
       "      <th></th>\n",
       "      <th></th>\n",
       "      <th></th>\n",
       "      <th></th>\n",
       "      <th></th>\n",
       "      <th></th>\n",
       "      <th></th>\n",
       "      <th></th>\n",
       "      <th></th>\n",
       "      <th></th>\n",
       "      <th></th>\n",
       "      <th></th>\n",
       "      <th></th>\n",
       "      <th></th>\n",
       "    </tr>\n",
       "  </thead>\n",
       "  <tbody>\n",
       "    <tr>\n",
       "      <th>153</th>\n",
       "      <td>NaN</td>\n",
       "      <td>NaN</td>\n",
       "      <td>NaN</td>\n",
       "      <td>NaN</td>\n",
       "      <td>NaN</td>\n",
       "      <td>NaN</td>\n",
       "      <td>NaN</td>\n",
       "      <td>NaN</td>\n",
       "      <td>NaN</td>\n",
       "      <td>NaN</td>\n",
       "      <td>...</td>\n",
       "      <td>NaN</td>\n",
       "      <td>NaN</td>\n",
       "      <td>NaN</td>\n",
       "      <td>NaN</td>\n",
       "      <td>NaN</td>\n",
       "      <td>NaN</td>\n",
       "      <td>NaN</td>\n",
       "      <td>NaN</td>\n",
       "      <td>NaN</td>\n",
       "      <td>NaN</td>\n",
       "    </tr>\n",
       "    <tr>\n",
       "      <th>414</th>\n",
       "      <td>NaN</td>\n",
       "      <td>NaN</td>\n",
       "      <td>4.0</td>\n",
       "      <td>NaN</td>\n",
       "      <td>4.0</td>\n",
       "      <td>4.0</td>\n",
       "      <td>4.5</td>\n",
       "      <td>4.5</td>\n",
       "      <td>NaN</td>\n",
       "      <td>NaN</td>\n",
       "      <td>...</td>\n",
       "      <td>NaN</td>\n",
       "      <td>NaN</td>\n",
       "      <td>NaN</td>\n",
       "      <td>NaN</td>\n",
       "      <td>NaN</td>\n",
       "      <td>NaN</td>\n",
       "      <td>NaN</td>\n",
       "      <td>NaN</td>\n",
       "      <td>NaN</td>\n",
       "      <td>NaN</td>\n",
       "    </tr>\n",
       "    <tr>\n",
       "      <th>556</th>\n",
       "      <td>NaN</td>\n",
       "      <td>NaN</td>\n",
       "      <td>NaN</td>\n",
       "      <td>NaN</td>\n",
       "      <td>NaN</td>\n",
       "      <td>NaN</td>\n",
       "      <td>NaN</td>\n",
       "      <td>NaN</td>\n",
       "      <td>NaN</td>\n",
       "      <td>NaN</td>\n",
       "      <td>...</td>\n",
       "      <td>NaN</td>\n",
       "      <td>NaN</td>\n",
       "      <td>NaN</td>\n",
       "      <td>NaN</td>\n",
       "      <td>NaN</td>\n",
       "      <td>NaN</td>\n",
       "      <td>NaN</td>\n",
       "      <td>NaN</td>\n",
       "      <td>NaN</td>\n",
       "      <td>NaN</td>\n",
       "    </tr>\n",
       "    <tr>\n",
       "      <th>417</th>\n",
       "      <td>NaN</td>\n",
       "      <td>NaN</td>\n",
       "      <td>NaN</td>\n",
       "      <td>NaN</td>\n",
       "      <td>NaN</td>\n",
       "      <td>NaN</td>\n",
       "      <td>NaN</td>\n",
       "      <td>NaN</td>\n",
       "      <td>NaN</td>\n",
       "      <td>NaN</td>\n",
       "      <td>...</td>\n",
       "      <td>NaN</td>\n",
       "      <td>NaN</td>\n",
       "      <td>NaN</td>\n",
       "      <td>NaN</td>\n",
       "      <td>NaN</td>\n",
       "      <td>NaN</td>\n",
       "      <td>NaN</td>\n",
       "      <td>NaN</td>\n",
       "      <td>NaN</td>\n",
       "      <td>NaN</td>\n",
       "    </tr>\n",
       "    <tr>\n",
       "      <th>98</th>\n",
       "      <td>NaN</td>\n",
       "      <td>NaN</td>\n",
       "      <td>NaN</td>\n",
       "      <td>5.0</td>\n",
       "      <td>5.0</td>\n",
       "      <td>4.0</td>\n",
       "      <td>5.0</td>\n",
       "      <td>NaN</td>\n",
       "      <td>NaN</td>\n",
       "      <td>NaN</td>\n",
       "      <td>...</td>\n",
       "      <td>NaN</td>\n",
       "      <td>NaN</td>\n",
       "      <td>NaN</td>\n",
       "      <td>NaN</td>\n",
       "      <td>NaN</td>\n",
       "      <td>NaN</td>\n",
       "      <td>NaN</td>\n",
       "      <td>NaN</td>\n",
       "      <td>NaN</td>\n",
       "      <td>NaN</td>\n",
       "    </tr>\n",
       "  </tbody>\n",
       "</table>\n",
       "<p>5 rows × 188 columns</p>\n",
       "</div>"
      ],
      "text/plain": [
       "movieId  122896  122898  122906  122912  122916  122918  122926  143355  \\\n",
       "userId                                                                    \n",
       "153         NaN     NaN     NaN     NaN     NaN     NaN     NaN     NaN   \n",
       "414         NaN     NaN     4.0     NaN     4.0     4.0     4.5     4.5   \n",
       "556         NaN     NaN     NaN     NaN     NaN     NaN     NaN     NaN   \n",
       "417         NaN     NaN     NaN     NaN     NaN     NaN     NaN     NaN   \n",
       "98          NaN     NaN     NaN     5.0     5.0     4.0     5.0     NaN   \n",
       "\n",
       "movieId  166534  167064  ...  189381  189713  190183  190209  190215  191005  \\\n",
       "userId                   ...                                                   \n",
       "153         NaN     NaN  ...     NaN     NaN     NaN     NaN     NaN     NaN   \n",
       "414         NaN     NaN  ...     NaN     NaN     NaN     NaN     NaN     NaN   \n",
       "556         NaN     NaN  ...     NaN     NaN     NaN     NaN     NaN     NaN   \n",
       "417         NaN     NaN  ...     NaN     NaN     NaN     NaN     NaN     NaN   \n",
       "98          NaN     NaN  ...     NaN     NaN     NaN     NaN     NaN     NaN   \n",
       "\n",
       "movieId  193581  193583  193585  193587  \n",
       "userId                                   \n",
       "153         NaN     NaN     NaN     NaN  \n",
       "414         NaN     NaN     NaN     NaN  \n",
       "556         NaN     NaN     NaN     NaN  \n",
       "417         NaN     NaN     NaN     NaN  \n",
       "98          NaN     NaN     NaN     NaN  \n",
       "\n",
       "[5 rows x 188 columns]"
      ]
     },
     "execution_count": 38,
     "metadata": {},
     "output_type": "execute_result"
    }
   ],
   "source": [
    "ratings.sample(5)"
   ]
  },
  {
   "cell_type": "markdown",
   "metadata": {},
   "source": [
    "### Hamming Distance\n",
    "Measures how different two sequences are. It is % of disagreement. A value of 1 indicates sequences are very different, 0 indicates they are very similar."
   ]
  },
  {
   "cell_type": "code",
   "execution_count": 39,
   "metadata": {},
   "outputs": [
    {
     "name": "stdout",
     "output_type": "stream",
     "text": [
      "0.0\n",
      "0.6666666666666666\n"
     ]
    }
   ],
   "source": [
    "l1 = (1,2,3)\n",
    "l2 = (1,2,3)\n",
    "l3 = (1,4,5)\n",
    "print(hamming(l1,l2))\n",
    "print(hamming(l1,l3))"
   ]
  },
  {
   "cell_type": "code",
   "execution_count": 40,
   "metadata": {},
   "outputs": [],
   "source": [
    "# Find out hamming distance between two users\n",
    "def hamming_distance(user1,user2):\n",
    "    # Ratings of a user \n",
    "    try:\n",
    "        user1_ratings = ratings.loc[user1,:]\n",
    "        user2_ratings = ratings.loc[user2,:]\n",
    "        distance = hamming(user1_ratings, user2_ratings)\n",
    "    except:\n",
    "        distance = np.NaN\n",
    "\n",
    "    return distance    "
   ]
  },
  {
   "cell_type": "code",
   "execution_count": 41,
   "metadata": {},
   "outputs": [],
   "source": [
    "# Get neighbours of the give user \n",
    "def get_nearest_users(active_user, k = 10):\n",
    "    all_users = pd.DataFrame(ratings.index) # UserIds \n",
    "    other_users = all_users[all_users.userId != active_user]\n",
    "    \n",
    "    other_users['distance'] = other_users['userId'].apply(lambda x: hamming_distance(active_user,x))\n",
    "    \n",
    "    # find out hamming distance and return users with low hamming distance from active user \n",
    "    return  other_users.sort_values(['distance'], ascending = True).userId[:k]"
   ]
  },
  {
   "cell_type": "code",
   "execution_count": 42,
   "metadata": {},
   "outputs": [],
   "source": [
    "def get_recommended_movies(ratings,movies, user,top=5):\n",
    "    # Find out nearest neighbours based on hamming distance \n",
    "    nn_users = get_nearest_users(user,10)\n",
    "    \n",
    "    # Get ratings of other nearest neighbours(users)\n",
    "    nn_ratings = ratings[ratings.index.isin(nn_users)]\n",
    "    \n",
    "    # Average ratings gived by nearest neighbours for all movies\n",
    "    avg_ratings = nn_ratings.apply(np.nanmean).dropna()\n",
    "    \n",
    "    # Find out movies that user had already watched\n",
    "    movies_watched = ratings.transpose()[user].dropna().index\n",
    "    \n",
    "    # remove movies that user already watched\n",
    "    avg_ratings = avg_ratings[~ avg_ratings.index.isin(movies_watched)]\n",
    "    \n",
    "    # Findout top n movies based on avg ratings given by other nearest neighbours \n",
    "    top_movies_ids = avg_ratings.sort_values(ascending=False).index[:top]\n",
    "   \n",
    "    # Return recommended movies \n",
    "    return movies[movies.movieId.isin(top_movies_ids)].title"
   ]
  },
  {
   "cell_type": "code",
   "execution_count": 43,
   "metadata": {},
   "outputs": [
    {
     "data": {
      "text/plain": [
       "array([ 18,  21,  25,  49,  50,  62,  68,  89,  98, 103, 105, 111, 119,\n",
       "       125, 153, 184, 205, 209, 210, 212, 233, 248, 249, 252, 258, 272,\n",
       "       279, 296, 305, 306, 318, 331, 338, 339, 362, 363, 380, 400, 401,\n",
       "       414, 417, 433, 448, 459, 462, 471, 475, 491, 511, 514, 515, 517,\n",
       "       523, 548, 551, 556, 561, 567, 586, 596, 599, 601, 610], dtype=int64)"
      ]
     },
     "execution_count": 43,
     "metadata": {},
     "output_type": "execute_result"
    }
   ],
   "source": [
    "df_ratings.userId.unique()    # Unique userids"
   ]
  },
  {
   "cell_type": "code",
   "execution_count": 44,
   "metadata": {},
   "outputs": [
    {
     "data": {
      "text/plain": [
       "22                                 The Boss Baby (2017)\n",
       "56                               Tickling Giants (2017)\n",
       "97     Three Billboards Outside Ebbing, Missouri (2017)\n",
       "105                                 Paddington 2 (2017)\n",
       "145                                 Isle of Dogs (2018)\n",
       "Name: title, dtype: object"
      ]
     },
     "execution_count": 44,
     "metadata": {},
     "output_type": "execute_result"
    }
   ],
   "source": [
    "get_recommended_movies(ratings,df_movies,249,5)"
   ]
  },
  {
   "cell_type": "code",
   "execution_count": 45,
   "metadata": {},
   "outputs": [
    {
     "data": {
      "text/plain": [
       "3               Avengers: Infinity War - Part I (2018)\n",
       "12                        The Lego Batman Movie (2017)\n",
       "15                       John Wick: Chapter Two (2017)\n",
       "20                                 The Big Sick (2017)\n",
       "97    Three Billboards Outside Ebbing, Missouri (2017)\n",
       "Name: title, dtype: object"
      ]
     },
     "execution_count": 45,
     "metadata": {},
     "output_type": "execute_result"
    }
   ],
   "source": [
    "get_recommended_movies(ratings,df_movies, 433,5)"
   ]
  },
  {
   "cell_type": "code",
   "execution_count": 46,
   "metadata": {},
   "outputs": [
    {
     "data": {
      "text/plain": [
       "3                Avengers: Infinity War - Part I (2018)\n",
       "6                     Untitled Spider-Man Reboot (2017)\n",
       "8                                          Split (2017)\n",
       "58                                    The Square (2017)\n",
       "65                                 Seven Sisters (2017)\n",
       "90                                        Icarus (2017)\n",
       "97     Three Billboards Outside Ebbing, Missouri (2017)\n",
       "157                                A Quiet Place (2018)\n",
       "158                                        Alpha (2018)\n",
       "166                                   Deadpool 2 (2018)\n",
       "Name: title, dtype: object"
      ]
     },
     "execution_count": 46,
     "metadata": {},
     "output_type": "execute_result"
    }
   ],
   "source": [
    "get_recommended_movies(ratings,df_movies, 125,10)"
   ]
  },
  {
   "cell_type": "code",
   "execution_count": null,
   "metadata": {},
   "outputs": [],
   "source": []
  }
 ],
 "metadata": {
  "kernelspec": {
   "display_name": "Python 3",
   "language": "python",
   "name": "python3"
  },
  "language_info": {
   "codemirror_mode": {
    "name": "ipython",
    "version": 3
   },
   "file_extension": ".py",
   "mimetype": "text/x-python",
   "name": "python",
   "nbconvert_exporter": "python",
   "pygments_lexer": "ipython3",
   "version": "3.8.5"
  }
 },
 "nbformat": 4,
 "nbformat_minor": 4
}
